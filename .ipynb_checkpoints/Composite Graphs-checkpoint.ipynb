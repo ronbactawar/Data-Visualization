{
 "cells": [
  {
   "cell_type": "code",
   "execution_count": 1,
   "metadata": {
    "nteract": {
     "transient": {
      "deleting": false
     }
    }
   },
   "outputs": [],
   "source": [
    "using DataFrames\n",
    "using Queryverse\n",
    "using VegaLite\n",
    "using VegaDatasets"
   ]
  },
  {
   "cell_type": "markdown",
   "metadata": {
    "nteract": {
     "transient": {
      "deleting": false
     }
    }
   },
   "source": [
    "# Composite Graphs (Error Bands, Box Plots etc.)"
   ]
  },
  {
   "cell_type": "code",
   "execution_count": 2,
   "metadata": {
    "collapsed": false,
    "jupyter": {
     "outputs_hidden": false,
     "source_hidden": false
    },
    "nteract": {
     "transient": {
      "deleting": false
     }
    }
   },
   "outputs": [
    {
     "data": {
      "text/html": [
       "<div class=\"data-frame\"><p>4 rows × 5 columns</p><table class=\"data-frame\"><thead><tr><th></th><th>Name</th><th>Year</th><th>Origin</th><th>Miles_per_Gallon</th><th>Horsepower</th></tr><tr><th></th><th title=\"String\">String</th><th title=\"String\">String</th><th title=\"String\">String</th><th title=\"Union{Missing, Float64}\">Float64?</th><th title=\"Union{Missing, Int64}\">Int64?</th></tr></thead><tbody><tr><th>1</th><td>chevrolet chevelle malibu</td><td>1970-01-01</td><td>USA</td><td>18.0</td><td>130</td></tr><tr><th>2</th><td>buick skylark 320</td><td>1970-01-01</td><td>USA</td><td>15.0</td><td>165</td></tr><tr><th>3</th><td>plymouth satellite</td><td>1970-01-01</td><td>USA</td><td>18.0</td><td>150</td></tr><tr><th>4</th><td>amc rebel sst</td><td>1970-01-01</td><td>USA</td><td>16.0</td><td>150</td></tr></tbody></table></div>"
      ],
      "text/latex": [
       "\\begin{tabular}{r|ccccc}\n",
       "\t& Name & Year & Origin & Miles\\_per\\_Gallon & Horsepower\\\\\n",
       "\t\\hline\n",
       "\t& String & String & String & Float64? & Int64?\\\\\n",
       "\t\\hline\n",
       "\t1 & chevrolet chevelle malibu & 1970-01-01 & USA & 18.0 & 130 \\\\\n",
       "\t2 & buick skylark 320 & 1970-01-01 & USA & 15.0 & 165 \\\\\n",
       "\t3 & plymouth satellite & 1970-01-01 & USA & 18.0 & 150 \\\\\n",
       "\t4 & amc rebel sst & 1970-01-01 & USA & 16.0 & 150 \\\\\n",
       "\\end{tabular}\n"
      ],
      "text/plain": [
       "\u001b[1m4×5 DataFrame\u001b[0m\n",
       "\u001b[1m Row \u001b[0m│\u001b[1m Name                      \u001b[0m\u001b[1m Year       \u001b[0m\u001b[1m Origin \u001b[0m\u001b[1m Miles_per_Gallon \u001b[0m\u001b[1m Horsep\u001b[0m ⋯\n",
       "\u001b[1m     \u001b[0m│\u001b[90m String                    \u001b[0m\u001b[90m String     \u001b[0m\u001b[90m String \u001b[0m\u001b[90m Float64?         \u001b[0m\u001b[90m Int64?\u001b[0m ⋯\n",
       "─────┼──────────────────────────────────────────────────────────────────────────\n",
       "   1 │ chevrolet chevelle malibu  1970-01-01  USA                 18.0         ⋯\n",
       "   2 │ buick skylark 320          1970-01-01  USA                 15.0\n",
       "   3 │ plymouth satellite         1970-01-01  USA                 18.0\n",
       "   4 │ amc rebel sst              1970-01-01  USA                 16.0\n",
       "\u001b[36m                                                                1 column omitted\u001b[0m"
      ]
     },
     "execution_count": 2,
     "metadata": {},
     "output_type": "execute_result"
    }
   ],
   "source": [
    "# Bring in Cars data set\n",
    "cars  = dataset(\"cars\") |> \n",
    "@select(:Name, :Year, :Origin, :Miles_per_Gallon, :Horsepower) |>\n",
    "DataFrame;\n",
    "\n",
    "first(cars, 4) "
   ]
  },
  {
   "cell_type": "markdown",
   "metadata": {
    "nteract": {
     "transient": {
      "deleting": false
     }
    }
   },
   "source": [
    "## Line Chart with Confidence Interval Band"
   ]
  },
  {
   "cell_type": "code",
   "execution_count": 3,
   "metadata": {
    "nteract": {
     "transient": {
      "deleting": false
     }
    }
   },
   "outputs": [
    {
     "data": {
      "application/vnd.vegalite.v4+json": {
       "data": {
        "values": [
         {
          "Horsepower": 130,
          "Miles_per_Gallon": 18,
          "Name": "chevrolet chevelle malibu",
          "Origin": "USA",
          "Year": "1970-01-01"
         },
         {
          "Horsepower": 165,
          "Miles_per_Gallon": 15,
          "Name": "buick skylark 320",
          "Origin": "USA",
          "Year": "1970-01-01"
         },
         {
          "Horsepower": 150,
          "Miles_per_Gallon": 18,
          "Name": "plymouth satellite",
          "Origin": "USA",
          "Year": "1970-01-01"
         },
         {
          "Horsepower": 150,
          "Miles_per_Gallon": 16,
          "Name": "amc rebel sst",
          "Origin": "USA",
          "Year": "1970-01-01"
         },
         {
          "Horsepower": 140,
          "Miles_per_Gallon": 17,
          "Name": "ford torino",
          "Origin": "USA",
          "Year": "1970-01-01"
         },
         {
          "Horsepower": 198,
          "Miles_per_Gallon": 15,
          "Name": "ford galaxie 500",
          "Origin": "USA",
          "Year": "1970-01-01"
         },
         {
          "Horsepower": 220,
          "Miles_per_Gallon": 14,
          "Name": "chevrolet impala",
          "Origin": "USA",
          "Year": "1970-01-01"
         },
         {
          "Horsepower": 215,
          "Miles_per_Gallon": 14,
          "Name": "plymouth fury iii",
          "Origin": "USA",
          "Year": "1970-01-01"
         },
         {
          "Horsepower": 225,
          "Miles_per_Gallon": 14,
          "Name": "pontiac catalina",
          "Origin": "USA",
          "Year": "1970-01-01"
         },
         {
          "Horsepower": 190,
          "Miles_per_Gallon": 15,
          "Name": "amc ambassador dpl",
          "Origin": "USA",
          "Year": "1970-01-01"
         },
         {
          "Horsepower": 115,
          "Miles_per_Gallon": null,
          "Name": "citroen ds-21 pallas",
          "Origin": "Europe",
          "Year": "1970-01-01"
         },
         {
          "Horsepower": 165,
          "Miles_per_Gallon": null,
          "Name": "chevrolet chevelle concours (sw)",
          "Origin": "USA",
          "Year": "1970-01-01"
         },
         {
          "Horsepower": 153,
          "Miles_per_Gallon": null,
          "Name": "ford torino (sw)",
          "Origin": "USA",
          "Year": "1970-01-01"
         },
         {
          "Horsepower": 175,
          "Miles_per_Gallon": null,
          "Name": "plymouth satellite (sw)",
          "Origin": "USA",
          "Year": "1970-01-01"
         },
         {
          "Horsepower": 175,
          "Miles_per_Gallon": null,
          "Name": "amc rebel sst (sw)",
          "Origin": "USA",
          "Year": "1970-01-01"
         },
         {
          "Horsepower": 170,
          "Miles_per_Gallon": 15,
          "Name": "dodge challenger se",
          "Origin": "USA",
          "Year": "1970-01-01"
         },
         {
          "Horsepower": 160,
          "Miles_per_Gallon": 14,
          "Name": "plymouth 'cuda 340",
          "Origin": "USA",
          "Year": "1970-01-01"
         },
         {
          "Horsepower": 140,
          "Miles_per_Gallon": null,
          "Name": "ford mustang boss 302",
          "Origin": "USA",
          "Year": "1970-01-01"
         },
         {
          "Horsepower": 150,
          "Miles_per_Gallon": 15,
          "Name": "chevrolet monte carlo",
          "Origin": "USA",
          "Year": "1970-01-01"
         },
         {
          "Horsepower": 225,
          "Miles_per_Gallon": 14,
          "Name": "buick estate wagon (sw)",
          "Origin": "USA",
          "Year": "1970-01-01"
         },
         {
          "Horsepower": 95,
          "Miles_per_Gallon": 24,
          "Name": "toyota corona mark ii",
          "Origin": "Japan",
          "Year": "1970-01-01"
         },
         {
          "Horsepower": 95,
          "Miles_per_Gallon": 22,
          "Name": "plymouth duster",
          "Origin": "USA",
          "Year": "1970-01-01"
         },
         {
          "Horsepower": 97,
          "Miles_per_Gallon": 18,
          "Name": "amc hornet",
          "Origin": "USA",
          "Year": "1970-01-01"
         },
         {
          "Horsepower": 85,
          "Miles_per_Gallon": 21,
          "Name": "ford maverick",
          "Origin": "USA",
          "Year": "1970-01-01"
         },
         {
          "Horsepower": 88,
          "Miles_per_Gallon": 27,
          "Name": "datsun pl510",
          "Origin": "Japan",
          "Year": "1970-01-01"
         },
         {
          "Horsepower": 46,
          "Miles_per_Gallon": 26,
          "Name": "volkswagen 1131 deluxe sedan",
          "Origin": "Europe",
          "Year": "1970-01-01"
         },
         {
          "Horsepower": 87,
          "Miles_per_Gallon": 25,
          "Name": "peugeot 504",
          "Origin": "Europe",
          "Year": "1970-01-01"
         },
         {
          "Horsepower": 90,
          "Miles_per_Gallon": 24,
          "Name": "audi 100 ls",
          "Origin": "Europe",
          "Year": "1970-01-01"
         },
         {
          "Horsepower": 95,
          "Miles_per_Gallon": 25,
          "Name": "saab 99e",
          "Origin": "Europe",
          "Year": "1970-01-01"
         },
         {
          "Horsepower": 113,
          "Miles_per_Gallon": 26,
          "Name": "bmw 2002",
          "Origin": "Europe",
          "Year": "1970-01-01"
         },
         {
          "Horsepower": 90,
          "Miles_per_Gallon": 21,
          "Name": "amc gremlin",
          "Origin": "USA",
          "Year": "1970-01-01"
         },
         {
          "Horsepower": 215,
          "Miles_per_Gallon": 10,
          "Name": "ford f250",
          "Origin": "USA",
          "Year": "1970-01-01"
         },
         {
          "Horsepower": 200,
          "Miles_per_Gallon": 10,
          "Name": "chevy c20",
          "Origin": "USA",
          "Year": "1970-01-01"
         },
         {
          "Horsepower": 210,
          "Miles_per_Gallon": 11,
          "Name": "dodge d200",
          "Origin": "USA",
          "Year": "1970-01-01"
         },
         {
          "Horsepower": 193,
          "Miles_per_Gallon": 9,
          "Name": "hi 1200d",
          "Origin": "USA",
          "Year": "1970-01-01"
         },
         {
          "Horsepower": 88,
          "Miles_per_Gallon": 27,
          "Name": "datsun pl510",
          "Origin": "Japan",
          "Year": "1971-01-01"
         },
         {
          "Horsepower": 90,
          "Miles_per_Gallon": 28,
          "Name": "chevrolet vega 2300",
          "Origin": "USA",
          "Year": "1971-01-01"
         },
         {
          "Horsepower": 95,
          "Miles_per_Gallon": 25,
          "Name": "toyota corona",
          "Origin": "Japan",
          "Year": "1971-01-01"
         },
         {
          "Horsepower": null,
          "Miles_per_Gallon": 25,
          "Name": "ford pinto",
          "Origin": "USA",
          "Year": "1971-01-01"
         },
         {
          "Horsepower": 48,
          "Miles_per_Gallon": null,
          "Name": "volkswagen super beetle 117",
          "Origin": "Europe",
          "Year": "1971-01-01"
         },
         {
          "Horsepower": 100,
          "Miles_per_Gallon": 19,
          "Name": "amc gremlin",
          "Origin": "USA",
          "Year": "1971-01-01"
         },
         {
          "Horsepower": 105,
          "Miles_per_Gallon": 16,
          "Name": "plymouth satellite custom",
          "Origin": "USA",
          "Year": "1971-01-01"
         },
         {
          "Horsepower": 100,
          "Miles_per_Gallon": 17,
          "Name": "chevrolet chevelle malibu",
          "Origin": "USA",
          "Year": "1971-01-01"
         },
         {
          "Horsepower": 88,
          "Miles_per_Gallon": 19,
          "Name": "ford torino 500",
          "Origin": "USA",
          "Year": "1971-01-01"
         },
         {
          "Horsepower": 100,
          "Miles_per_Gallon": 18,
          "Name": "amc matador",
          "Origin": "USA",
          "Year": "1971-01-01"
         },
         {
          "Horsepower": 165,
          "Miles_per_Gallon": 14,
          "Name": "chevrolet impala",
          "Origin": "USA",
          "Year": "1971-01-01"
         },
         {
          "Horsepower": 175,
          "Miles_per_Gallon": 14,
          "Name": "pontiac catalina brougham",
          "Origin": "USA",
          "Year": "1971-01-01"
         },
         {
          "Horsepower": 153,
          "Miles_per_Gallon": 14,
          "Name": "ford galaxie 500",
          "Origin": "USA",
          "Year": "1971-01-01"
         },
         {
          "Horsepower": 150,
          "Miles_per_Gallon": 14,
          "Name": "plymouth fury iii",
          "Origin": "USA",
          "Year": "1971-01-01"
         },
         {
          "Horsepower": 180,
          "Miles_per_Gallon": 12,
          "Name": "dodge monaco (sw)",
          "Origin": "USA",
          "Year": "1971-01-01"
         },
         {
          "Horsepower": 170,
          "Miles_per_Gallon": 13,
          "Name": "ford country squire (sw)",
          "Origin": "USA",
          "Year": "1971-01-01"
         },
         {
          "Horsepower": 175,
          "Miles_per_Gallon": 13,
          "Name": "pontiac safari (sw)",
          "Origin": "USA",
          "Year": "1971-01-01"
         },
         {
          "Horsepower": 110,
          "Miles_per_Gallon": 18,
          "Name": "amc hornet sportabout (sw)",
          "Origin": "USA",
          "Year": "1971-01-01"
         },
         {
          "Horsepower": 72,
          "Miles_per_Gallon": 22,
          "Name": "chevrolet vega (sw)",
          "Origin": "USA",
          "Year": "1971-01-01"
         },
         {
          "Horsepower": 100,
          "Miles_per_Gallon": 19,
          "Name": "pontiac firebird",
          "Origin": "USA",
          "Year": "1971-01-01"
         },
         {
          "Horsepower": 88,
          "Miles_per_Gallon": 18,
          "Name": "ford mustang",
          "Origin": "USA",
          "Year": "1971-01-01"
         },
         {
          "Horsepower": 86,
          "Miles_per_Gallon": 23,
          "Name": "mercury capri 2000",
          "Origin": "USA",
          "Year": "1971-01-01"
         },
         {
          "Horsepower": 90,
          "Miles_per_Gallon": 28,
          "Name": "opel 1900",
          "Origin": "Europe",
          "Year": "1971-01-01"
         },
         {
          "Horsepower": 70,
          "Miles_per_Gallon": 30,
          "Name": "peugeot 304",
          "Origin": "Europe",
          "Year": "1971-01-01"
         },
         {
          "Horsepower": 76,
          "Miles_per_Gallon": 30,
          "Name": "fiat 124b",
          "Origin": "Europe",
          "Year": "1971-01-01"
         },
         {
          "Horsepower": 65,
          "Miles_per_Gallon": 31,
          "Name": "toyota corolla 1200",
          "Origin": "Japan",
          "Year": "1971-01-01"
         },
         {
          "Horsepower": 69,
          "Miles_per_Gallon": 35,
          "Name": "datsun 1200",
          "Origin": "Japan",
          "Year": "1971-01-01"
         },
         {
          "Horsepower": 60,
          "Miles_per_Gallon": 27,
          "Name": "volkswagen model 111",
          "Origin": "Europe",
          "Year": "1971-01-01"
         },
         {
          "Horsepower": 70,
          "Miles_per_Gallon": 26,
          "Name": "plymouth cricket",
          "Origin": "USA",
          "Year": "1971-01-01"
         },
         {
          "Horsepower": 95,
          "Miles_per_Gallon": 24,
          "Name": "toyota corona hardtop",
          "Origin": "Japan",
          "Year": "1972-01-01"
         },
         {
          "Horsepower": 80,
          "Miles_per_Gallon": 25,
          "Name": "dodge colt hardtop",
          "Origin": "USA",
          "Year": "1972-01-01"
         },
         {
          "Horsepower": 54,
          "Miles_per_Gallon": 23,
          "Name": "volkswagen type 3",
          "Origin": "Europe",
          "Year": "1972-01-01"
         },
         {
          "Horsepower": 90,
          "Miles_per_Gallon": 20,
          "Name": "chevrolet vega",
          "Origin": "USA",
          "Year": "1972-01-01"
         },
         {
          "Horsepower": 86,
          "Miles_per_Gallon": 21,
          "Name": "ford pinto runabout",
          "Origin": "USA",
          "Year": "1972-01-01"
         },
         {
          "Horsepower": 165,
          "Miles_per_Gallon": 13,
          "Name": "chevrolet impala",
          "Origin": "USA",
          "Year": "1972-01-01"
         },
         {
          "Horsepower": 175,
          "Miles_per_Gallon": 14,
          "Name": "pontiac catalina",
          "Origin": "USA",
          "Year": "1972-01-01"
         },
         {
          "Horsepower": 150,
          "Miles_per_Gallon": 15,
          "Name": "plymouth fury iii",
          "Origin": "USA",
          "Year": "1972-01-01"
         },
         {
          "Horsepower": 153,
          "Miles_per_Gallon": 14,
          "Name": "ford galaxie 500",
          "Origin": "USA",
          "Year": "1972-01-01"
         },
         {
          "Horsepower": 150,
          "Miles_per_Gallon": 17,
          "Name": "amc ambassador sst",
          "Origin": "USA",
          "Year": "1972-01-01"
         },
         {
          "Horsepower": 208,
          "Miles_per_Gallon": 11,
          "Name": "mercury marquis",
          "Origin": "USA",
          "Year": "1972-01-01"
         },
         {
          "Horsepower": 155,
          "Miles_per_Gallon": 13,
          "Name": "buick lesabre custom",
          "Origin": "USA",
          "Year": "1972-01-01"
         },
         {
          "Horsepower": 160,
          "Miles_per_Gallon": 12,
          "Name": "oldsmobile delta 88 royale",
          "Origin": "USA",
          "Year": "1972-01-01"
         },
         {
          "Horsepower": 190,
          "Miles_per_Gallon": 13,
          "Name": "chrysler newport royal",
          "Origin": "USA",
          "Year": "1972-01-01"
         },
         {
          "Horsepower": 97,
          "Miles_per_Gallon": 19,
          "Name": "mazda rx2 coupe",
          "Origin": "Japan",
          "Year": "1972-01-01"
         },
         {
          "Horsepower": 150,
          "Miles_per_Gallon": 15,
          "Name": "amc matador (sw)",
          "Origin": "USA",
          "Year": "1972-01-01"
         },
         {
          "Horsepower": 130,
          "Miles_per_Gallon": 13,
          "Name": "chevrolet chevelle concours (sw)",
          "Origin": "USA",
          "Year": "1972-01-01"
         },
         {
          "Horsepower": 140,
          "Miles_per_Gallon": 13,
          "Name": "ford gran torino (sw)",
          "Origin": "USA",
          "Year": "1972-01-01"
         },
         {
          "Horsepower": 150,
          "Miles_per_Gallon": 14,
          "Name": "plymouth satellite custom (sw)",
          "Origin": "USA",
          "Year": "1972-01-01"
         },
         {
          "Horsepower": 112,
          "Miles_per_Gallon": 18,
          "Name": "volvo 145e (sw)",
          "Origin": "Europe",
          "Year": "1972-01-01"
         },
         {
          "Horsepower": 76,
          "Miles_per_Gallon": 22,
          "Name": "volkswagen 411 (sw)",
          "Origin": "Europe",
          "Year": "1972-01-01"
         },
         {
          "Horsepower": 87,
          "Miles_per_Gallon": 21,
          "Name": "peugeot 504 (sw)",
          "Origin": "Europe",
          "Year": "1972-01-01"
         },
         {
          "Horsepower": 69,
          "Miles_per_Gallon": 26,
          "Name": "renault 12 (sw)",
          "Origin": "Europe",
          "Year": "1972-01-01"
         },
         {
          "Horsepower": 86,
          "Miles_per_Gallon": 22,
          "Name": "ford pinto (sw)",
          "Origin": "USA",
          "Year": "1972-01-01"
         },
         {
          "Horsepower": 92,
          "Miles_per_Gallon": 28,
          "Name": "datsun 510 (sw)",
          "Origin": "Japan",
          "Year": "1972-01-01"
         },
         {
          "Horsepower": 97,
          "Miles_per_Gallon": 23,
          "Name": "toyouta corona mark ii (sw)",
          "Origin": "Japan",
          "Year": "1972-01-01"
         },
         {
          "Horsepower": 80,
          "Miles_per_Gallon": 28,
          "Name": "dodge colt (sw)",
          "Origin": "USA",
          "Year": "1972-01-01"
         },
         {
          "Horsepower": 88,
          "Miles_per_Gallon": 27,
          "Name": "toyota corolla 1600 (sw)",
          "Origin": "Japan",
          "Year": "1972-01-01"
         },
         {
          "Horsepower": 175,
          "Miles_per_Gallon": 13,
          "Name": "buick century 350",
          "Origin": "USA",
          "Year": "1973-01-01"
         },
         {
          "Horsepower": 150,
          "Miles_per_Gallon": 14,
          "Name": "amc matador",
          "Origin": "USA",
          "Year": "1973-01-01"
         },
         {
          "Horsepower": 145,
          "Miles_per_Gallon": 13,
          "Name": "chevrolet malibu",
          "Origin": "USA",
          "Year": "1973-01-01"
         },
         {
          "Horsepower": 137,
          "Miles_per_Gallon": 14,
          "Name": "ford gran torino",
          "Origin": "USA",
          "Year": "1973-01-01"
         },
         {
          "Horsepower": 150,
          "Miles_per_Gallon": 15,
          "Name": "dodge coronet custom",
          "Origin": "USA",
          "Year": "1973-01-01"
         },
         {
          "Horsepower": 198,
          "Miles_per_Gallon": 12,
          "Name": "mercury marquis brougham",
          "Origin": "USA",
          "Year": "1973-01-01"
         },
         {
          "Horsepower": 150,
          "Miles_per_Gallon": 13,
          "Name": "chevrolet caprice classic",
          "Origin": "USA",
          "Year": "1973-01-01"
         },
         {
          "Horsepower": 158,
          "Miles_per_Gallon": 13,
          "Name": "ford ltd",
          "Origin": "USA",
          "Year": "1973-01-01"
         },
         {
          "Horsepower": 150,
          "Miles_per_Gallon": 14,
          "Name": "plymouth fury gran sedan",
          "Origin": "USA",
          "Year": "1973-01-01"
         },
         {
          "Horsepower": 215,
          "Miles_per_Gallon": 13,
          "Name": "chrysler new yorker brougham",
          "Origin": "USA",
          "Year": "1973-01-01"
         },
         {
          "Horsepower": 225,
          "Miles_per_Gallon": 12,
          "Name": "buick electra 225 custom",
          "Origin": "USA",
          "Year": "1973-01-01"
         },
         {
          "Horsepower": 175,
          "Miles_per_Gallon": 13,
          "Name": "amc ambassador brougham",
          "Origin": "USA",
          "Year": "1973-01-01"
         },
         {
          "Horsepower": 105,
          "Miles_per_Gallon": 18,
          "Name": "plymouth valiant",
          "Origin": "USA",
          "Year": "1973-01-01"
         },
         {
          "Horsepower": 100,
          "Miles_per_Gallon": 16,
          "Name": "chevrolet nova custom",
          "Origin": "USA",
          "Year": "1973-01-01"
         },
         {
          "Horsepower": 100,
          "Miles_per_Gallon": 18,
          "Name": "amc hornet",
          "Origin": "USA",
          "Year": "1973-01-01"
         },
         {
          "Horsepower": 88,
          "Miles_per_Gallon": 18,
          "Name": "ford maverick",
          "Origin": "USA",
          "Year": "1973-01-01"
         },
         {
          "Horsepower": 95,
          "Miles_per_Gallon": 23,
          "Name": "plymouth duster",
          "Origin": "USA",
          "Year": "1973-01-01"
         },
         {
          "Horsepower": 46,
          "Miles_per_Gallon": 26,
          "Name": "volkswagen super beetle",
          "Origin": "Europe",
          "Year": "1973-01-01"
         },
         {
          "Horsepower": 150,
          "Miles_per_Gallon": 11,
          "Name": "chevrolet impala",
          "Origin": "USA",
          "Year": "1973-01-01"
         },
         {
          "Horsepower": 167,
          "Miles_per_Gallon": 12,
          "Name": "ford country",
          "Origin": "USA",
          "Year": "1973-01-01"
         },
         {
          "Horsepower": 170,
          "Miles_per_Gallon": 13,
          "Name": "plymouth custom suburb",
          "Origin": "USA",
          "Year": "1973-01-01"
         },
         {
          "Horsepower": 180,
          "Miles_per_Gallon": 12,
          "Name": "oldsmobile vista cruiser",
          "Origin": "USA",
          "Year": "1973-01-01"
         },
         {
          "Horsepower": 100,
          "Miles_per_Gallon": 18,
          "Name": "amc gremlin",
          "Origin": "USA",
          "Year": "1973-01-01"
         },
         {
          "Horsepower": 88,
          "Miles_per_Gallon": 20,
          "Name": "toyota carina",
          "Origin": "Japan",
          "Year": "1973-01-01"
         },
         {
          "Horsepower": 72,
          "Miles_per_Gallon": 21,
          "Name": "chevrolet vega",
          "Origin": "USA",
          "Year": "1973-01-01"
         },
         {
          "Horsepower": 94,
          "Miles_per_Gallon": 22,
          "Name": "datsun 610",
          "Origin": "Japan",
          "Year": "1973-01-01"
         },
         {
          "Horsepower": 90,
          "Miles_per_Gallon": 18,
          "Name": "maxda rx3",
          "Origin": "Japan",
          "Year": "1973-01-01"
         },
         {
          "Horsepower": 85,
          "Miles_per_Gallon": 19,
          "Name": "ford pinto",
          "Origin": "USA",
          "Year": "1973-01-01"
         },
         {
          "Horsepower": 107,
          "Miles_per_Gallon": 21,
          "Name": "mercury capri v6",
          "Origin": "USA",
          "Year": "1973-01-01"
         },
         {
          "Horsepower": 90,
          "Miles_per_Gallon": 26,
          "Name": "fiat 124 sport coupe",
          "Origin": "Europe",
          "Year": "1973-01-01"
         },
         {
          "Horsepower": 145,
          "Miles_per_Gallon": 15,
          "Name": "chevrolet monte carlo s",
          "Origin": "USA",
          "Year": "1973-01-01"
         },
         {
          "Horsepower": 230,
          "Miles_per_Gallon": 16,
          "Name": "pontiac grand prix",
          "Origin": "USA",
          "Year": "1973-01-01"
         },
         {
          "Horsepower": 49,
          "Miles_per_Gallon": 29,
          "Name": "fiat 128",
          "Origin": "Europe",
          "Year": "1973-01-01"
         },
         {
          "Horsepower": 75,
          "Miles_per_Gallon": 24,
          "Name": "opel manta",
          "Origin": "Europe",
          "Year": "1973-01-01"
         },
         {
          "Horsepower": 91,
          "Miles_per_Gallon": 20,
          "Name": "audi 100ls",
          "Origin": "Europe",
          "Year": "1973-01-01"
         },
         {
          "Horsepower": 112,
          "Miles_per_Gallon": 19,
          "Name": "volvo 144ea",
          "Origin": "Europe",
          "Year": "1973-01-01"
         },
         {
          "Horsepower": 150,
          "Miles_per_Gallon": 15,
          "Name": "dodge dart custom",
          "Origin": "USA",
          "Year": "1973-01-01"
         },
         {
          "Horsepower": 110,
          "Miles_per_Gallon": 24,
          "Name": "saab 99le",
          "Origin": "Europe",
          "Year": "1973-01-01"
         },
         {
          "Horsepower": 122,
          "Miles_per_Gallon": 20,
          "Name": "toyota mark ii",
          "Origin": "Japan",
          "Year": "1973-01-01"
         },
         {
          "Horsepower": 180,
          "Miles_per_Gallon": 11,
          "Name": "oldsmobile omega",
          "Origin": "USA",
          "Year": "1973-01-01"
         },
         {
          "Horsepower": 95,
          "Miles_per_Gallon": 20,
          "Name": "plymouth duster",
          "Origin": "USA",
          "Year": "1974-01-01"
         },
         {
          "Horsepower": null,
          "Miles_per_Gallon": 21,
          "Name": "ford maverick",
          "Origin": "USA",
          "Year": "1974-01-01"
         },
         {
          "Horsepower": 100,
          "Miles_per_Gallon": 19,
          "Name": "amc hornet",
          "Origin": "USA",
          "Year": "1974-01-01"
         },
         {
          "Horsepower": 100,
          "Miles_per_Gallon": 15,
          "Name": "chevrolet nova",
          "Origin": "USA",
          "Year": "1974-01-01"
         },
         {
          "Horsepower": 67,
          "Miles_per_Gallon": 31,
          "Name": "datsun b210",
          "Origin": "Japan",
          "Year": "1974-01-01"
         },
         {
          "Horsepower": 80,
          "Miles_per_Gallon": 26,
          "Name": "ford pinto",
          "Origin": "USA",
          "Year": "1974-01-01"
         },
         {
          "Horsepower": 65,
          "Miles_per_Gallon": 32,
          "Name": "toyota corolla 1200",
          "Origin": "Japan",
          "Year": "1974-01-01"
         },
         {
          "Horsepower": 75,
          "Miles_per_Gallon": 25,
          "Name": "chevrolet vega",
          "Origin": "USA",
          "Year": "1974-01-01"
         },
         {
          "Horsepower": 100,
          "Miles_per_Gallon": 16,
          "Name": "chevrolet chevelle malibu classic",
          "Origin": "USA",
          "Year": "1974-01-01"
         },
         {
          "Horsepower": 110,
          "Miles_per_Gallon": 16,
          "Name": "amc matador",
          "Origin": "USA",
          "Year": "1974-01-01"
         },
         {
          "Horsepower": 105,
          "Miles_per_Gallon": 18,
          "Name": "plymouth satellite sebring",
          "Origin": "USA",
          "Year": "1974-01-01"
         },
         {
          "Horsepower": 140,
          "Miles_per_Gallon": 16,
          "Name": "ford gran torino",
          "Origin": "USA",
          "Year": "1974-01-01"
         },
         {
          "Horsepower": 150,
          "Miles_per_Gallon": 13,
          "Name": "buick century luxus (sw)",
          "Origin": "USA",
          "Year": "1974-01-01"
         },
         {
          "Horsepower": 150,
          "Miles_per_Gallon": 14,
          "Name": "dodge coronet custom (sw)",
          "Origin": "USA",
          "Year": "1974-01-01"
         },
         {
          "Horsepower": 140,
          "Miles_per_Gallon": 14,
          "Name": "ford gran torino (sw)",
          "Origin": "USA",
          "Year": "1974-01-01"
         },
         {
          "Horsepower": 150,
          "Miles_per_Gallon": 14,
          "Name": "amc matador (sw)",
          "Origin": "USA",
          "Year": "1974-01-01"
         },
         {
          "Horsepower": 83,
          "Miles_per_Gallon": 29,
          "Name": "audi fox",
          "Origin": "Europe",
          "Year": "1974-01-01"
         },
         {
          "Horsepower": 67,
          "Miles_per_Gallon": 26,
          "Name": "volkswagen dasher",
          "Origin": "Europe",
          "Year": "1974-01-01"
         },
         {
          "Horsepower": 78,
          "Miles_per_Gallon": 26,
          "Name": "opel manta",
          "Origin": "Europe",
          "Year": "1974-01-01"
         },
         {
          "Horsepower": 52,
          "Miles_per_Gallon": 31,
          "Name": "toyota corona",
          "Origin": "Japan",
          "Year": "1974-01-01"
         },
         {
          "Horsepower": 61,
          "Miles_per_Gallon": 32,
          "Name": "datsun 710",
          "Origin": "Japan",
          "Year": "1974-01-01"
         },
         {
          "Horsepower": 75,
          "Miles_per_Gallon": 28,
          "Name": "dodge colt",
          "Origin": "USA",
          "Year": "1974-01-01"
         },
         {
          "Horsepower": 75,
          "Miles_per_Gallon": 24,
          "Name": "fiat 128",
          "Origin": "Europe",
          "Year": "1974-01-01"
         },
         {
          "Horsepower": 75,
          "Miles_per_Gallon": 26,
          "Name": "fiat 124 tc",
          "Origin": "Europe",
          "Year": "1974-01-01"
         },
         {
          "Horsepower": 97,
          "Miles_per_Gallon": 24,
          "Name": "honda civic",
          "Origin": "Japan",
          "Year": "1974-01-01"
         },
         {
          "Horsepower": 93,
          "Miles_per_Gallon": 26,
          "Name": "subaru",
          "Origin": "Japan",
          "Year": "1974-01-01"
         },
         {
          "Horsepower": 67,
          "Miles_per_Gallon": 31,
          "Name": "fiat x1.9",
          "Origin": "Europe",
          "Year": "1974-01-01"
         },
         {
          "Horsepower": 95,
          "Miles_per_Gallon": 19,
          "Name": "plymouth valiant custom",
          "Origin": "USA",
          "Year": "1975-01-01"
         },
         {
          "Horsepower": 105,
          "Miles_per_Gallon": 18,
          "Name": "chevrolet nova",
          "Origin": "USA",
          "Year": "1975-01-01"
         },
         {
          "Horsepower": 72,
          "Miles_per_Gallon": 15,
          "Name": "mercury monarch",
          "Origin": "USA",
          "Year": "1975-01-01"
         },
         {
          "Horsepower": 72,
          "Miles_per_Gallon": 15,
          "Name": "ford maverick",
          "Origin": "USA",
          "Year": "1975-01-01"
         },
         {
          "Horsepower": 170,
          "Miles_per_Gallon": 16,
          "Name": "pontiac catalina",
          "Origin": "USA",
          "Year": "1975-01-01"
         },
         {
          "Horsepower": 145,
          "Miles_per_Gallon": 15,
          "Name": "chevrolet bel air",
          "Origin": "USA",
          "Year": "1975-01-01"
         },
         {
          "Horsepower": 150,
          "Miles_per_Gallon": 16,
          "Name": "plymouth grand fury",
          "Origin": "USA",
          "Year": "1975-01-01"
         },
         {
          "Horsepower": 148,
          "Miles_per_Gallon": 14,
          "Name": "ford ltd",
          "Origin": "USA",
          "Year": "1975-01-01"
         },
         {
          "Horsepower": 110,
          "Miles_per_Gallon": 17,
          "Name": "buick century",
          "Origin": "USA",
          "Year": "1975-01-01"
         },
         {
          "Horsepower": 105,
          "Miles_per_Gallon": 16,
          "Name": "chevroelt chevelle malibu",
          "Origin": "USA",
          "Year": "1975-01-01"
         },
         {
          "Horsepower": 110,
          "Miles_per_Gallon": 15,
          "Name": "amc matador",
          "Origin": "USA",
          "Year": "1975-01-01"
         },
         {
          "Horsepower": 95,
          "Miles_per_Gallon": 18,
          "Name": "plymouth fury",
          "Origin": "USA",
          "Year": "1975-01-01"
         },
         {
          "Horsepower": 110,
          "Miles_per_Gallon": 21,
          "Name": "buick skyhawk",
          "Origin": "USA",
          "Year": "1975-01-01"
         },
         {
          "Horsepower": 110,
          "Miles_per_Gallon": 20,
          "Name": "chevrolet monza 2+2",
          "Origin": "USA",
          "Year": "1975-01-01"
         },
         {
          "Horsepower": 129,
          "Miles_per_Gallon": 13,
          "Name": "ford mustang ii",
          "Origin": "USA",
          "Year": "1975-01-01"
         },
         {
          "Horsepower": 75,
          "Miles_per_Gallon": 29,
          "Name": "toyota corolla",
          "Origin": "Japan",
          "Year": "1975-01-01"
         },
         {
          "Horsepower": 83,
          "Miles_per_Gallon": 23,
          "Name": "ford pinto",
          "Origin": "USA",
          "Year": "1975-01-01"
         },
         {
          "Horsepower": 100,
          "Miles_per_Gallon": 20,
          "Name": "amc gremlin",
          "Origin": "USA",
          "Year": "1975-01-01"
         },
         {
          "Horsepower": 78,
          "Miles_per_Gallon": 23,
          "Name": "pontiac astro",
          "Origin": "USA",
          "Year": "1975-01-01"
         },
         {
          "Horsepower": 96,
          "Miles_per_Gallon": 24,
          "Name": "toyota corona",
          "Origin": "Japan",
          "Year": "1975-01-01"
         },
         {
          "Horsepower": 71,
          "Miles_per_Gallon": 25,
          "Name": "volkswagen dasher",
          "Origin": "Europe",
          "Year": "1975-01-01"
         },
         {
          "Horsepower": 97,
          "Miles_per_Gallon": 24,
          "Name": "datsun 710",
          "Origin": "Japan",
          "Year": "1975-01-01"
         },
         {
          "Horsepower": 97,
          "Miles_per_Gallon": 18,
          "Name": "ford pinto",
          "Origin": "USA",
          "Year": "1975-01-01"
         },
         {
          "Horsepower": 70,
          "Miles_per_Gallon": 29,
          "Name": "volkswagen rabbit",
          "Origin": "Europe",
          "Year": "1975-01-01"
         },
         {
          "Horsepower": 90,
          "Miles_per_Gallon": 19,
          "Name": "amc pacer",
          "Origin": "USA",
          "Year": "1975-01-01"
         },
         {
          "Horsepower": 95,
          "Miles_per_Gallon": 23,
          "Name": "audi 100ls",
          "Origin": "Europe",
          "Year": "1975-01-01"
         },
         {
          "Horsepower": 88,
          "Miles_per_Gallon": 23,
          "Name": "peugeot 504",
          "Origin": "Europe",
          "Year": "1975-01-01"
         },
         {
          "Horsepower": 98,
          "Miles_per_Gallon": 22,
          "Name": "volvo 244dl",
          "Origin": "Europe",
          "Year": "1975-01-01"
         },
         {
          "Horsepower": 115,
          "Miles_per_Gallon": 25,
          "Name": "saab 99le",
          "Origin": "Europe",
          "Year": "1975-01-01"
         },
         {
          "Horsepower": 53,
          "Miles_per_Gallon": 33,
          "Name": "honda civic cvcc",
          "Origin": "Japan",
          "Year": "1975-01-01"
         },
         {
          "Horsepower": 86,
          "Miles_per_Gallon": 28,
          "Name": "fiat 131",
          "Origin": "Europe",
          "Year": "1976-01-01"
         },
         {
          "Horsepower": 81,
          "Miles_per_Gallon": 25,
          "Name": "opel 1900",
          "Origin": "Europe",
          "Year": "1976-01-01"
         },
         {
          "Horsepower": 92,
          "Miles_per_Gallon": 25,
          "Name": "capri ii",
          "Origin": "USA",
          "Year": "1976-01-01"
         },
         {
          "Horsepower": 79,
          "Miles_per_Gallon": 26,
          "Name": "dodge colt",
          "Origin": "USA",
          "Year": "1976-01-01"
         },
         {
          "Horsepower": 83,
          "Miles_per_Gallon": 27,
          "Name": "renault 12tl",
          "Origin": "Europe",
          "Year": "1976-01-01"
         },
         {
          "Horsepower": 140,
          "Miles_per_Gallon": 17.5,
          "Name": "chevrolet chevelle malibu classic",
          "Origin": "USA",
          "Year": "1976-01-01"
         },
         {
          "Horsepower": 150,
          "Miles_per_Gallon": 16,
          "Name": "dodge coronet brougham",
          "Origin": "USA",
          "Year": "1976-01-01"
         },
         {
          "Horsepower": 120,
          "Miles_per_Gallon": 15.5,
          "Name": "amc matador",
          "Origin": "USA",
          "Year": "1976-01-01"
         },
         {
          "Horsepower": 152,
          "Miles_per_Gallon": 14.5,
          "Name": "ford gran torino",
          "Origin": "USA",
          "Year": "1976-01-01"
         },
         {
          "Horsepower": 100,
          "Miles_per_Gallon": 22,
          "Name": "plymouth valiant",
          "Origin": "USA",
          "Year": "1976-01-01"
         },
         {
          "Horsepower": 105,
          "Miles_per_Gallon": 22,
          "Name": "chevrolet nova",
          "Origin": "USA",
          "Year": "1976-01-01"
         },
         {
          "Horsepower": 81,
          "Miles_per_Gallon": 24,
          "Name": "ford maverick",
          "Origin": "USA",
          "Year": "1976-01-01"
         },
         {
          "Horsepower": 90,
          "Miles_per_Gallon": 22.5,
          "Name": "amc hornet",
          "Origin": "USA",
          "Year": "1976-01-01"
         },
         {
          "Horsepower": 52,
          "Miles_per_Gallon": 29,
          "Name": "chevrolet chevette",
          "Origin": "USA",
          "Year": "1976-01-01"
         },
         {
          "Horsepower": 60,
          "Miles_per_Gallon": 24.5,
          "Name": "chevrolet woody",
          "Origin": "USA",
          "Year": "1976-01-01"
         },
         {
          "Horsepower": 70,
          "Miles_per_Gallon": 29,
          "Name": "vw rabbit",
          "Origin": "Europe",
          "Year": "1976-01-01"
         },
         {
          "Horsepower": 53,
          "Miles_per_Gallon": 33,
          "Name": "honda civic",
          "Origin": "Japan",
          "Year": "1976-01-01"
         },
         {
          "Horsepower": 100,
          "Miles_per_Gallon": 20,
          "Name": "dodge aspen se",
          "Origin": "USA",
          "Year": "1976-01-01"
         },
         {
          "Horsepower": 78,
          "Miles_per_Gallon": 18,
          "Name": "ford granada ghia",
          "Origin": "USA",
          "Year": "1976-01-01"
         },
         {
          "Horsepower": 110,
          "Miles_per_Gallon": 18.5,
          "Name": "pontiac ventura sj",
          "Origin": "USA",
          "Year": "1976-01-01"
         },
         {
          "Horsepower": 95,
          "Miles_per_Gallon": 17.5,
          "Name": "amc pacer d/l",
          "Origin": "USA",
          "Year": "1976-01-01"
         },
         {
          "Horsepower": 71,
          "Miles_per_Gallon": 29.5,
          "Name": "volkswagen rabbit",
          "Origin": "Europe",
          "Year": "1976-01-01"
         },
         {
          "Horsepower": 70,
          "Miles_per_Gallon": 32,
          "Name": "datsun b-210",
          "Origin": "Japan",
          "Year": "1976-01-01"
         },
         {
          "Horsepower": 75,
          "Miles_per_Gallon": 28,
          "Name": "toyota corolla",
          "Origin": "Japan",
          "Year": "1976-01-01"
         },
         {
          "Horsepower": 72,
          "Miles_per_Gallon": 26.5,
          "Name": "ford pinto",
          "Origin": "USA",
          "Year": "1976-01-01"
         },
         {
          "Horsepower": 102,
          "Miles_per_Gallon": 20,
          "Name": "volvo 245",
          "Origin": "Europe",
          "Year": "1976-01-01"
         },
         {
          "Horsepower": 150,
          "Miles_per_Gallon": 13,
          "Name": "plymouth volare premier v8",
          "Origin": "USA",
          "Year": "1976-01-01"
         },
         {
          "Horsepower": 88,
          "Miles_per_Gallon": 19,
          "Name": "peugeot 504",
          "Origin": "Europe",
          "Year": "1976-01-01"
         },
         {
          "Horsepower": 108,
          "Miles_per_Gallon": 19,
          "Name": "toyota mark ii",
          "Origin": "Japan",
          "Year": "1976-01-01"
         },
         {
          "Horsepower": 120,
          "Miles_per_Gallon": 16.5,
          "Name": "mercedes-benz 280s",
          "Origin": "Europe",
          "Year": "1976-01-01"
         },
         {
          "Horsepower": 180,
          "Miles_per_Gallon": 16.5,
          "Name": "cadillac seville",
          "Origin": "USA",
          "Year": "1976-01-01"
         },
         {
          "Horsepower": 145,
          "Miles_per_Gallon": 13,
          "Name": "chevy c10",
          "Origin": "USA",
          "Year": "1976-01-01"
         },
         {
          "Horsepower": 130,
          "Miles_per_Gallon": 13,
          "Name": "ford f108",
          "Origin": "USA",
          "Year": "1976-01-01"
         },
         {
          "Horsepower": 150,
          "Miles_per_Gallon": 13,
          "Name": "dodge d100",
          "Origin": "USA",
          "Year": "1976-01-01"
         },
         {
          "Horsepower": 68,
          "Miles_per_Gallon": 31.5,
          "Name": "honda Accelerationord cvcc",
          "Origin": "Japan",
          "Year": "1977-01-01"
         },
         {
          "Horsepower": 80,
          "Miles_per_Gallon": 30,
          "Name": "buick opel isuzu deluxe",
          "Origin": "USA",
          "Year": "1977-01-01"
         },
         {
          "Horsepower": 58,
          "Miles_per_Gallon": 36,
          "Name": "renault 5 gtl",
          "Origin": "Europe",
          "Year": "1977-01-01"
         },
         {
          "Horsepower": 96,
          "Miles_per_Gallon": 25.5,
          "Name": "plymouth arrow gs",
          "Origin": "USA",
          "Year": "1977-01-01"
         },
         {
          "Horsepower": 70,
          "Miles_per_Gallon": 33.5,
          "Name": "datsun f-10 hatchback",
          "Origin": "Japan",
          "Year": "1977-01-01"
         },
         {
          "Horsepower": 145,
          "Miles_per_Gallon": 17.5,
          "Name": "chevrolet caprice classic",
          "Origin": "USA",
          "Year": "1977-01-01"
         },
         {
          "Horsepower": 110,
          "Miles_per_Gallon": 17,
          "Name": "oldsmobile cutlass supreme",
          "Origin": "USA",
          "Year": "1977-01-01"
         },
         {
          "Horsepower": 145,
          "Miles_per_Gallon": 15.5,
          "Name": "dodge monaco brougham",
          "Origin": "USA",
          "Year": "1977-01-01"
         },
         {
          "Horsepower": 130,
          "Miles_per_Gallon": 15,
          "Name": "mercury cougar brougham",
          "Origin": "USA",
          "Year": "1977-01-01"
         },
         {
          "Horsepower": 110,
          "Miles_per_Gallon": 17.5,
          "Name": "chevrolet concours",
          "Origin": "USA",
          "Year": "1977-01-01"
         },
         {
          "Horsepower": 105,
          "Miles_per_Gallon": 20.5,
          "Name": "buick skylark",
          "Origin": "USA",
          "Year": "1977-01-01"
         },
         {
          "Horsepower": 100,
          "Miles_per_Gallon": 19,
          "Name": "plymouth volare custom",
          "Origin": "USA",
          "Year": "1977-01-01"
         },
         {
          "Horsepower": 98,
          "Miles_per_Gallon": 18.5,
          "Name": "ford granada",
          "Origin": "USA",
          "Year": "1977-01-01"
         },
         {
          "Horsepower": 180,
          "Miles_per_Gallon": 16,
          "Name": "pontiac grand prix lj",
          "Origin": "USA",
          "Year": "1977-01-01"
         },
         {
          "Horsepower": 170,
          "Miles_per_Gallon": 15.5,
          "Name": "chevrolet monte carlo landau",
          "Origin": "USA",
          "Year": "1977-01-01"
         },
         {
          "Horsepower": 190,
          "Miles_per_Gallon": 15.5,
          "Name": "chrysler cordoba",
          "Origin": "USA",
          "Year": "1977-01-01"
         },
         {
          "Horsepower": 149,
          "Miles_per_Gallon": 16,
          "Name": "ford thunderbird",
          "Origin": "USA",
          "Year": "1977-01-01"
         },
         {
          "Horsepower": 78,
          "Miles_per_Gallon": 29,
          "Name": "volkswagen rabbit custom",
          "Origin": "Europe",
          "Year": "1977-01-01"
         },
         {
          "Horsepower": 88,
          "Miles_per_Gallon": 24.5,
          "Name": "pontiac sunbird coupe",
          "Origin": "USA",
          "Year": "1977-01-01"
         },
         {
          "Horsepower": 75,
          "Miles_per_Gallon": 26,
          "Name": "toyota corolla liftback",
          "Origin": "Japan",
          "Year": "1977-01-01"
         },
         {
          "Horsepower": 89,
          "Miles_per_Gallon": 25.5,
          "Name": "ford mustang ii 2+2",
          "Origin": "USA",
          "Year": "1977-01-01"
         },
         {
          "Horsepower": 63,
          "Miles_per_Gallon": 30.5,
          "Name": "chevrolet chevette",
          "Origin": "USA",
          "Year": "1977-01-01"
         },
         {
          "Horsepower": 83,
          "Miles_per_Gallon": 33.5,
          "Name": "dodge colt m/m",
          "Origin": "USA",
          "Year": "1977-01-01"
         },
         {
          "Horsepower": 67,
          "Miles_per_Gallon": 30,
          "Name": "subaru dl",
          "Origin": "Japan",
          "Year": "1977-01-01"
         },
         {
          "Horsepower": 78,
          "Miles_per_Gallon": 30.5,
          "Name": "volkswagen dasher",
          "Origin": "Europe",
          "Year": "1977-01-01"
         },
         {
          "Horsepower": 97,
          "Miles_per_Gallon": 22,
          "Name": "datsun 810",
          "Origin": "Japan",
          "Year": "1977-01-01"
         },
         {
          "Horsepower": 110,
          "Miles_per_Gallon": 21.5,
          "Name": "bmw 320i",
          "Origin": "Europe",
          "Year": "1977-01-01"
         },
         {
          "Horsepower": 110,
          "Miles_per_Gallon": 21.5,
          "Name": "mazda rx-4",
          "Origin": "Japan",
          "Year": "1977-01-01"
         },
         {
          "Horsepower": 48,
          "Miles_per_Gallon": 43.1,
          "Name": "volkswagen rabbit custom diesel",
          "Origin": "Europe",
          "Year": "1978-01-01"
         },
         {
          "Horsepower": 66,
          "Miles_per_Gallon": 36.1,
          "Name": "ford fiesta",
          "Origin": "USA",
          "Year": "1978-01-01"
         },
         {
          "Horsepower": 52,
          "Miles_per_Gallon": 32.8,
          "Name": "mazda glc deluxe",
          "Origin": "Japan",
          "Year": "1978-01-01"
         },
         {
          "Horsepower": 70,
          "Miles_per_Gallon": 39.4,
          "Name": "datsun b210 gx",
          "Origin": "Japan",
          "Year": "1978-01-01"
         },
         {
          "Horsepower": 60,
          "Miles_per_Gallon": 36.1,
          "Name": "honda civic cvcc",
          "Origin": "Japan",
          "Year": "1978-01-01"
         },
         {
          "Horsepower": 110,
          "Miles_per_Gallon": 19.9,
          "Name": "oldsmobile cutlass salon brougham",
          "Origin": "USA",
          "Year": "1978-01-01"
         },
         {
          "Horsepower": 140,
          "Miles_per_Gallon": 19.4,
          "Name": "dodge diplomat",
          "Origin": "USA",
          "Year": "1978-01-01"
         },
         {
          "Horsepower": 139,
          "Miles_per_Gallon": 20.2,
          "Name": "mercury monarch ghia",
          "Origin": "USA",
          "Year": "1978-01-01"
         },
         {
          "Horsepower": 105,
          "Miles_per_Gallon": 19.2,
          "Name": "pontiac phoenix lj",
          "Origin": "USA",
          "Year": "1978-01-01"
         },
         {
          "Horsepower": 95,
          "Miles_per_Gallon": 20.5,
          "Name": "chevrolet malibu",
          "Origin": "USA",
          "Year": "1978-01-01"
         },
         {
          "Horsepower": 85,
          "Miles_per_Gallon": 20.2,
          "Name": "ford fairmont (auto)",
          "Origin": "USA",
          "Year": "1978-01-01"
         },
         {
          "Horsepower": 88,
          "Miles_per_Gallon": 25.1,
          "Name": "ford fairmont (man)",
          "Origin": "USA",
          "Year": "1978-01-01"
         },
         {
          "Horsepower": 100,
          "Miles_per_Gallon": 20.5,
          "Name": "plymouth volare",
          "Origin": "USA",
          "Year": "1978-01-01"
         },
         {
          "Horsepower": 90,
          "Miles_per_Gallon": 19.4,
          "Name": "amc concord",
          "Origin": "USA",
          "Year": "1978-01-01"
         },
         {
          "Horsepower": 105,
          "Miles_per_Gallon": 20.6,
          "Name": "buick century special",
          "Origin": "USA",
          "Year": "1978-01-01"
         },
         {
          "Horsepower": 85,
          "Miles_per_Gallon": 20.8,
          "Name": "mercury zephyr",
          "Origin": "USA",
          "Year": "1978-01-01"
         },
         {
          "Horsepower": 110,
          "Miles_per_Gallon": 18.6,
          "Name": "dodge aspen",
          "Origin": "USA",
          "Year": "1978-01-01"
         },
         {
          "Horsepower": 120,
          "Miles_per_Gallon": 18.1,
          "Name": "amc concord d/l",
          "Origin": "USA",
          "Year": "1978-01-01"
         },
         {
          "Horsepower": 145,
          "Miles_per_Gallon": 19.2,
          "Name": "chevrolet monte carlo landau",
          "Origin": "USA",
          "Year": "1978-01-01"
         },
         {
          "Horsepower": 165,
          "Miles_per_Gallon": 17.7,
          "Name": "buick regal sport coupe (turbo)",
          "Origin": "USA",
          "Year": "1978-01-01"
         },
         {
          "Horsepower": 139,
          "Miles_per_Gallon": 18.1,
          "Name": "ford futura",
          "Origin": "USA",
          "Year": "1978-01-01"
         },
         {
          "Horsepower": 140,
          "Miles_per_Gallon": 17.5,
          "Name": "dodge magnum xe",
          "Origin": "USA",
          "Year": "1978-01-01"
         },
         {
          "Horsepower": 68,
          "Miles_per_Gallon": 30,
          "Name": "chevrolet chevette",
          "Origin": "USA",
          "Year": "1978-01-01"
         },
         {
          "Horsepower": 95,
          "Miles_per_Gallon": 27.5,
          "Name": "toyota corona",
          "Origin": "Japan",
          "Year": "1978-01-01"
         },
         {
          "Horsepower": 97,
          "Miles_per_Gallon": 27.2,
          "Name": "datsun 510",
          "Origin": "Japan",
          "Year": "1978-01-01"
         },
         {
          "Horsepower": 75,
          "Miles_per_Gallon": 30.9,
          "Name": "dodge omni",
          "Origin": "USA",
          "Year": "1978-01-01"
         },
         {
          "Horsepower": 95,
          "Miles_per_Gallon": 21.1,
          "Name": "toyota celica gt liftback",
          "Origin": "Japan",
          "Year": "1978-01-01"
         },
         {
          "Horsepower": 105,
          "Miles_per_Gallon": 23.2,
          "Name": "plymouth sapporo",
          "Origin": "USA",
          "Year": "1978-01-01"
         },
         {
          "Horsepower": 85,
          "Miles_per_Gallon": 23.8,
          "Name": "oldsmobile starfire sx",
          "Origin": "USA",
          "Year": "1978-01-01"
         },
         {
          "Horsepower": 97,
          "Miles_per_Gallon": 23.9,
          "Name": "datsun 200-sx",
          "Origin": "Japan",
          "Year": "1978-01-01"
         },
         {
          "Horsepower": 103,
          "Miles_per_Gallon": 20.3,
          "Name": "audi 5000",
          "Origin": "Europe",
          "Year": "1978-01-01"
         },
         {
          "Horsepower": 125,
          "Miles_per_Gallon": 17,
          "Name": "volvo 264gl",
          "Origin": "Europe",
          "Year": "1978-01-01"
         },
         {
          "Horsepower": 115,
          "Miles_per_Gallon": 21.6,
          "Name": "saab 99gle",
          "Origin": "Europe",
          "Year": "1978-01-01"
         },
         {
          "Horsepower": 133,
          "Miles_per_Gallon": 16.2,
          "Name": "peugeot 604sl",
          "Origin": "Europe",
          "Year": "1978-01-01"
         },
         {
          "Horsepower": 71,
          "Miles_per_Gallon": 31.5,
          "Name": "volkswagen scirocco",
          "Origin": "Europe",
          "Year": "1978-01-01"
         },
         {
          "Horsepower": 68,
          "Miles_per_Gallon": 29.5,
          "Name": "honda Accelerationord lx",
          "Origin": "Japan",
          "Year": "1978-01-01"
         },
         {
          "Horsepower": 115,
          "Miles_per_Gallon": 21.5,
          "Name": "pontiac lemans v6",
          "Origin": "USA",
          "Year": "1979-01-01"
         },
         {
          "Horsepower": 85,
          "Miles_per_Gallon": 19.8,
          "Name": "mercury zephyr 6",
          "Origin": "USA",
          "Year": "1979-01-01"
         },
         {
          "Horsepower": 88,
          "Miles_per_Gallon": 22.3,
          "Name": "ford fairmont 4",
          "Origin": "USA",
          "Year": "1979-01-01"
         },
         {
          "Horsepower": 90,
          "Miles_per_Gallon": 20.2,
          "Name": "amc concord dl 6",
          "Origin": "USA",
          "Year": "1979-01-01"
         },
         {
          "Horsepower": 110,
          "Miles_per_Gallon": 20.6,
          "Name": "dodge aspen 6",
          "Origin": "USA",
          "Year": "1979-01-01"
         },
         {
          "Horsepower": 130,
          "Miles_per_Gallon": 17,
          "Name": "chevrolet caprice classic",
          "Origin": "USA",
          "Year": "1979-01-01"
         },
         {
          "Horsepower": 129,
          "Miles_per_Gallon": 17.6,
          "Name": "ford ltd landau",
          "Origin": "USA",
          "Year": "1979-01-01"
         },
         {
          "Horsepower": 138,
          "Miles_per_Gallon": 16.5,
          "Name": "mercury grand marquis",
          "Origin": "USA",
          "Year": "1979-01-01"
         },
         {
          "Horsepower": 135,
          "Miles_per_Gallon": 18.2,
          "Name": "dodge st. regis",
          "Origin": "USA",
          "Year": "1979-01-01"
         },
         {
          "Horsepower": 155,
          "Miles_per_Gallon": 16.9,
          "Name": "buick estate wagon (sw)",
          "Origin": "USA",
          "Year": "1979-01-01"
         },
         {
          "Horsepower": 142,
          "Miles_per_Gallon": 15.5,
          "Name": "ford country squire (sw)",
          "Origin": "USA",
          "Year": "1979-01-01"
         },
         {
          "Horsepower": 125,
          "Miles_per_Gallon": 19.2,
          "Name": "chevrolet malibu classic (sw)",
          "Origin": "USA",
          "Year": "1979-01-01"
         },
         {
          "Horsepower": 150,
          "Miles_per_Gallon": 18.5,
          "Name": "chrysler lebaron town @ country (sw)",
          "Origin": "USA",
          "Year": "1979-01-01"
         },
         {
          "Horsepower": 71,
          "Miles_per_Gallon": 31.9,
          "Name": "vw rabbit custom",
          "Origin": "Europe",
          "Year": "1979-01-01"
         },
         {
          "Horsepower": 65,
          "Miles_per_Gallon": 34.1,
          "Name": "maxda glc deluxe",
          "Origin": "Japan",
          "Year": "1979-01-01"
         },
         {
          "Horsepower": 80,
          "Miles_per_Gallon": 35.7,
          "Name": "dodge colt hatchback custom",
          "Origin": "USA",
          "Year": "1979-01-01"
         },
         {
          "Horsepower": 80,
          "Miles_per_Gallon": 27.4,
          "Name": "amc spirit dl",
          "Origin": "USA",
          "Year": "1979-01-01"
         },
         {
          "Horsepower": 77,
          "Miles_per_Gallon": 25.4,
          "Name": "mercedes benz 300d",
          "Origin": "Europe",
          "Year": "1979-01-01"
         },
         {
          "Horsepower": 125,
          "Miles_per_Gallon": 23,
          "Name": "cadillac eldorado",
          "Origin": "USA",
          "Year": "1979-01-01"
         },
         {
          "Horsepower": 71,
          "Miles_per_Gallon": 27.2,
          "Name": "peugeot 504",
          "Origin": "Europe",
          "Year": "1979-01-01"
         },
         {
          "Horsepower": 90,
          "Miles_per_Gallon": 23.9,
          "Name": "oldsmobile cutlass salon brougham",
          "Origin": "USA",
          "Year": "1979-01-01"
         },
         {
          "Horsepower": 70,
          "Miles_per_Gallon": 34.2,
          "Name": "plymouth horizon",
          "Origin": "USA",
          "Year": "1979-01-01"
         },
         {
          "Horsepower": 70,
          "Miles_per_Gallon": 34.5,
          "Name": "plymouth horizon tc3",
          "Origin": "USA",
          "Year": "1979-01-01"
         },
         {
          "Horsepower": 65,
          "Miles_per_Gallon": 31.8,
          "Name": "datsun 210",
          "Origin": "Japan",
          "Year": "1979-01-01"
         },
         {
          "Horsepower": 69,
          "Miles_per_Gallon": 37.3,
          "Name": "fiat strada custom",
          "Origin": "Europe",
          "Year": "1979-01-01"
         },
         {
          "Horsepower": 90,
          "Miles_per_Gallon": 28.4,
          "Name": "buick skylark limited",
          "Origin": "USA",
          "Year": "1979-01-01"
         },
         {
          "Horsepower": 115,
          "Miles_per_Gallon": 28.8,
          "Name": "chevrolet citation",
          "Origin": "USA",
          "Year": "1979-01-01"
         },
         {
          "Horsepower": 115,
          "Miles_per_Gallon": 26.8,
          "Name": "oldsmobile omega brougham",
          "Origin": "USA",
          "Year": "1979-01-01"
         },
         {
          "Horsepower": 90,
          "Miles_per_Gallon": 33.5,
          "Name": "pontiac phoenix",
          "Origin": "USA",
          "Year": "1979-01-01"
         },
         {
          "Horsepower": 76,
          "Miles_per_Gallon": 41.5,
          "Name": "vw rabbit",
          "Origin": "Europe",
          "Year": "1980-01-01"
         },
         {
          "Horsepower": 60,
          "Miles_per_Gallon": 38.1,
          "Name": "toyota corolla tercel",
          "Origin": "Japan",
          "Year": "1980-01-01"
         },
         {
          "Horsepower": 70,
          "Miles_per_Gallon": 32.1,
          "Name": "chevrolet chevette",
          "Origin": "USA",
          "Year": "1980-01-01"
         },
         {
          "Horsepower": 65,
          "Miles_per_Gallon": 37.2,
          "Name": "datsun 310",
          "Origin": "Japan",
          "Year": "1980-01-01"
         },
         {
          "Horsepower": 90,
          "Miles_per_Gallon": 28,
          "Name": "chevrolet citation",
          "Origin": "USA",
          "Year": "1980-01-01"
         },
         {
          "Horsepower": 88,
          "Miles_per_Gallon": 26.4,
          "Name": "ford fairmont",
          "Origin": "USA",
          "Year": "1980-01-01"
         },
         {
          "Horsepower": 90,
          "Miles_per_Gallon": 24.3,
          "Name": "amc concord",
          "Origin": "USA",
          "Year": "1980-01-01"
         },
         {
          "Horsepower": 90,
          "Miles_per_Gallon": 19.1,
          "Name": "dodge aspen",
          "Origin": "USA",
          "Year": "1980-01-01"
         },
         {
          "Horsepower": 78,
          "Miles_per_Gallon": 34.3,
          "Name": "audi 4000",
          "Origin": "Europe",
          "Year": "1980-01-01"
         },
         {
          "Horsepower": 90,
          "Miles_per_Gallon": 29.8,
          "Name": "toyota corona liftback",
          "Origin": "Japan",
          "Year": "1980-01-01"
         },
         {
          "Horsepower": 75,
          "Miles_per_Gallon": 31.3,
          "Name": "mazda 626",
          "Origin": "Japan",
          "Year": "1980-01-01"
         },
         {
          "Horsepower": 92,
          "Miles_per_Gallon": 37,
          "Name": "datsun 510 hatchback",
          "Origin": "Japan",
          "Year": "1980-01-01"
         },
         {
          "Horsepower": 75,
          "Miles_per_Gallon": 32.2,
          "Name": "toyota corolla",
          "Origin": "Japan",
          "Year": "1980-01-01"
         },
         {
          "Horsepower": 65,
          "Miles_per_Gallon": 46.6,
          "Name": "mazda glc",
          "Origin": "Japan",
          "Year": "1980-01-01"
         },
         {
          "Horsepower": 105,
          "Miles_per_Gallon": 27.9,
          "Name": "dodge colt",
          "Origin": "USA",
          "Year": "1980-01-01"
         },
         {
          "Horsepower": 65,
          "Miles_per_Gallon": 40.8,
          "Name": "datsun 210",
          "Origin": "Japan",
          "Year": "1980-01-01"
         },
         {
          "Horsepower": 48,
          "Miles_per_Gallon": 44.3,
          "Name": "vw rabbit c (diesel)",
          "Origin": "Europe",
          "Year": "1980-01-01"
         },
         {
          "Horsepower": 48,
          "Miles_per_Gallon": 43.4,
          "Name": "vw dasher (diesel)",
          "Origin": "Europe",
          "Year": "1980-01-01"
         },
         {
          "Horsepower": 67,
          "Miles_per_Gallon": 36.4,
          "Name": "audi 5000s (diesel)",
          "Origin": "Europe",
          "Year": "1980-01-01"
         },
         {
          "Horsepower": 67,
          "Miles_per_Gallon": 30,
          "Name": "mercedes-benz 240d",
          "Origin": "Europe",
          "Year": "1980-01-01"
         },
         {
          "Horsepower": 67,
          "Miles_per_Gallon": 44.6,
          "Name": "honda civic 1500 gl",
          "Origin": "Japan",
          "Year": "1980-01-01"
         },
         {
          "Horsepower": null,
          "Miles_per_Gallon": 40.9,
          "Name": "renault lecar deluxe",
          "Origin": "Europe",
          "Year": "1980-01-01"
         },
         {
          "Horsepower": 67,
          "Miles_per_Gallon": 33.8,
          "Name": "subaru dl",
          "Origin": "Japan",
          "Year": "1980-01-01"
         },
         {
          "Horsepower": 62,
          "Miles_per_Gallon": 29.8,
          "Name": "vokswagen rabbit",
          "Origin": "Europe",
          "Year": "1980-01-01"
         },
         {
          "Horsepower": 132,
          "Miles_per_Gallon": 32.7,
          "Name": "datsun 280-zx",
          "Origin": "Japan",
          "Year": "1980-01-01"
         },
         {
          "Horsepower": 100,
          "Miles_per_Gallon": 23.7,
          "Name": "mazda rx-7 gs",
          "Origin": "Japan",
          "Year": "1980-01-01"
         },
         {
          "Horsepower": 88,
          "Miles_per_Gallon": 35,
          "Name": "triumph tr7 coupe",
          "Origin": "Europe",
          "Year": "1980-01-01"
         },
         {
          "Horsepower": null,
          "Miles_per_Gallon": 23.6,
          "Name": "ford mustang cobra",
          "Origin": "USA",
          "Year": "1980-01-01"
         },
         {
          "Horsepower": 72,
          "Miles_per_Gallon": 32.4,
          "Name": "honda Accelerationord",
          "Origin": "Japan",
          "Year": "1980-01-01"
         },
         {
          "Horsepower": 84,
          "Miles_per_Gallon": 27.2,
          "Name": "plymouth reliant",
          "Origin": "USA",
          "Year": "1982-01-01"
         },
         {
          "Horsepower": 84,
          "Miles_per_Gallon": 26.6,
          "Name": "buick skylark",
          "Origin": "USA",
          "Year": "1982-01-01"
         },
         {
          "Horsepower": 92,
          "Miles_per_Gallon": 25.8,
          "Name": "dodge aries wagon (sw)",
          "Origin": "USA",
          "Year": "1982-01-01"
         },
         {
          "Horsepower": 110,
          "Miles_per_Gallon": 23.5,
          "Name": "chevrolet citation",
          "Origin": "USA",
          "Year": "1982-01-01"
         },
         {
          "Horsepower": 84,
          "Miles_per_Gallon": 30,
          "Name": "plymouth reliant",
          "Origin": "USA",
          "Year": "1982-01-01"
         },
         {
          "Horsepower": 58,
          "Miles_per_Gallon": 39.1,
          "Name": "toyota starlet",
          "Origin": "Japan",
          "Year": "1982-01-01"
         },
         {
          "Horsepower": 64,
          "Miles_per_Gallon": 39,
          "Name": "plymouth champ",
          "Origin": "USA",
          "Year": "1982-01-01"
         },
         {
          "Horsepower": 60,
          "Miles_per_Gallon": 35.1,
          "Name": "honda civic 1300",
          "Origin": "Japan",
          "Year": "1982-01-01"
         },
         {
          "Horsepower": 67,
          "Miles_per_Gallon": 32.3,
          "Name": "subaru",
          "Origin": "Japan",
          "Year": "1982-01-01"
         },
         {
          "Horsepower": 65,
          "Miles_per_Gallon": 37,
          "Name": "datsun 210",
          "Origin": "Japan",
          "Year": "1982-01-01"
         },
         {
          "Horsepower": 62,
          "Miles_per_Gallon": 37.7,
          "Name": "toyota tercel",
          "Origin": "Japan",
          "Year": "1982-01-01"
         },
         {
          "Horsepower": 68,
          "Miles_per_Gallon": 34.1,
          "Name": "mazda glc 4",
          "Origin": "Japan",
          "Year": "1982-01-01"
         },
         {
          "Horsepower": 63,
          "Miles_per_Gallon": 34.7,
          "Name": "plymouth horizon 4",
          "Origin": "USA",
          "Year": "1982-01-01"
         },
         {
          "Horsepower": 65,
          "Miles_per_Gallon": 34.4,
          "Name": "ford escort 4w",
          "Origin": "USA",
          "Year": "1982-01-01"
         },
         {
          "Horsepower": 65,
          "Miles_per_Gallon": 29.9,
          "Name": "ford escort 2h",
          "Origin": "USA",
          "Year": "1982-01-01"
         },
         {
          "Horsepower": 74,
          "Miles_per_Gallon": 33,
          "Name": "volkswagen jetta",
          "Origin": "Europe",
          "Year": "1982-01-01"
         },
         {
          "Horsepower": null,
          "Miles_per_Gallon": 34.5,
          "Name": "renault 18i",
          "Origin": "Europe",
          "Year": "1982-01-01"
         },
         {
          "Horsepower": 75,
          "Miles_per_Gallon": 33.7,
          "Name": "honda prelude",
          "Origin": "Japan",
          "Year": "1982-01-01"
         },
         {
          "Horsepower": 75,
          "Miles_per_Gallon": 32.4,
          "Name": "toyota corolla",
          "Origin": "Japan",
          "Year": "1982-01-01"
         },
         {
          "Horsepower": 100,
          "Miles_per_Gallon": 32.9,
          "Name": "datsun 200sx",
          "Origin": "Japan",
          "Year": "1982-01-01"
         },
         {
          "Horsepower": 74,
          "Miles_per_Gallon": 31.6,
          "Name": "mazda 626",
          "Origin": "Japan",
          "Year": "1982-01-01"
         },
         {
          "Horsepower": 80,
          "Miles_per_Gallon": 28.1,
          "Name": "peugeot 505s turbo diesel",
          "Origin": "Europe",
          "Year": "1982-01-01"
         },
         {
          "Horsepower": 110,
          "Miles_per_Gallon": null,
          "Name": "saab 900s",
          "Origin": "Europe",
          "Year": "1982-01-01"
         },
         {
          "Horsepower": 76,
          "Miles_per_Gallon": 30.7,
          "Name": "volvo diesel",
          "Origin": "Europe",
          "Year": "1982-01-01"
         },
         {
          "Horsepower": 116,
          "Miles_per_Gallon": 25.4,
          "Name": "toyota cressida",
          "Origin": "Japan",
          "Year": "1982-01-01"
         },
         {
          "Horsepower": 120,
          "Miles_per_Gallon": 24.2,
          "Name": "datsun 810 maxima",
          "Origin": "Japan",
          "Year": "1982-01-01"
         },
         {
          "Horsepower": 110,
          "Miles_per_Gallon": 22.4,
          "Name": "buick century",
          "Origin": "USA",
          "Year": "1982-01-01"
         },
         {
          "Horsepower": 105,
          "Miles_per_Gallon": 26.6,
          "Name": "oldsmobile cutlass ls",
          "Origin": "USA",
          "Year": "1982-01-01"
         },
         {
          "Horsepower": 88,
          "Miles_per_Gallon": 20.2,
          "Name": "ford granada gl",
          "Origin": "USA",
          "Year": "1982-01-01"
         },
         {
          "Horsepower": 85,
          "Miles_per_Gallon": 17.6,
          "Name": "chrysler lebaron salon",
          "Origin": "USA",
          "Year": "1982-01-01"
         },
         {
          "Horsepower": 88,
          "Miles_per_Gallon": 28,
          "Name": "chevrolet cavalier",
          "Origin": "USA",
          "Year": "1982-01-01"
         },
         {
          "Horsepower": 88,
          "Miles_per_Gallon": 27,
          "Name": "chevrolet cavalier wagon",
          "Origin": "USA",
          "Year": "1982-01-01"
         },
         {
          "Horsepower": 88,
          "Miles_per_Gallon": 34,
          "Name": "chevrolet cavalier 2-door",
          "Origin": "USA",
          "Year": "1982-01-01"
         },
         {
          "Horsepower": 85,
          "Miles_per_Gallon": 31,
          "Name": "pontiac j2000 se hatchback",
          "Origin": "USA",
          "Year": "1982-01-01"
         },
         {
          "Horsepower": 84,
          "Miles_per_Gallon": 29,
          "Name": "dodge aries se",
          "Origin": "USA",
          "Year": "1982-01-01"
         },
         {
          "Horsepower": 90,
          "Miles_per_Gallon": 27,
          "Name": "pontiac phoenix",
          "Origin": "USA",
          "Year": "1982-01-01"
         },
         {
          "Horsepower": 92,
          "Miles_per_Gallon": 24,
          "Name": "ford fairmont futura",
          "Origin": "USA",
          "Year": "1982-01-01"
         },
         {
          "Horsepower": null,
          "Miles_per_Gallon": 23,
          "Name": "amc concord dl",
          "Origin": "USA",
          "Year": "1982-01-01"
         },
         {
          "Horsepower": 74,
          "Miles_per_Gallon": 36,
          "Name": "volkswagen rabbit l",
          "Origin": "Europe",
          "Year": "1982-01-01"
         },
         {
          "Horsepower": 68,
          "Miles_per_Gallon": 37,
          "Name": "mazda glc custom l",
          "Origin": "Japan",
          "Year": "1982-01-01"
         },
         {
          "Horsepower": 68,
          "Miles_per_Gallon": 31,
          "Name": "mazda glc custom",
          "Origin": "Japan",
          "Year": "1982-01-01"
         },
         {
          "Horsepower": 63,
          "Miles_per_Gallon": 38,
          "Name": "plymouth horizon miser",
          "Origin": "USA",
          "Year": "1982-01-01"
         },
         {
          "Horsepower": 70,
          "Miles_per_Gallon": 36,
          "Name": "mercury lynx l",
          "Origin": "USA",
          "Year": "1982-01-01"
         },
         {
          "Horsepower": 88,
          "Miles_per_Gallon": 36,
          "Name": "nissan stanza xe",
          "Origin": "Japan",
          "Year": "1982-01-01"
         },
         {
          "Horsepower": 75,
          "Miles_per_Gallon": 36,
          "Name": "honda Accelerationord",
          "Origin": "Japan",
          "Year": "1982-01-01"
         },
         {
          "Horsepower": 70,
          "Miles_per_Gallon": 34,
          "Name": "toyota corolla",
          "Origin": "Japan",
          "Year": "1982-01-01"
         },
         {
          "Horsepower": 67,
          "Miles_per_Gallon": 38,
          "Name": "honda civic",
          "Origin": "Japan",
          "Year": "1982-01-01"
         },
         {
          "Horsepower": 67,
          "Miles_per_Gallon": 32,
          "Name": "honda civic (auto)",
          "Origin": "Japan",
          "Year": "1982-01-01"
         },
         {
          "Horsepower": 67,
          "Miles_per_Gallon": 38,
          "Name": "datsun 310 gx",
          "Origin": "Japan",
          "Year": "1982-01-01"
         },
         {
          "Horsepower": 110,
          "Miles_per_Gallon": 25,
          "Name": "buick century limited",
          "Origin": "USA",
          "Year": "1982-01-01"
         },
         {
          "Horsepower": 85,
          "Miles_per_Gallon": 38,
          "Name": "oldsmobile cutlass ciera (diesel)",
          "Origin": "USA",
          "Year": "1982-01-01"
         },
         {
          "Horsepower": 92,
          "Miles_per_Gallon": 26,
          "Name": "chrysler lebaron medallion",
          "Origin": "USA",
          "Year": "1982-01-01"
         },
         {
          "Horsepower": 112,
          "Miles_per_Gallon": 22,
          "Name": "ford granada l",
          "Origin": "USA",
          "Year": "1982-01-01"
         },
         {
          "Horsepower": 96,
          "Miles_per_Gallon": 32,
          "Name": "toyota celica gt",
          "Origin": "Japan",
          "Year": "1982-01-01"
         },
         {
          "Horsepower": 84,
          "Miles_per_Gallon": 36,
          "Name": "dodge charger 2.2",
          "Origin": "USA",
          "Year": "1982-01-01"
         },
         {
          "Horsepower": 90,
          "Miles_per_Gallon": 27,
          "Name": "chevrolet camaro",
          "Origin": "USA",
          "Year": "1982-01-01"
         },
         {
          "Horsepower": 86,
          "Miles_per_Gallon": 27,
          "Name": "ford mustang gl",
          "Origin": "USA",
          "Year": "1982-01-01"
         },
         {
          "Horsepower": 52,
          "Miles_per_Gallon": 44,
          "Name": "vw pickup",
          "Origin": "Europe",
          "Year": "1982-01-01"
         },
         {
          "Horsepower": 84,
          "Miles_per_Gallon": 32,
          "Name": "dodge rampage",
          "Origin": "USA",
          "Year": "1982-01-01"
         },
         {
          "Horsepower": 79,
          "Miles_per_Gallon": 28,
          "Name": "ford ranger",
          "Origin": "USA",
          "Year": "1982-01-01"
         },
         {
          "Horsepower": 82,
          "Miles_per_Gallon": 31,
          "Name": "chevy s-10",
          "Origin": "USA",
          "Year": "1982-01-01"
         }
        ]
       },
       "encoding": {
        "x": {
         "field": "Year",
         "timeUnit": "year",
         "type": "temporal"
        }
       },
       "layer": [
        {
         "encoding": {
          "y": {
           "field": "Miles_per_Gallon",
           "title": "Mean of Miles per Gallon (95% CIs)",
           "type": "quantitative"
          }
         },
         "mark": {
          "extent": "ci",
          "type": "errorband"
         }
        },
        {
         "encoding": {
          "y": {
           "aggregate": "mean",
           "field": "Miles_per_Gallon",
           "type": "quantitative"
          }
         },
         "mark": "line"
        }
       ],
       "title": "Line Chart with Confidence Interval Band"
      },
      "image/png": "[encoded data removed]",
      "image/svg+xml": [
       "<?xml version=\"1.0\" encoding=\"utf-8\"?>\n",
       "<!DOCTYPE svg PUBLIC \"-//W3C//DTD SVG 1.1//EN\" \"http://www.w3.org/Graphics/SVG/1.1/DTD/svg11.dtd\">\n",
       "<svg xmlns=\"http://www.w3.org/2000/svg\" xmlns:xlink=\"http://www.w3.org/1999/xlink\" version=\"1.1\" class=\"marks\" width=\"282\" height=\"264\" viewBox=\"0 0 282 264\"><rect width=\"282\" height=\"264\" fill=\"white\"/><g fill=\"none\" stroke-miterlimit=\"10\" transform=\"translate(41,27)\"><g class=\"mark-group role-frame root\" role=\"graphics-object\" aria-roledescription=\"group mark container\"><g transform=\"translate(0,0)\"><path class=\"background\" aria-hidden=\"true\" d=\"M0.5,0.5h200v200h-200Z\" stroke=\"#ddd\"/><g><g class=\"mark-group role-axis\" aria-hidden=\"true\"><g transform=\"translate(0.5,200.5)\"><path class=\"background\" aria-hidden=\"true\" d=\"M0,0h0v0h0Z\" pointer-events=\"none\"/><g><g class=\"mark-rule role-axis-grid\" pointer-events=\"none\"><line transform=\"translate(17,-200)\" x2=\"0\" y2=\"200\" stroke=\"#ddd\" stroke-width=\"1\" opacity=\"1\"/><line transform=\"translate(50,-200)\" x2=\"0\" y2=\"200\" stroke=\"#ddd\" stroke-width=\"1\" opacity=\"1\"/><line transform=\"translate(83,-200)\" x2=\"0\" y2=\"200\" stroke=\"#ddd\" stroke-width=\"1\" opacity=\"1\"/><line transform=\"translate(117,-200)\" x2=\"0\" y2=\"200\" stroke=\"#ddd\" stroke-width=\"1\" opacity=\"1\"/><line transform=\"translate(150,-200)\" x2=\"0\" y2=\"200\" stroke=\"#ddd\" stroke-width=\"1\" opacity=\"1\"/><line transform=\"translate(183,-200)\" x2=\"0\" y2=\"200\" stroke=\"#ddd\" stroke-width=\"1\" opacity=\"1\"/></g></g><path class=\"foreground\" aria-hidden=\"true\" d=\"\" pointer-events=\"none\" display=\"none\"/></g></g><g class=\"mark-group role-axis\" aria-hidden=\"true\"><g transform=\"translate(0.5,0.5)\"><path class=\"background\" aria-hidden=\"true\" d=\"M0,0h0v0h0Z\" pointer-events=\"none\"/><g><g class=\"mark-rule role-axis-grid\" pointer-events=\"none\"><line transform=\"translate(0,200)\" x2=\"200\" y2=\"0\" stroke=\"#ddd\" stroke-width=\"1\" opacity=\"1\"/><line transform=\"translate(0,150)\" x2=\"200\" y2=\"0\" stroke=\"#ddd\" stroke-width=\"1\" opacity=\"1\"/><line transform=\"translate(0,100)\" x2=\"200\" y2=\"0\" stroke=\"#ddd\" stroke-width=\"1\" opacity=\"1\"/><line transform=\"translate(0,50)\" x2=\"200\" y2=\"0\" stroke=\"#ddd\" stroke-width=\"1\" opacity=\"1\"/><line transform=\"translate(0,0)\" x2=\"200\" y2=\"0\" stroke=\"#ddd\" stroke-width=\"1\" opacity=\"1\"/></g></g><path class=\"foreground\" aria-hidden=\"true\" d=\"\" pointer-events=\"none\" display=\"none\"/></g></g><g class=\"mark-group role-axis\" role=\"graphics-symbol\" aria-roledescription=\"axis\" aria-label=\"X-axis titled 'Year (year)' for a time scale with values from 1969 to 1981\"><g transform=\"translate(0.5,200.5)\"><path class=\"background\" aria-hidden=\"true\" d=\"M0,0h0v0h0Z\" pointer-events=\"none\"/><g><g class=\"mark-rule role-axis-tick\" pointer-events=\"none\"><line transform=\"translate(17,0)\" x2=\"0\" y2=\"5\" stroke=\"#888\" stroke-width=\"1\" opacity=\"1\"/><line transform=\"translate(50,0)\" x2=\"0\" y2=\"5\" stroke=\"#888\" stroke-width=\"1\" opacity=\"1\"/><line transform=\"translate(83,0)\" x2=\"0\" y2=\"5\" stroke=\"#888\" stroke-width=\"1\" opacity=\"1\"/><line transform=\"translate(117,0)\" x2=\"0\" y2=\"5\" stroke=\"#888\" stroke-width=\"1\" opacity=\"1\"/><line transform=\"translate(150,0)\" x2=\"0\" y2=\"5\" stroke=\"#888\" stroke-width=\"1\" opacity=\"1\"/><line transform=\"translate(183,0)\" x2=\"0\" y2=\"5\" stroke=\"#888\" stroke-width=\"1\" opacity=\"1\"/></g><g class=\"mark-text role-axis-label\" pointer-events=\"none\"><text text-anchor=\"middle\" transform=\"translate(16.65525895505362,15)\" font-family=\"sans-serif\" font-size=\"10px\" fill=\"#000\" opacity=\"1\">1970</text><text text-anchor=\"middle\" transform=\"translate(49.96577686516085,15)\" font-family=\"sans-serif\" font-size=\"10px\" fill=\"#000\" opacity=\"1\">1972</text><text text-anchor=\"middle\" transform=\"translate(83.32192562172028,15)\" font-family=\"sans-serif\" font-size=\"10px\" fill=\"#000\" opacity=\"1\">1974</text><text text-anchor=\"middle\" transform=\"translate(116.6324435318275,15)\" font-family=\"sans-serif\" font-size=\"10px\" fill=\"#000\" opacity=\"1\">1976</text><text text-anchor=\"middle\" transform=\"translate(149.98859228838694,15)\" font-family=\"sans-serif\" font-size=\"10px\" fill=\"#000\" opacity=\"1\">1978</text><text text-anchor=\"middle\" transform=\"translate(183.2991101984942,15)\" font-family=\"sans-serif\" font-size=\"10px\" fill=\"#000\" opacity=\"1\">1980</text></g><g class=\"mark-rule role-axis-domain\" pointer-events=\"none\"><line transform=\"translate(0,0)\" x2=\"200\" y2=\"0\" stroke=\"#888\" stroke-width=\"1\" opacity=\"1\"/></g><g class=\"mark-text role-axis-title\" pointer-events=\"none\"><text text-anchor=\"middle\" transform=\"translate(100,30)\" font-family=\"sans-serif\" font-size=\"11px\" font-weight=\"bold\" fill=\"#000\" opacity=\"1\">Year (year)</text></g></g><path class=\"foreground\" aria-hidden=\"true\" d=\"\" pointer-events=\"none\" display=\"none\"/></g></g><g class=\"mark-group role-axis\" role=\"graphics-symbol\" aria-roledescription=\"axis\" aria-label=\"Y-axis titled 'Mean of Miles per Gallon (95% CIs)' for a linear scale with values from 0 to 40\"><g transform=\"translate(0.5,0.5)\"><path class=\"background\" aria-hidden=\"true\" d=\"M0,0h0v0h0Z\" pointer-events=\"none\"/><g><g class=\"mark-rule role-axis-tick\" pointer-events=\"none\"><line transform=\"translate(0,200)\" x2=\"-5\" y2=\"0\" stroke=\"#888\" stroke-width=\"1\" opacity=\"1\"/><line transform=\"translate(0,150)\" x2=\"-5\" y2=\"0\" stroke=\"#888\" stroke-width=\"1\" opacity=\"1\"/><line transform=\"translate(0,100)\" x2=\"-5\" y2=\"0\" stroke=\"#888\" stroke-width=\"1\" opacity=\"1\"/><line transform=\"translate(0,50)\" x2=\"-5\" y2=\"0\" stroke=\"#888\" stroke-width=\"1\" opacity=\"1\"/><line transform=\"translate(0,0)\" x2=\"-5\" y2=\"0\" stroke=\"#888\" stroke-width=\"1\" opacity=\"1\"/></g><g class=\"mark-text role-axis-label\" pointer-events=\"none\"><text text-anchor=\"end\" transform=\"translate(-7,203)\" font-family=\"sans-serif\" font-size=\"10px\" fill=\"#000\" opacity=\"1\">0</text><text text-anchor=\"end\" transform=\"translate(-7,153)\" font-family=\"sans-serif\" font-size=\"10px\" fill=\"#000\" opacity=\"1\">10</text><text text-anchor=\"end\" transform=\"translate(-7,103)\" font-family=\"sans-serif\" font-size=\"10px\" fill=\"#000\" opacity=\"1\">20</text><text text-anchor=\"end\" transform=\"translate(-7,53)\" font-family=\"sans-serif\" font-size=\"10px\" fill=\"#000\" opacity=\"1\">30</text><text text-anchor=\"end\" transform=\"translate(-7,3)\" font-family=\"sans-serif\" font-size=\"10px\" fill=\"#000\" opacity=\"1\">40</text></g><g class=\"mark-rule role-axis-domain\" pointer-events=\"none\"><line transform=\"translate(0,200)\" x2=\"0\" y2=\"-200\" stroke=\"#888\" stroke-width=\"1\" opacity=\"1\"/></g><g class=\"mark-text role-axis-title\" pointer-events=\"none\"><text text-anchor=\"middle\" transform=\"translate(-23,100) rotate(-90) translate(0,-2)\" font-family=\"sans-serif\" font-size=\"11px\" font-weight=\"bold\" fill=\"#000\" opacity=\"1\">Mean of Miles per Gallon (95% CIs)</text></g></g><path class=\"foreground\" aria-hidden=\"true\" d=\"\" pointer-events=\"none\" display=\"none\"/></g></g><g class=\"mark-area role-mark layer_0_layer_0_marks\" role=\"graphics-object\" aria-roledescription=\"area mark container\"><path aria-label=\"Mean of Miles per Gallon (95% CIs): 15.6198275862; upper_Miles_per_Gallon: 19.6905172414; Year (year): Jan 01, 1969; Ci1 of Miles_per_Gallon: 19.6905172414; Ci0 of Miles_per_Gallon: 15.6198275862; Mean of Miles_per_Gallon: 17.6896551724\" role=\"graphics-symbol\" aria-roledescription=\"errorband\" d=\"M0,121.90086206896551L16.65525895505362,105.55357142857144L33.31051791010724,116.79017857142857L49.96577686516085,121.50000000000001L66.66666666666666,98.33333333333334L83.32192562172028,107.16666666666667L99.97718457677391,101.91544117647058L116.6324435318275,94.64285714285714L133.33333333333331,90.02812500000002L149.98859228838694,86.15991379310348L166.64385124344057,43.672844827586246L200,51.60916666666666L200,38.54895833333338L166.64385124344057,19.228448275862032L149.98859228838694,63.13060344827588L133.33333333333331,68.4284722222222L116.6324435318275,71.78348214285715L99.97718457677391,82.13051470588235L83.32192562172028,89.49583333333334L66.66666666666666,73.88888888888889L49.96577686516085,107.125L33.31051791010724,96.24553571428574L16.65525895505362,81.07142857142857L0,101.54741379310343Z\" fill=\"#4c78a8\" opacity=\"0.3\"/></g><g class=\"mark-line role-mark layer_1_marks\" role=\"graphics-object\" aria-roledescription=\"line mark container\"><path aria-label=\"Year (year): 1969; Mean of Miles_per_Gallon: 17.6896551724\" role=\"graphics-symbol\" aria-roledescription=\"line mark\" d=\"M0,111.55172413793105L16.65525895505362,93.74999999999997L33.31051791010724,106.42857142857143L49.96577686516085,114.5L66.66666666666666,86.48148148148145L83.32192562172028,98.66666666666666L99.97718457677391,92.13235294117648L116.6324435318275,83.12499999999996L133.33333333333331,79.69444444444444L149.98859228838694,74.5344827586207L166.64385124344057,31.517241379310402L200,44.77499999999996\" stroke=\"#4c78a8\" stroke-width=\"2\"/></g><g class=\"mark-group role-title\"><g transform=\"translate(100,-22)\"><path class=\"background\" aria-hidden=\"true\" d=\"M0,0h0v0h0Z\" pointer-events=\"none\"/><g><g class=\"mark-text role-title-text\" role=\"graphics-symbol\" aria-roledescription=\"title\" aria-label=\"Title text 'Line Chart with Confidence Interval Band'\" pointer-events=\"none\"><text text-anchor=\"middle\" transform=\"translate(0,10)\" font-family=\"sans-serif\" font-size=\"13px\" font-weight=\"bold\" fill=\"#000\" opacity=\"1\">Line Chart with Confidence Interval Band</text></g></g><path class=\"foreground\" aria-hidden=\"true\" d=\"\" pointer-events=\"none\" display=\"none\"/></g></g></g><path class=\"foreground\" aria-hidden=\"true\" d=\"\" display=\"none\"/></g></g></g></svg>\n"
      ],
      "text/plain": [
       "@vlplot(\n",
       "    data={\n",
       "        values=...\n",
       "    },\n",
       "    title=\"Line Chart with Confidence Interval Band\",\n",
       "    encoding={\n",
       "        x={\n",
       "            timeUnit=\"year\",\n",
       "            field=\"Year\",\n",
       "            type=\"temporal\"\n",
       "        }\n",
       "    },\n",
       "    layer=[\n",
       "        {\n",
       "            mark={\n",
       "                extent=\"ci\",\n",
       "                type=\"errorband\"\n",
       "            },\n",
       "            encoding={\n",
       "                y={\n",
       "                    title=\"Mean of Miles per Gallon (95% CIs)\",\n",
       "                    field=\"Miles_per_Gallon\"\n",
       "                }\n",
       "            }\n",
       "        },\n",
       "        {\n",
       "            mark=\"line\",\n",
       "            encoding={\n",
       "                y={\n",
       "                    aggregate=\"mean\",\n",
       "                    field=\"Miles_per_Gallon\",\n",
       "                    type=\"quantitative\"\n",
       "                }\n",
       "            }\n",
       "        }\n",
       "    ]\n",
       ")"
      ]
     },
     "execution_count": 3,
     "metadata": {},
     "output_type": "execute_result"
    }
   ],
   "source": [
    "@vlplot(\n",
    "  data = cars,  # Contains data and the x axix of chart\n",
    "  x = \"year(Year)\",\n",
    "  title = \"Line Chart with Confidence Interval Band\"\n",
    ") +\n",
    "\n",
    "@vlplot(\n",
    "  mark = {:errorband, extent=:ci},  # First band containing the CI\n",
    "  y = {\"Miles_per_Gallon\", title=\"Mean of Miles per Gallon (95% CIs)\"}\n",
    ") + \n",
    "\n",
    "@vlplot(\n",
    "  mark = :line,  # Second band of a line plot of mean miles\n",
    "  y = \"mean(Miles_per_Gallon)\"\n",
    "\n",
    ")"
   ]
  },
  {
   "cell_type": "code",
   "execution_count": 4,
   "metadata": {
    "nteract": {
     "transient": {
      "deleting": false
     }
    }
   },
   "outputs": [
    {
     "data": {
      "text/html": [
       "<div class=\"data-frame\"><p>4 rows × 4 columns</p><table class=\"data-frame\"><thead><tr><th></th><th>yield</th><th>variety</th><th>year</th><th>site</th></tr><tr><th></th><th title=\"Float64\">Float64</th><th title=\"String\">String</th><th title=\"Int64\">Int64</th><th title=\"String\">String</th></tr></thead><tbody><tr><th>1</th><td>27.0</td><td>Manchuria</td><td>1931</td><td>University Farm</td></tr><tr><th>2</th><td>48.8667</td><td>Manchuria</td><td>1931</td><td>Waseca</td></tr><tr><th>3</th><td>27.4333</td><td>Manchuria</td><td>1931</td><td>Morris</td></tr><tr><th>4</th><td>39.9333</td><td>Manchuria</td><td>1931</td><td>Crookston</td></tr></tbody></table></div>"
      ],
      "text/latex": [
       "\\begin{tabular}{r|cccc}\n",
       "\t& yield & variety & year & site\\\\\n",
       "\t\\hline\n",
       "\t& Float64 & String & Int64 & String\\\\\n",
       "\t\\hline\n",
       "\t1 & 27.0 & Manchuria & 1931 & University Farm \\\\\n",
       "\t2 & 48.8667 & Manchuria & 1931 & Waseca \\\\\n",
       "\t3 & 27.4333 & Manchuria & 1931 & Morris \\\\\n",
       "\t4 & 39.9333 & Manchuria & 1931 & Crookston \\\\\n",
       "\\end{tabular}\n"
      ],
      "text/plain": [
       "\u001b[1m4×4 DataFrame\u001b[0m\n",
       "\u001b[1m Row \u001b[0m│\u001b[1m yield   \u001b[0m\u001b[1m variety   \u001b[0m\u001b[1m year  \u001b[0m\u001b[1m site            \u001b[0m\n",
       "\u001b[1m     \u001b[0m│\u001b[90m Float64 \u001b[0m\u001b[90m String    \u001b[0m\u001b[90m Int64 \u001b[0m\u001b[90m String          \u001b[0m\n",
       "─────┼────────────────────────────────────────────\n",
       "   1 │ 27.0     Manchuria   1931  University Farm\n",
       "   2 │ 48.8667  Manchuria   1931  Waseca\n",
       "   3 │ 27.4333  Manchuria   1931  Morris\n",
       "   4 │ 39.9333  Manchuria   1931  Crookston"
      ]
     },
     "execution_count": 4,
     "metadata": {},
     "output_type": "execute_result"
    }
   ],
   "source": [
    "# Import barley data\n",
    "\n",
    "barley = dataset(\"barley\") |> DataFrame;\n",
    "first(barley, 4)"
   ]
  },
  {
   "cell_type": "markdown",
   "metadata": {
    "nteract": {
     "transient": {
      "deleting": false
     }
    }
   },
   "source": [
    "## Error Bar Plot"
   ]
  },
  {
   "cell_type": "code",
   "execution_count": 5,
   "metadata": {
    "nteract": {
     "transient": {
      "deleting": false
     }
    }
   },
   "outputs": [
    {
     "data": {
      "application/vnd.vegalite.v4+json": {
       "data": {
        "values": [
         {
          "site": "University Farm",
          "variety": "Manchuria",
          "year": 1931,
          "yield": 27
         },
         {
          "site": "Waseca",
          "variety": "Manchuria",
          "year": 1931,
          "yield": 48.86667
         },
         {
          "site": "Morris",
          "variety": "Manchuria",
          "year": 1931,
          "yield": 27.43334
         },
         {
          "site": "Crookston",
          "variety": "Manchuria",
          "year": 1931,
          "yield": 39.93333
         },
         {
          "site": "Grand Rapids",
          "variety": "Manchuria",
          "year": 1931,
          "yield": 32.96667
         },
         {
          "site": "Duluth",
          "variety": "Manchuria",
          "year": 1931,
          "yield": 28.96667
         },
         {
          "site": "University Farm",
          "variety": "Glabron",
          "year": 1931,
          "yield": 43.06666
         },
         {
          "site": "Waseca",
          "variety": "Glabron",
          "year": 1931,
          "yield": 55.2
         },
         {
          "site": "Morris",
          "variety": "Glabron",
          "year": 1931,
          "yield": 28.76667
         },
         {
          "site": "Crookston",
          "variety": "Glabron",
          "year": 1931,
          "yield": 38.13333
         },
         {
          "site": "Grand Rapids",
          "variety": "Glabron",
          "year": 1931,
          "yield": 29.13333
         },
         {
          "site": "Duluth",
          "variety": "Glabron",
          "year": 1931,
          "yield": 29.66667
         },
         {
          "site": "University Farm",
          "variety": "Svansota",
          "year": 1931,
          "yield": 35.13333
         },
         {
          "site": "Waseca",
          "variety": "Svansota",
          "year": 1931,
          "yield": 47.33333
         },
         {
          "site": "Morris",
          "variety": "Svansota",
          "year": 1931,
          "yield": 25.76667
         },
         {
          "site": "Crookston",
          "variety": "Svansota",
          "year": 1931,
          "yield": 40.46667
         },
         {
          "site": "Grand Rapids",
          "variety": "Svansota",
          "year": 1931,
          "yield": 29.66667
         },
         {
          "site": "Duluth",
          "variety": "Svansota",
          "year": 1931,
          "yield": 25.7
         },
         {
          "site": "University Farm",
          "variety": "Velvet",
          "year": 1931,
          "yield": 39.9
         },
         {
          "site": "Waseca",
          "variety": "Velvet",
          "year": 1931,
          "yield": 50.23333
         },
         {
          "site": "Morris",
          "variety": "Velvet",
          "year": 1931,
          "yield": 26.13333
         },
         {
          "site": "Crookston",
          "variety": "Velvet",
          "year": 1931,
          "yield": 41.33333
         },
         {
          "site": "Grand Rapids",
          "variety": "Velvet",
          "year": 1931,
          "yield": 23.03333
         },
         {
          "site": "Duluth",
          "variety": "Velvet",
          "year": 1931,
          "yield": 26.3
         },
         {
          "site": "University Farm",
          "variety": "Trebi",
          "year": 1931,
          "yield": 36.56666
         },
         {
          "site": "Waseca",
          "variety": "Trebi",
          "year": 1931,
          "yield": 63.8333
         },
         {
          "site": "Morris",
          "variety": "Trebi",
          "year": 1931,
          "yield": 43.76667
         },
         {
          "site": "Crookston",
          "variety": "Trebi",
          "year": 1931,
          "yield": 46.93333
         },
         {
          "site": "Grand Rapids",
          "variety": "Trebi",
          "year": 1931,
          "yield": 29.76667
         },
         {
          "site": "Duluth",
          "variety": "Trebi",
          "year": 1931,
          "yield": 33.93333
         },
         {
          "site": "University Farm",
          "variety": "No. 457",
          "year": 1931,
          "yield": 43.26667
         },
         {
          "site": "Waseca",
          "variety": "No. 457",
          "year": 1931,
          "yield": 58.1
         },
         {
          "site": "Morris",
          "variety": "No. 457",
          "year": 1931,
          "yield": 28.7
         },
         {
          "site": "Crookston",
          "variety": "No. 457",
          "year": 1931,
          "yield": 45.66667
         },
         {
          "site": "Grand Rapids",
          "variety": "No. 457",
          "year": 1931,
          "yield": 32.16667
         },
         {
          "site": "Duluth",
          "variety": "No. 457",
          "year": 1931,
          "yield": 33.6
         },
         {
          "site": "University Farm",
          "variety": "No. 462",
          "year": 1931,
          "yield": 36.6
         },
         {
          "site": "Waseca",
          "variety": "No. 462",
          "year": 1931,
          "yield": 65.7667
         },
         {
          "site": "Morris",
          "variety": "No. 462",
          "year": 1931,
          "yield": 30.36667
         },
         {
          "site": "Crookston",
          "variety": "No. 462",
          "year": 1931,
          "yield": 48.56666
         },
         {
          "site": "Grand Rapids",
          "variety": "No. 462",
          "year": 1931,
          "yield": 24.93334
         },
         {
          "site": "Duluth",
          "variety": "No. 462",
          "year": 1931,
          "yield": 28.1
         },
         {
          "site": "University Farm",
          "variety": "Peatland",
          "year": 1931,
          "yield": 32.76667
         },
         {
          "site": "Waseca",
          "variety": "Peatland",
          "year": 1931,
          "yield": 48.56666
         },
         {
          "site": "Morris",
          "variety": "Peatland",
          "year": 1931,
          "yield": 29.86667
         },
         {
          "site": "Crookston",
          "variety": "Peatland",
          "year": 1931,
          "yield": 41.6
         },
         {
          "site": "Grand Rapids",
          "variety": "Peatland",
          "year": 1931,
          "yield": 34.7
         },
         {
          "site": "Duluth",
          "variety": "Peatland",
          "year": 1931,
          "yield": 32
         },
         {
          "site": "University Farm",
          "variety": "No. 475",
          "year": 1931,
          "yield": 24.66667
         },
         {
          "site": "Waseca",
          "variety": "No. 475",
          "year": 1931,
          "yield": 46.76667
         },
         {
          "site": "Morris",
          "variety": "No. 475",
          "year": 1931,
          "yield": 22.6
         },
         {
          "site": "Crookston",
          "variety": "No. 475",
          "year": 1931,
          "yield": 44.1
         },
         {
          "site": "Grand Rapids",
          "variety": "No. 475",
          "year": 1931,
          "yield": 19.7
         },
         {
          "site": "Duluth",
          "variety": "No. 475",
          "year": 1931,
          "yield": 33.06666
         },
         {
          "site": "University Farm",
          "variety": "Wisconsin No. 38",
          "year": 1931,
          "yield": 39.3
         },
         {
          "site": "Waseca",
          "variety": "Wisconsin No. 38",
          "year": 1931,
          "yield": 58.8
         },
         {
          "site": "Morris",
          "variety": "Wisconsin No. 38",
          "year": 1931,
          "yield": 29.46667
         },
         {
          "site": "Crookston",
          "variety": "Wisconsin No. 38",
          "year": 1931,
          "yield": 49.86667
         },
         {
          "site": "Grand Rapids",
          "variety": "Wisconsin No. 38",
          "year": 1931,
          "yield": 34.46667
         },
         {
          "site": "Duluth",
          "variety": "Wisconsin No. 38",
          "year": 1931,
          "yield": 31.6
         },
         {
          "site": "University Farm",
          "variety": "Manchuria",
          "year": 1932,
          "yield": 26.9
         },
         {
          "site": "Waseca",
          "variety": "Manchuria",
          "year": 1932,
          "yield": 33.46667
         },
         {
          "site": "Morris",
          "variety": "Manchuria",
          "year": 1932,
          "yield": 34.36666
         },
         {
          "site": "Crookston",
          "variety": "Manchuria",
          "year": 1932,
          "yield": 32.96667
         },
         {
          "site": "Grand Rapids",
          "variety": "Manchuria",
          "year": 1932,
          "yield": 22.13333
         },
         {
          "site": "Duluth",
          "variety": "Manchuria",
          "year": 1932,
          "yield": 22.56667
         },
         {
          "site": "University Farm",
          "variety": "Glabron",
          "year": 1932,
          "yield": 36.8
         },
         {
          "site": "Waseca",
          "variety": "Glabron",
          "year": 1932,
          "yield": 37.73333
         },
         {
          "site": "Morris",
          "variety": "Glabron",
          "year": 1932,
          "yield": 35.13333
         },
         {
          "site": "Crookston",
          "variety": "Glabron",
          "year": 1932,
          "yield": 26.16667
         },
         {
          "site": "Grand Rapids",
          "variety": "Glabron",
          "year": 1932,
          "yield": 14.43333
         },
         {
          "site": "Duluth",
          "variety": "Glabron",
          "year": 1932,
          "yield": 25.86667
         },
         {
          "site": "University Farm",
          "variety": "Svansota",
          "year": 1932,
          "yield": 27.43334
         },
         {
          "site": "Waseca",
          "variety": "Svansota",
          "year": 1932,
          "yield": 38.5
         },
         {
          "site": "Morris",
          "variety": "Svansota",
          "year": 1932,
          "yield": 35.03333
         },
         {
          "site": "Crookston",
          "variety": "Svansota",
          "year": 1932,
          "yield": 20.63333
         },
         {
          "site": "Grand Rapids",
          "variety": "Svansota",
          "year": 1932,
          "yield": 16.63333
         },
         {
          "site": "Duluth",
          "variety": "Svansota",
          "year": 1932,
          "yield": 22.23333
         },
         {
          "site": "University Farm",
          "variety": "Velvet",
          "year": 1932,
          "yield": 26.8
         },
         {
          "site": "Waseca",
          "variety": "Velvet",
          "year": 1932,
          "yield": 37.4
         },
         {
          "site": "Morris",
          "variety": "Velvet",
          "year": 1932,
          "yield": 38.83333
         },
         {
          "site": "Crookston",
          "variety": "Velvet",
          "year": 1932,
          "yield": 32.06666
         },
         {
          "site": "Grand Rapids",
          "variety": "Velvet",
          "year": 1932,
          "yield": 32.23333
         },
         {
          "site": "Duluth",
          "variety": "Velvet",
          "year": 1932,
          "yield": 22.46667
         },
         {
          "site": "University Farm",
          "variety": "Trebi",
          "year": 1932,
          "yield": 29.06667
         },
         {
          "site": "Waseca",
          "variety": "Trebi",
          "year": 1932,
          "yield": 49.2333
         },
         {
          "site": "Morris",
          "variety": "Trebi",
          "year": 1932,
          "yield": 46.63333
         },
         {
          "site": "Crookston",
          "variety": "Trebi",
          "year": 1932,
          "yield": 41.83333
         },
         {
          "site": "Grand Rapids",
          "variety": "Trebi",
          "year": 1932,
          "yield": 20.63333
         },
         {
          "site": "Duluth",
          "variety": "Trebi",
          "year": 1932,
          "yield": 30.6
         },
         {
          "site": "University Farm",
          "variety": "No. 457",
          "year": 1932,
          "yield": 26.43334
         },
         {
          "site": "Waseca",
          "variety": "No. 457",
          "year": 1932,
          "yield": 42.2
         },
         {
          "site": "Morris",
          "variety": "No. 457",
          "year": 1932,
          "yield": 43.53334
         },
         {
          "site": "Crookston",
          "variety": "No. 457",
          "year": 1932,
          "yield": 34.33333
         },
         {
          "site": "Grand Rapids",
          "variety": "No. 457",
          "year": 1932,
          "yield": 19.46667
         },
         {
          "site": "Duluth",
          "variety": "No. 457",
          "year": 1932,
          "yield": 22.7
         },
         {
          "site": "University Farm",
          "variety": "No. 462",
          "year": 1932,
          "yield": 25.56667
         },
         {
          "site": "Waseca",
          "variety": "No. 462",
          "year": 1932,
          "yield": 44.7
         },
         {
          "site": "Morris",
          "variety": "No. 462",
          "year": 1932,
          "yield": 47
         },
         {
          "site": "Crookston",
          "variety": "No. 462",
          "year": 1932,
          "yield": 30.53333
         },
         {
          "site": "Grand Rapids",
          "variety": "No. 462",
          "year": 1932,
          "yield": 19.9
         },
         {
          "site": "Duluth",
          "variety": "No. 462",
          "year": 1932,
          "yield": 22.5
         },
         {
          "site": "University Farm",
          "variety": "Peatland",
          "year": 1932,
          "yield": 28.06667
         },
         {
          "site": "Waseca",
          "variety": "Peatland",
          "year": 1932,
          "yield": 36.03333
         },
         {
          "site": "Morris",
          "variety": "Peatland",
          "year": 1932,
          "yield": 43.2
         },
         {
          "site": "Crookston",
          "variety": "Peatland",
          "year": 1932,
          "yield": 25.23333
         },
         {
          "site": "Grand Rapids",
          "variety": "Peatland",
          "year": 1932,
          "yield": 26.76667
         },
         {
          "site": "Duluth",
          "variety": "Peatland",
          "year": 1932,
          "yield": 31.36667
         },
         {
          "site": "University Farm",
          "variety": "No. 475",
          "year": 1932,
          "yield": 30
         },
         {
          "site": "Waseca",
          "variety": "No. 475",
          "year": 1932,
          "yield": 41.26667
         },
         {
          "site": "Morris",
          "variety": "No. 475",
          "year": 1932,
          "yield": 44.23333
         },
         {
          "site": "Crookston",
          "variety": "No. 475",
          "year": 1932,
          "yield": 32.13333
         },
         {
          "site": "Grand Rapids",
          "variety": "No. 475",
          "year": 1932,
          "yield": 15.23333
         },
         {
          "site": "Duluth",
          "variety": "No. 475",
          "year": 1932,
          "yield": 27.36667
         },
         {
          "site": "University Farm",
          "variety": "Wisconsin No. 38",
          "year": 1932,
          "yield": 38
         },
         {
          "site": "Waseca",
          "variety": "Wisconsin No. 38",
          "year": 1932,
          "yield": 58.16667
         },
         {
          "site": "Morris",
          "variety": "Wisconsin No. 38",
          "year": 1932,
          "yield": 47.16667
         },
         {
          "site": "Crookston",
          "variety": "Wisconsin No. 38",
          "year": 1932,
          "yield": 35.9
         },
         {
          "site": "Grand Rapids",
          "variety": "Wisconsin No. 38",
          "year": 1932,
          "yield": 20.66667
         },
         {
          "site": "Duluth",
          "variety": "Wisconsin No. 38",
          "year": 1932,
          "yield": 29.33333
         }
        ]
       },
       "encoding": {
        "y": {
         "field": "variety",
         "type": "nominal"
        }
       },
       "layer": [
        {
         "encoding": {
          "x": {
           "aggregate": "mean",
           "field": "yield",
           "scale": {
            "zero": false
           },
           "type": "quantitative"
          }
         },
         "mark": {
          "color": "black",
          "filled": true,
          "type": "point"
         }
        },
        {
         "encoding": {
          "x": {
           "field": "yield",
           "type": "quantitative"
          }
         },
         "mark": {
          "color": "blue",
          "extent": "ci",
          "type": "errorbar"
         }
        }
       ],
       "title": "Error Bar Plot"
      },
      "image/png": "[encoded data removed]",
      "image/svg+xml": [
       "<?xml version=\"1.0\" encoding=\"utf-8\"?>\n",
       "<!DOCTYPE svg PUBLIC \"-//W3C//DTD SVG 1.1//EN\" \"http://www.w3.org/Graphics/SVG/1.1/DTD/svg11.dtd\">\n",
       "<svg xmlns=\"http://www.w3.org/2000/svg\" xmlns:xlink=\"http://www.w3.org/1999/xlink\" version=\"1.1\" class=\"marks\" width=\"315\" height=\"259\" viewBox=\"0 0 315 259\"><rect width=\"315\" height=\"259\" fill=\"white\"/><g fill=\"none\" stroke-miterlimit=\"10\" transform=\"translate(110,22)\"><g class=\"mark-group role-frame root\" role=\"graphics-object\" aria-roledescription=\"group mark container\"><g transform=\"translate(0,0)\"><path class=\"background\" aria-hidden=\"true\" d=\"M0.5,0.5h200v200h-200Z\" stroke=\"#ddd\"/><g><g class=\"mark-group role-axis\" aria-hidden=\"true\"><g transform=\"translate(0.5,200.5)\"><path class=\"background\" aria-hidden=\"true\" d=\"M0,0h0v0h0Z\" pointer-events=\"none\"/><g><g class=\"mark-rule role-axis-grid\" pointer-events=\"none\"><line transform=\"translate(8,0)\" x2=\"0\" y2=\"-200\" stroke=\"#ddd\" stroke-width=\"1\" opacity=\"1\"/><line transform=\"translate(50,0)\" x2=\"0\" y2=\"-200\" stroke=\"#ddd\" stroke-width=\"1\" opacity=\"1\"/><line transform=\"translate(92,0)\" x2=\"0\" y2=\"-200\" stroke=\"#ddd\" stroke-width=\"1\" opacity=\"1\"/><line transform=\"translate(133,0)\" x2=\"0\" y2=\"-200\" stroke=\"#ddd\" stroke-width=\"1\" opacity=\"1\"/><line transform=\"translate(175,0)\" x2=\"0\" y2=\"-200\" stroke=\"#ddd\" stroke-width=\"1\" opacity=\"1\"/></g></g><path class=\"foreground\" aria-hidden=\"true\" d=\"\" pointer-events=\"none\" display=\"none\"/></g></g><g class=\"mark-group role-axis\" role=\"graphics-symbol\" aria-roledescription=\"axis\" aria-label=\"X-axis titled 'yield' for a linear scale with values from 24 to 48\"><g transform=\"translate(0.5,200.5)\"><path class=\"background\" aria-hidden=\"true\" d=\"M0,0h0v0h0Z\" pointer-events=\"none\"/><g><g class=\"mark-rule role-axis-tick\" pointer-events=\"none\"><line transform=\"translate(8,0)\" x2=\"0\" y2=\"5\" stroke=\"#888\" stroke-width=\"1\" opacity=\"1\"/><line transform=\"translate(50,0)\" x2=\"0\" y2=\"5\" stroke=\"#888\" stroke-width=\"1\" opacity=\"1\"/><line transform=\"translate(92,0)\" x2=\"0\" y2=\"5\" stroke=\"#888\" stroke-width=\"1\" opacity=\"1\"/><line transform=\"translate(133,0)\" x2=\"0\" y2=\"5\" stroke=\"#888\" stroke-width=\"1\" opacity=\"1\"/><line transform=\"translate(175,0)\" x2=\"0\" y2=\"5\" stroke=\"#888\" stroke-width=\"1\" opacity=\"1\"/></g><g class=\"mark-text role-axis-label\" pointer-events=\"none\"><text text-anchor=\"middle\" transform=\"translate(8.333333333333332,15)\" font-family=\"sans-serif\" font-size=\"10px\" fill=\"#000\" opacity=\"1\">25</text><text text-anchor=\"middle\" transform=\"translate(50,15)\" font-family=\"sans-serif\" font-size=\"10px\" fill=\"#000\" opacity=\"1\">30</text><text text-anchor=\"middle\" transform=\"translate(91.66666666666666,15)\" font-family=\"sans-serif\" font-size=\"10px\" fill=\"#000\" opacity=\"1\">35</text><text text-anchor=\"middle\" transform=\"translate(133.33333333333331,15)\" font-family=\"sans-serif\" font-size=\"10px\" fill=\"#000\" opacity=\"1\">40</text><text text-anchor=\"middle\" transform=\"translate(175,15)\" font-family=\"sans-serif\" font-size=\"10px\" fill=\"#000\" opacity=\"1\">45</text></g><g class=\"mark-rule role-axis-domain\" pointer-events=\"none\"><line transform=\"translate(0,0)\" x2=\"200\" y2=\"0\" stroke=\"#888\" stroke-width=\"1\" opacity=\"1\"/></g><g class=\"mark-text role-axis-title\" pointer-events=\"none\"><text text-anchor=\"middle\" transform=\"translate(100,30)\" font-family=\"sans-serif\" font-size=\"11px\" font-weight=\"bold\" fill=\"#000\" opacity=\"1\">yield</text></g></g><path class=\"foreground\" aria-hidden=\"true\" d=\"\" pointer-events=\"none\" display=\"none\"/></g></g><g class=\"mark-group role-axis\" role=\"graphics-symbol\" aria-roledescription=\"axis\" aria-label=\"Y-axis titled 'variety' for a discrete scale with 10 values: Glabron, Manchuria, No. 457, No. 462, No. 475, ending with Wisconsin No. 38\"><g transform=\"translate(0.5,0.5)\"><path class=\"background\" aria-hidden=\"true\" d=\"M0,0h0v0h0Z\" pointer-events=\"none\"/><g><g class=\"mark-rule role-axis-tick\" pointer-events=\"none\"><line transform=\"translate(0,10)\" x2=\"-5\" y2=\"0\" stroke=\"#888\" stroke-width=\"1\" opacity=\"1\"/><line transform=\"translate(0,30)\" x2=\"-5\" y2=\"0\" stroke=\"#888\" stroke-width=\"1\" opacity=\"1\"/><line transform=\"translate(0,50)\" x2=\"-5\" y2=\"0\" stroke=\"#888\" stroke-width=\"1\" opacity=\"1\"/><line transform=\"translate(0,70)\" x2=\"-5\" y2=\"0\" stroke=\"#888\" stroke-width=\"1\" opacity=\"1\"/><line transform=\"translate(0,90)\" x2=\"-5\" y2=\"0\" stroke=\"#888\" stroke-width=\"1\" opacity=\"1\"/><line transform=\"translate(0,110)\" x2=\"-5\" y2=\"0\" stroke=\"#888\" stroke-width=\"1\" opacity=\"1\"/><line transform=\"translate(0,130)\" x2=\"-5\" y2=\"0\" stroke=\"#888\" stroke-width=\"1\" opacity=\"1\"/><line transform=\"translate(0,150)\" x2=\"-5\" y2=\"0\" stroke=\"#888\" stroke-width=\"1\" opacity=\"1\"/><line transform=\"translate(0,170)\" x2=\"-5\" y2=\"0\" stroke=\"#888\" stroke-width=\"1\" opacity=\"1\"/><line transform=\"translate(0,190)\" x2=\"-5\" y2=\"0\" stroke=\"#888\" stroke-width=\"1\" opacity=\"1\"/></g><g class=\"mark-text role-axis-label\" pointer-events=\"none\"><text text-anchor=\"end\" transform=\"translate(-7,12.5)\" font-family=\"sans-serif\" font-size=\"10px\" fill=\"#000\" opacity=\"1\">Glabron</text><text text-anchor=\"end\" transform=\"translate(-7,32.5)\" font-family=\"sans-serif\" font-size=\"10px\" fill=\"#000\" opacity=\"1\">Manchuria</text><text text-anchor=\"end\" transform=\"translate(-7,52.5)\" font-family=\"sans-serif\" font-size=\"10px\" fill=\"#000\" opacity=\"1\">No. 457</text><text text-anchor=\"end\" transform=\"translate(-7,72.5)\" font-family=\"sans-serif\" font-size=\"10px\" fill=\"#000\" opacity=\"1\">No. 462</text><text text-anchor=\"end\" transform=\"translate(-7,92.5)\" font-family=\"sans-serif\" font-size=\"10px\" fill=\"#000\" opacity=\"1\">No. 475</text><text text-anchor=\"end\" transform=\"translate(-7,112.5)\" font-family=\"sans-serif\" font-size=\"10px\" fill=\"#000\" opacity=\"1\">Peatland</text><text text-anchor=\"end\" transform=\"translate(-7,132.5)\" font-family=\"sans-serif\" font-size=\"10px\" fill=\"#000\" opacity=\"1\">Svansota</text><text text-anchor=\"end\" transform=\"translate(-7,152.5)\" font-family=\"sans-serif\" font-size=\"10px\" fill=\"#000\" opacity=\"1\">Trebi</text><text text-anchor=\"end\" transform=\"translate(-7,172.5)\" font-family=\"sans-serif\" font-size=\"10px\" fill=\"#000\" opacity=\"1\">Velvet</text><text text-anchor=\"end\" transform=\"translate(-7,192.5)\" font-family=\"sans-serif\" font-size=\"10px\" fill=\"#000\" opacity=\"1\">Wisconsin No. 38</text></g><g class=\"mark-rule role-axis-domain\" pointer-events=\"none\"><line transform=\"translate(0,0)\" x2=\"0\" y2=\"200\" stroke=\"#888\" stroke-width=\"1\" opacity=\"1\"/></g><g class=\"mark-text role-axis-title\" pointer-events=\"none\"><text text-anchor=\"middle\" transform=\"translate(-94,100) rotate(-90) translate(0,-2)\" font-family=\"sans-serif\" font-size=\"11px\" font-weight=\"bold\" fill=\"#000\" opacity=\"1\">variety</text></g></g><path class=\"foreground\" aria-hidden=\"true\" d=\"\" pointer-events=\"none\" display=\"none\"/></g></g><g class=\"mark-symbol role-mark layer_0_marks\" role=\"graphics-object\" aria-roledescription=\"symbol mark container\"><path aria-label=\"variety: Manchuria; Mean of yield: 31.46389\" role=\"graphics-symbol\" aria-roledescription=\"point\" transform=\"translate(62.19908333333333,30)\" d=\"M2.7386127875258306,0A2.7386127875258306,2.7386127875258306,0,1,1,-2.7386127875258306,0A2.7386127875258306,2.7386127875258306,0,1,1,2.7386127875258306,0\" fill=\"black\" stroke-width=\"2\"/><path aria-label=\"variety: Glabron; Mean of yield: 33.3416658333\" role=\"graphics-symbol\" aria-roledescription=\"point\" transform=\"translate(77.84721527777782,10)\" d=\"M2.7386127875258306,0A2.7386127875258306,2.7386127875258306,0,1,1,-2.7386127875258306,0A2.7386127875258306,2.7386127875258306,0,1,1,2.7386127875258306,0\" fill=\"black\" stroke-width=\"2\"/><path aria-label=\"variety: Svansota; Mean of yield: 30.3777775\" role=\"graphics-symbol\" aria-roledescription=\"point\" transform=\"translate(53.1481458333333,130)\" d=\"M2.7386127875258306,0A2.7386127875258306,2.7386127875258306,0,1,1,-2.7386127875258306,0A2.7386127875258306,2.7386127875258306,0,1,1,2.7386127875258306,0\" fill=\"black\" stroke-width=\"2\"/><path aria-label=\"variety: Velvet; Mean of yield: 33.0611091667\" role=\"graphics-symbol\" aria-roledescription=\"point\" transform=\"translate(75.50924305555556,170)\" d=\"M2.7386127875258306,0A2.7386127875258306,2.7386127875258306,0,1,1,-2.7386127875258306,0A2.7386127875258306,2.7386127875258306,0,1,1,2.7386127875258306,0\" fill=\"black\" stroke-width=\"2\"/><path aria-label=\"variety: Trebi; Mean of yield: 39.3999933333\" role=\"graphics-symbol\" aria-roledescription=\"point\" transform=\"translate(128.3332777777778,150)\" d=\"M2.7386127875258306,0A2.7386127875258306,2.7386127875258306,0,1,1,-2.7386127875258306,0A2.7386127875258306,2.7386127875258306,0,1,1,2.7386127875258306,0\" fill=\"black\" stroke-width=\"2\"/><path aria-label=\"variety: No. 457; Mean of yield: 35.8472241667\" role=\"graphics-symbol\" aria-roledescription=\"point\" transform=\"translate(98.72686805555558,50)\" d=\"M2.7386127875258306,0A2.7386127875258306,2.7386127875258306,0,1,1,-2.7386127875258306,0A2.7386127875258306,2.7386127875258306,0,1,1,2.7386127875258306,0\" fill=\"black\" stroke-width=\"2\"/><path aria-label=\"variety: No. 462; Mean of yield: 35.3777808333\" role=\"graphics-symbol\" aria-roledescription=\"point\" transform=\"translate(94.81484027777783,70)\" d=\"M2.7386127875258306,0A2.7386127875258306,2.7386127875258306,0,1,1,-2.7386127875258306,0A2.7386127875258306,2.7386127875258306,0,1,1,2.7386127875258306,0\" fill=\"black\" stroke-width=\"2\"/><path aria-label=\"variety: Peatland; Mean of yield: 34.1805558333\" role=\"graphics-symbol\" aria-roledescription=\"point\" transform=\"translate(84.83796527777785,110)\" d=\"M2.7386127875258306,0A2.7386127875258306,2.7386127875258306,0,1,1,-2.7386127875258306,0A2.7386127875258306,2.7386127875258306,0,1,1,2.7386127875258306,0\" fill=\"black\" stroke-width=\"2\"/><path aria-label=\"variety: No. 475; Mean of yield: 31.7611108333\" role=\"graphics-symbol\" aria-roledescription=\"point\" transform=\"translate(64.6759236111111,90)\" d=\"M2.7386127875258306,0A2.7386127875258306,2.7386127875258306,0,1,1,-2.7386127875258306,0A2.7386127875258306,2.7386127875258306,0,1,1,2.7386127875258306,0\" fill=\"black\" stroke-width=\"2\"/><path aria-label=\"variety: Wisconsin No. 38; Mean of yield: 39.3944458333\" role=\"graphics-symbol\" aria-roledescription=\"point\" transform=\"translate(128.28704861111112,190)\" d=\"M2.7386127875258306,0A2.7386127875258306,2.7386127875258306,0,1,1,-2.7386127875258306,0A2.7386127875258306,2.7386127875258306,0,1,1,2.7386127875258306,0\" fill=\"black\" stroke-width=\"2\"/></g><g class=\"mark-rule role-mark layer_1_marks\" role=\"graphics-object\" aria-roledescription=\"rule mark container\"><line aria-label=\"yield: 27.8442366458; upper_yield: 35.7449327708; variety: Manchuria; Ci1 of yield: 35.7449327708; Ci0 of yield: 27.8442366458; Mean of yield: 31.46389\" role=\"graphics-symbol\" aria-roledescription=\"errorbar\" transform=\"translate(32.03530538194442,30)\" x2=\"65.83913437500004\" y2=\"0\" stroke=\"blue\"/><line aria-label=\"yield: 27.7287502917; upper_yield: 38.7810402708; variety: Glabron; Ci1 of yield: 38.7810402708; Ci0 of yield: 27.7287502917; Mean of yield: 33.3416658333\" role=\"graphics-symbol\" aria-roledescription=\"errorbar\" transform=\"translate(31.072919097222258,10)\" x2=\"92.10241649305554\" y2=\"0\" stroke=\"blue\"/><line aria-label=\"yield: 25.6404853125; upper_yield: 35.0924983333; variety: Svansota; Ci1 of yield: 35.0924983333; Ci0 of yield: 25.6404853125; Mean of yield: 30.3777775\" role=\"graphics-symbol\" aria-roledescription=\"errorbar\" transform=\"translate(13.670710937500008,130)\" x2=\"78.7667751736111\" y2=\"0\" stroke=\"blue\"/><line aria-label=\"yield: 28.6912483333; upper_yield: 37.5343717083; variety: Velvet; Ci1 of yield: 37.5343717083; Ci0 of yield: 28.6912483333; Mean of yield: 33.0611091667\" role=\"graphics-symbol\" aria-roledescription=\"errorbar\" transform=\"translate(39.093736111111085,170)\" x2=\"73.69269479166674\" y2=\"0\" stroke=\"blue\"/><line aria-label=\"yield: 32.9735421667; upper_yield: 45.944640875; variety: Trebi; Ci1 of yield: 45.944640875; Ci0 of yield: 32.9735421667; Mean of yield: 39.3999933333\" role=\"graphics-symbol\" aria-roledescription=\"errorbar\" transform=\"translate(74.7795180555555,150)\" x2=\"108.0924892361112\" y2=\"0\" stroke=\"blue\"/><line aria-label=\"yield: 30.1302111042; upper_yield: 42.2754861667; variety: No. 457; Ci1 of yield: 42.2754861667; Ci0 of yield: 30.1302111042; Mean of yield: 35.8472241667\" role=\"graphics-symbol\" aria-roledescription=\"errorbar\" transform=\"translate(51.085092534722186,50)\" x2=\"101.21062552083336\" y2=\"0\" stroke=\"blue\"/><line aria-label=\"yield: 28.0431263542; upper_yield: 42.5514633333; variety: No. 462; Ci1 of yield: 42.5514633333; Ci0 of yield: 28.0431263542; Mean of yield: 35.3777808333\" role=\"graphics-symbol\" aria-roledescription=\"errorbar\" transform=\"translate(33.69271961805553,70)\" x2=\"120.90280815972218\" y2=\"0\" stroke=\"blue\"/><line aria-label=\"yield: 30.66264; upper_yield: 38.1920816667; variety: Peatland; Ci1 of yield: 38.1920816667; Ci0 of yield: 30.66264; Mean of yield: 34.1805558333\" role=\"graphics-symbol\" aria-roledescription=\"errorbar\" transform=\"translate(55.52199999999999,110)\" x2=\"62.74534722222228\" y2=\"0\" stroke=\"blue\"/><line aria-label=\"yield: 26.3163193958; upper_yield: 37.0745836042; variety: No. 475; Ci1 of yield: 37.0745836042; Ci0 of yield: 26.3163193958; Mean of yield: 31.7611108333\" role=\"graphics-symbol\" aria-roledescription=\"errorbar\" transform=\"translate(19.302661631944407,90)\" x2=\"89.65220173611118\" y2=\"0\" stroke=\"blue\"/><line aria-label=\"yield: 33.4776392083; upper_yield: 46.1759730625; variety: Wisconsin No. 38; Ci1 of yield: 46.1759730625; Ci0 of yield: 33.4776392083; Mean of yield: 39.3944458333\" role=\"graphics-symbol\" aria-roledescription=\"errorbar\" transform=\"translate(78.98032673611114,190)\" x2=\"105.81944878472218\" y2=\"0\" stroke=\"blue\"/></g><g class=\"mark-group role-title\"><g transform=\"translate(100,-17)\"><path class=\"background\" aria-hidden=\"true\" d=\"M0,0h0v0h0Z\" pointer-events=\"none\"/><g><g class=\"mark-text role-title-text\" role=\"graphics-symbol\" aria-roledescription=\"title\" aria-label=\"Title text 'Error Bar Plot'\" pointer-events=\"none\"><text text-anchor=\"middle\" transform=\"translate(0,10)\" font-family=\"sans-serif\" font-size=\"13px\" font-weight=\"bold\" fill=\"#000\" opacity=\"1\">Error Bar Plot</text></g></g><path class=\"foreground\" aria-hidden=\"true\" d=\"\" pointer-events=\"none\" display=\"none\"/></g></g></g><path class=\"foreground\" aria-hidden=\"true\" d=\"\" display=\"none\"/></g></g></g></svg>\n"
      ],
      "text/plain": [
       "@vlplot(\n",
       "    data={\n",
       "        values=...\n",
       "    },\n",
       "    title=\"Error Bar Plot\",\n",
       "    encoding={\n",
       "        y={\n",
       "            field=\"variety\",\n",
       "            type=\"nominal\"\n",
       "        }\n",
       "    },\n",
       "    layer=[\n",
       "        {\n",
       "            mark={\n",
       "                filled=true,\n",
       "                color=\"black\",\n",
       "                type=\"point\"\n",
       "            },\n",
       "            encoding={\n",
       "                x={\n",
       "                    scale={\n",
       "                        zero=false\n",
       "                    },\n",
       "                    aggregate=\"mean\",\n",
       "                    field=\"yield\",\n",
       "                    type=\"quantitative\"\n",
       "                }\n",
       "            }\n",
       "        },\n",
       "        {\n",
       "            mark={\n",
       "                extent=\"ci\",\n",
       "                color=\"blue\",\n",
       "                type=\"errorbar\"\n",
       "            },\n",
       "            encoding={\n",
       "                x={\n",
       "                    field=\"yield\"\n",
       "                }\n",
       "            }\n",
       "        }\n",
       "    ]\n",
       ")"
      ]
     },
     "execution_count": 5,
     "metadata": {},
     "output_type": "execute_result"
    }
   ],
   "source": [
    "@vlplot(\n",
    "  data = barley, # Load dataset\n",
    "  y = \"variety:n\", # Axis common to both bands\n",
    "  title = \"Error Bar Plot\"\n",
    ") +\n",
    "\n",
    "@vlplot(\n",
    "  mark = {:point, filled = true, color = :black}, # Filled plack point\n",
    "  x = {\"mean(yield)\", scale = {zero = false}}  # The mean of yield at each variety\n",
    ") +\n",
    "\n",
    "@vlplot(\n",
    "  mark  = {:errorbar, extent = :ci, color = :blue}, # Plot a blue error bar\n",
    "  x = {\"yield\"}\n",
    ")"
   ]
  },
  {
   "cell_type": "code",
   "execution_count": 6,
   "metadata": {
    "nteract": {
     "transient": {
      "deleting": false
     }
    }
   },
   "outputs": [
    {
     "data": {
      "text/html": [
       "<div class=\"data-frame\"><p>4 rows × 4 columns</p><table class=\"data-frame\"><thead><tr><th></th><th>year</th><th>age</th><th>sex</th><th>people</th></tr><tr><th></th><th title=\"Int64\">Int64</th><th title=\"Int64\">Int64</th><th title=\"Int64\">Int64</th><th title=\"Int64\">Int64</th></tr></thead><tbody><tr><th>1</th><td>1850</td><td>0</td><td>1</td><td>1483789</td></tr><tr><th>2</th><td>1850</td><td>0</td><td>2</td><td>1450376</td></tr><tr><th>3</th><td>1850</td><td>5</td><td>1</td><td>1411067</td></tr><tr><th>4</th><td>1850</td><td>5</td><td>2</td><td>1359668</td></tr></tbody></table></div>"
      ],
      "text/latex": [
       "\\begin{tabular}{r|cccc}\n",
       "\t& year & age & sex & people\\\\\n",
       "\t\\hline\n",
       "\t& Int64 & Int64 & Int64 & Int64\\\\\n",
       "\t\\hline\n",
       "\t1 & 1850 & 0 & 1 & 1483789 \\\\\n",
       "\t2 & 1850 & 0 & 2 & 1450376 \\\\\n",
       "\t3 & 1850 & 5 & 1 & 1411067 \\\\\n",
       "\t4 & 1850 & 5 & 2 & 1359668 \\\\\n",
       "\\end{tabular}\n"
      ],
      "text/plain": [
       "\u001b[1m4×4 DataFrame\u001b[0m\n",
       "\u001b[1m Row \u001b[0m│\u001b[1m year  \u001b[0m\u001b[1m age   \u001b[0m\u001b[1m sex   \u001b[0m\u001b[1m people  \u001b[0m\n",
       "\u001b[1m     \u001b[0m│\u001b[90m Int64 \u001b[0m\u001b[90m Int64 \u001b[0m\u001b[90m Int64 \u001b[0m\u001b[90m Int64   \u001b[0m\n",
       "─────┼──────────────────────────────\n",
       "   1 │  1850      0      1  1483789\n",
       "   2 │  1850      0      2  1450376\n",
       "   3 │  1850      5      1  1411067\n",
       "   4 │  1850      5      2  1359668"
      ]
     },
     "execution_count": 6,
     "metadata": {},
     "output_type": "execute_result"
    }
   ],
   "source": [
    "# Upload population dataset\n",
    "population = dataset(\"population\") |> DataFrame;\n",
    "first(population, 4)"
   ]
  },
  {
   "cell_type": "markdown",
   "metadata": {
    "nteract": {
     "transient": {
      "deleting": false
     }
    }
   },
   "source": [
    "## Box Plot with Min/Max Whiskers"
   ]
  },
  {
   "cell_type": "code",
   "execution_count": 7,
   "metadata": {
    "nteract": {
     "transient": {
      "deleting": false
     }
    }
   },
   "outputs": [
    {
     "data": {
      "application/vnd.vegalite.v4+json": {
       "data": {
        "values": [
         {
          "age": 0,
          "people": 1483789,
          "sex": 1,
          "year": 1850
         },
         {
          "age": 0,
          "people": 1450376,
          "sex": 2,
          "year": 1850
         },
         {
          "age": 5,
          "people": 1411067,
          "sex": 1,
          "year": 1850
         },
         {
          "age": 5,
          "people": 1359668,
          "sex": 2,
          "year": 1850
         },
         {
          "age": 10,
          "people": 1260099,
          "sex": 1,
          "year": 1850
         },
         {
          "age": 10,
          "people": 1216114,
          "sex": 2,
          "year": 1850
         },
         {
          "age": 15,
          "people": 1077133,
          "sex": 1,
          "year": 1850
         },
         {
          "age": 15,
          "people": 1110619,
          "sex": 2,
          "year": 1850
         },
         {
          "age": 20,
          "people": 1017281,
          "sex": 1,
          "year": 1850
         },
         {
          "age": 20,
          "people": 1003841,
          "sex": 2,
          "year": 1850
         },
         {
          "age": 25,
          "people": 862547,
          "sex": 1,
          "year": 1850
         },
         {
          "age": 25,
          "people": 799482,
          "sex": 2,
          "year": 1850
         },
         {
          "age": 30,
          "people": 730638,
          "sex": 1,
          "year": 1850
         },
         {
          "age": 30,
          "people": 639636,
          "sex": 2,
          "year": 1850
         },
         {
          "age": 35,
          "people": 588487,
          "sex": 1,
          "year": 1850
         },
         {
          "age": 35,
          "people": 505012,
          "sex": 2,
          "year": 1850
         },
         {
          "age": 40,
          "people": 475911,
          "sex": 1,
          "year": 1850
         },
         {
          "age": 40,
          "people": 428185,
          "sex": 2,
          "year": 1850
         },
         {
          "age": 45,
          "people": 384211,
          "sex": 1,
          "year": 1850
         },
         {
          "age": 45,
          "people": 341254,
          "sex": 2,
          "year": 1850
         },
         {
          "age": 50,
          "people": 321343,
          "sex": 1,
          "year": 1850
         },
         {
          "age": 50,
          "people": 286580,
          "sex": 2,
          "year": 1850
         },
         {
          "age": 55,
          "people": 194080,
          "sex": 1,
          "year": 1850
         },
         {
          "age": 55,
          "people": 187208,
          "sex": 2,
          "year": 1850
         },
         {
          "age": 60,
          "people": 174976,
          "sex": 1,
          "year": 1850
         },
         {
          "age": 60,
          "people": 162236,
          "sex": 2,
          "year": 1850
         },
         {
          "age": 65,
          "people": 106827,
          "sex": 1,
          "year": 1850
         },
         {
          "age": 65,
          "people": 105534,
          "sex": 2,
          "year": 1850
         },
         {
          "age": 70,
          "people": 73677,
          "sex": 1,
          "year": 1850
         },
         {
          "age": 70,
          "people": 71762,
          "sex": 2,
          "year": 1850
         },
         {
          "age": 75,
          "people": 40834,
          "sex": 1,
          "year": 1850
         },
         {
          "age": 75,
          "people": 40229,
          "sex": 2,
          "year": 1850
         },
         {
          "age": 80,
          "people": 23449,
          "sex": 1,
          "year": 1850
         },
         {
          "age": 80,
          "people": 22949,
          "sex": 2,
          "year": 1850
         },
         {
          "age": 85,
          "people": 8186,
          "sex": 1,
          "year": 1850
         },
         {
          "age": 85,
          "people": 10511,
          "sex": 2,
          "year": 1850
         },
         {
          "age": 90,
          "people": 5259,
          "sex": 1,
          "year": 1850
         },
         {
          "age": 90,
          "people": 6569,
          "sex": 2,
          "year": 1850
         },
         {
          "age": 0,
          "people": 2120846,
          "sex": 1,
          "year": 1860
         },
         {
          "age": 0,
          "people": 2092162,
          "sex": 2,
          "year": 1860
         },
         {
          "age": 5,
          "people": 1804467,
          "sex": 1,
          "year": 1860
         },
         {
          "age": 5,
          "people": 1778772,
          "sex": 2,
          "year": 1860
         },
         {
          "age": 10,
          "people": 1612640,
          "sex": 1,
          "year": 1860
         },
         {
          "age": 10,
          "people": 1540350,
          "sex": 2,
          "year": 1860
         },
         {
          "age": 15,
          "people": 1438094,
          "sex": 1,
          "year": 1860
         },
         {
          "age": 15,
          "people": 1495999,
          "sex": 2,
          "year": 1860
         },
         {
          "age": 20,
          "people": 1351121,
          "sex": 1,
          "year": 1860
         },
         {
          "age": 20,
          "people": 1370462,
          "sex": 2,
          "year": 1860
         },
         {
          "age": 25,
          "people": 1217615,
          "sex": 1,
          "year": 1860
         },
         {
          "age": 25,
          "people": 1116373,
          "sex": 2,
          "year": 1860
         },
         {
          "age": 30,
          "people": 1043174,
          "sex": 1,
          "year": 1860
         },
         {
          "age": 30,
          "people": 936055,
          "sex": 2,
          "year": 1860
         },
         {
          "age": 35,
          "people": 866910,
          "sex": 1,
          "year": 1860
         },
         {
          "age": 35,
          "people": 737136,
          "sex": 2,
          "year": 1860
         },
         {
          "age": 40,
          "people": 699434,
          "sex": 1,
          "year": 1860
         },
         {
          "age": 40,
          "people": 616826,
          "sex": 2,
          "year": 1860
         },
         {
          "age": 45,
          "people": 552404,
          "sex": 1,
          "year": 1860
         },
         {
          "age": 45,
          "people": 461739,
          "sex": 2,
          "year": 1860
         },
         {
          "age": 50,
          "people": 456176,
          "sex": 1,
          "year": 1860
         },
         {
          "age": 50,
          "people": 407305,
          "sex": 2,
          "year": 1860
         },
         {
          "age": 55,
          "people": 292417,
          "sex": 1,
          "year": 1860
         },
         {
          "age": 55,
          "people": 267224,
          "sex": 2,
          "year": 1860
         },
         {
          "age": 60,
          "people": 260887,
          "sex": 1,
          "year": 1860
         },
         {
          "age": 60,
          "people": 249735,
          "sex": 2,
          "year": 1860
         },
         {
          "age": 65,
          "people": 149331,
          "sex": 1,
          "year": 1860
         },
         {
          "age": 65,
          "people": 141405,
          "sex": 2,
          "year": 1860
         },
         {
          "age": 70,
          "people": 98465,
          "sex": 1,
          "year": 1860
         },
         {
          "age": 70,
          "people": 101778,
          "sex": 2,
          "year": 1860
         },
         {
          "age": 75,
          "people": 56699,
          "sex": 1,
          "year": 1860
         },
         {
          "age": 75,
          "people": 57597,
          "sex": 2,
          "year": 1860
         },
         {
          "age": 80,
          "people": 29007,
          "sex": 1,
          "year": 1860
         },
         {
          "age": 80,
          "people": 29506,
          "sex": 2,
          "year": 1860
         },
         {
          "age": 85,
          "people": 10434,
          "sex": 1,
          "year": 1860
         },
         {
          "age": 85,
          "people": 14053,
          "sex": 2,
          "year": 1860
         },
         {
          "age": 90,
          "people": 7232,
          "sex": 1,
          "year": 1860
         },
         {
          "age": 90,
          "people": 6622,
          "sex": 2,
          "year": 1860
         },
         {
          "age": 0,
          "people": 2800083,
          "sex": 1,
          "year": 1870
         },
         {
          "age": 0,
          "people": 2717102,
          "sex": 2,
          "year": 1870
         },
         {
          "age": 5,
          "people": 2428469,
          "sex": 1,
          "year": 1870
         },
         {
          "age": 5,
          "people": 2393680,
          "sex": 2,
          "year": 1870
         },
         {
          "age": 10,
          "people": 2427341,
          "sex": 1,
          "year": 1870
         },
         {
          "age": 10,
          "people": 2342670,
          "sex": 2,
          "year": 1870
         },
         {
          "age": 15,
          "people": 1958390,
          "sex": 1,
          "year": 1870
         },
         {
          "age": 15,
          "people": 2077248,
          "sex": 2,
          "year": 1870
         },
         {
          "age": 20,
          "people": 1805303,
          "sex": 1,
          "year": 1870
         },
         {
          "age": 20,
          "people": 1909382,
          "sex": 2,
          "year": 1870
         },
         {
          "age": 25,
          "people": 1509059,
          "sex": 1,
          "year": 1870
         },
         {
          "age": 25,
          "people": 1574285,
          "sex": 2,
          "year": 1870
         },
         {
          "age": 30,
          "people": 1251534,
          "sex": 1,
          "year": 1870
         },
         {
          "age": 30,
          "people": 1275629,
          "sex": 2,
          "year": 1870
         },
         {
          "age": 35,
          "people": 1185336,
          "sex": 1,
          "year": 1870
         },
         {
          "age": 35,
          "people": 1137490,
          "sex": 2,
          "year": 1870
         },
         {
          "age": 40,
          "people": 968861,
          "sex": 1,
          "year": 1870
         },
         {
          "age": 40,
          "people": 944401,
          "sex": 2,
          "year": 1870
         },
         {
          "age": 45,
          "people": 852672,
          "sex": 1,
          "year": 1870
         },
         {
          "age": 45,
          "people": 747916,
          "sex": 2,
          "year": 1870
         },
         {
          "age": 50,
          "people": 736387,
          "sex": 1,
          "year": 1870
         },
         {
          "age": 50,
          "people": 637801,
          "sex": 2,
          "year": 1870
         },
         {
          "age": 55,
          "people": 486036,
          "sex": 1,
          "year": 1870
         },
         {
          "age": 55,
          "people": 407819,
          "sex": 2,
          "year": 1870
         },
         {
          "age": 60,
          "people": 399264,
          "sex": 1,
          "year": 1870
         },
         {
          "age": 60,
          "people": 374801,
          "sex": 2,
          "year": 1870
         },
         {
          "age": 65,
          "people": 260829,
          "sex": 1,
          "year": 1870
         },
         {
          "age": 65,
          "people": 239080,
          "sex": 2,
          "year": 1870
         },
         {
          "age": 70,
          "people": 173364,
          "sex": 1,
          "year": 1870
         },
         {
          "age": 70,
          "people": 165501,
          "sex": 2,
          "year": 1870
         },
         {
          "age": 75,
          "people": 86929,
          "sex": 1,
          "year": 1870
         },
         {
          "age": 75,
          "people": 89540,
          "sex": 2,
          "year": 1870
         },
         {
          "age": 80,
          "people": 47427,
          "sex": 1,
          "year": 1870
         },
         {
          "age": 80,
          "people": 54190,
          "sex": 2,
          "year": 1870
         },
         {
          "age": 85,
          "people": 15891,
          "sex": 1,
          "year": 1870
         },
         {
          "age": 85,
          "people": 19302,
          "sex": 2,
          "year": 1870
         },
         {
          "age": 90,
          "people": 8649,
          "sex": 1,
          "year": 1870
         },
         {
          "age": 90,
          "people": 13068,
          "sex": 2,
          "year": 1870
         },
         {
          "age": 0,
          "people": 3533662,
          "sex": 1,
          "year": 1880
         },
         {
          "age": 0,
          "people": 3421597,
          "sex": 2,
          "year": 1880
         },
         {
          "age": 5,
          "people": 3297503,
          "sex": 1,
          "year": 1880
         },
         {
          "age": 5,
          "people": 3179142,
          "sex": 2,
          "year": 1880
         },
         {
          "age": 10,
          "people": 2911924,
          "sex": 1,
          "year": 1880
         },
         {
          "age": 10,
          "people": 2813550,
          "sex": 2,
          "year": 1880
         },
         {
          "age": 15,
          "people": 2457734,
          "sex": 1,
          "year": 1880
         },
         {
          "age": 15,
          "people": 2527818,
          "sex": 2,
          "year": 1880
         },
         {
          "age": 20,
          "people": 2547780,
          "sex": 1,
          "year": 1880
         },
         {
          "age": 20,
          "people": 2512803,
          "sex": 2,
          "year": 1880
         },
         {
          "age": 25,
          "people": 2119393,
          "sex": 1,
          "year": 1880
         },
         {
          "age": 25,
          "people": 1974241,
          "sex": 2,
          "year": 1880
         },
         {
          "age": 30,
          "people": 1749107,
          "sex": 1,
          "year": 1880
         },
         {
          "age": 30,
          "people": 1596772,
          "sex": 2,
          "year": 1880
         },
         {
          "age": 35,
          "people": 1540772,
          "sex": 1,
          "year": 1880
         },
         {
          "age": 35,
          "people": 1483717,
          "sex": 2,
          "year": 1880
         },
         {
          "age": 40,
          "people": 1237347,
          "sex": 1,
          "year": 1880
         },
         {
          "age": 40,
          "people": 1239435,
          "sex": 2,
          "year": 1880
         },
         {
          "age": 45,
          "people": 1065973,
          "sex": 1,
          "year": 1880
         },
         {
          "age": 45,
          "people": 1003711,
          "sex": 2,
          "year": 1880
         },
         {
          "age": 50,
          "people": 964484,
          "sex": 1,
          "year": 1880
         },
         {
          "age": 50,
          "people": 863012,
          "sex": 2,
          "year": 1880
         },
         {
          "age": 55,
          "people": 679147,
          "sex": 1,
          "year": 1880
         },
         {
          "age": 55,
          "people": 594843,
          "sex": 2,
          "year": 1880
         },
         {
          "age": 60,
          "people": 580298,
          "sex": 1,
          "year": 1880
         },
         {
          "age": 60,
          "people": 526956,
          "sex": 2,
          "year": 1880
         },
         {
          "age": 65,
          "people": 369398,
          "sex": 1,
          "year": 1880
         },
         {
          "age": 65,
          "people": 346303,
          "sex": 2,
          "year": 1880
         },
         {
          "age": 70,
          "people": 255422,
          "sex": 1,
          "year": 1880
         },
         {
          "age": 70,
          "people": 251860,
          "sex": 2,
          "year": 1880
         },
         {
          "age": 75,
          "people": 141628,
          "sex": 1,
          "year": 1880
         },
         {
          "age": 75,
          "people": 143513,
          "sex": 2,
          "year": 1880
         },
         {
          "age": 80,
          "people": 67526,
          "sex": 1,
          "year": 1880
         },
         {
          "age": 80,
          "people": 77290,
          "sex": 2,
          "year": 1880
         },
         {
          "age": 85,
          "people": 22437,
          "sex": 1,
          "year": 1880
         },
         {
          "age": 85,
          "people": 31227,
          "sex": 2,
          "year": 1880
         },
         {
          "age": 90,
          "people": 10272,
          "sex": 1,
          "year": 1880
         },
         {
          "age": 90,
          "people": 15451,
          "sex": 2,
          "year": 1880
         },
         {
          "age": 0,
          "people": 4619544,
          "sex": 1,
          "year": 1900
         },
         {
          "age": 0,
          "people": 4589196,
          "sex": 2,
          "year": 1900
         },
         {
          "age": 5,
          "people": 4465783,
          "sex": 1,
          "year": 1900
         },
         {
          "age": 5,
          "people": 4390483,
          "sex": 2,
          "year": 1900
         },
         {
          "age": 10,
          "people": 4057669,
          "sex": 1,
          "year": 1900
         },
         {
          "age": 10,
          "people": 4001749,
          "sex": 2,
          "year": 1900
         },
         {
          "age": 15,
          "people": 3774846,
          "sex": 1,
          "year": 1900
         },
         {
          "age": 15,
          "people": 3801743,
          "sex": 2,
          "year": 1900
         },
         {
          "age": 20,
          "people": 3694038,
          "sex": 1,
          "year": 1900
         },
         {
          "age": 20,
          "people": 3751061,
          "sex": 2,
          "year": 1900
         },
         {
          "age": 25,
          "people": 3389280,
          "sex": 1,
          "year": 1900
         },
         {
          "age": 25,
          "people": 3236056,
          "sex": 2,
          "year": 1900
         },
         {
          "age": 30,
          "people": 2918964,
          "sex": 1,
          "year": 1900
         },
         {
          "age": 30,
          "people": 2665174,
          "sex": 2,
          "year": 1900
         },
         {
          "age": 35,
          "people": 2633883,
          "sex": 1,
          "year": 1900
         },
         {
          "age": 35,
          "people": 2347737,
          "sex": 2,
          "year": 1900
         },
         {
          "age": 40,
          "people": 2261070,
          "sex": 1,
          "year": 1900
         },
         {
          "age": 40,
          "people": 2004987,
          "sex": 2,
          "year": 1900
         },
         {
          "age": 45,
          "people": 1868413,
          "sex": 1,
          "year": 1900
         },
         {
          "age": 45,
          "people": 1648025,
          "sex": 2,
          "year": 1900
         },
         {
          "age": 50,
          "people": 1571038,
          "sex": 1,
          "year": 1900
         },
         {
          "age": 50,
          "people": 1411981,
          "sex": 2,
          "year": 1900
         },
         {
          "age": 55,
          "people": 1161908,
          "sex": 1,
          "year": 1900
         },
         {
          "age": 55,
          "people": 1064632,
          "sex": 2,
          "year": 1900
         },
         {
          "age": 60,
          "people": 916571,
          "sex": 1,
          "year": 1900
         },
         {
          "age": 60,
          "people": 887508,
          "sex": 2,
          "year": 1900
         },
         {
          "age": 65,
          "people": 672663,
          "sex": 1,
          "year": 1900
         },
         {
          "age": 65,
          "people": 640212,
          "sex": 2,
          "year": 1900
         },
         {
          "age": 70,
          "people": 454747,
          "sex": 1,
          "year": 1900
         },
         {
          "age": 70,
          "people": 440007,
          "sex": 2,
          "year": 1900
         },
         {
          "age": 75,
          "people": 268211,
          "sex": 1,
          "year": 1900
         },
         {
          "age": 75,
          "people": 265879,
          "sex": 2,
          "year": 1900
         },
         {
          "age": 80,
          "people": 127435,
          "sex": 1,
          "year": 1900
         },
         {
          "age": 80,
          "people": 132449,
          "sex": 2,
          "year": 1900
         },
         {
          "age": 85,
          "people": 44008,
          "sex": 1,
          "year": 1900
         },
         {
          "age": 85,
          "people": 48614,
          "sex": 2,
          "year": 1900
         },
         {
          "age": 90,
          "people": 15164,
          "sex": 1,
          "year": 1900
         },
         {
          "age": 90,
          "people": 20093,
          "sex": 2,
          "year": 1900
         },
         {
          "age": 0,
          "people": 5296823,
          "sex": 1,
          "year": 1910
         },
         {
          "age": 0,
          "people": 5287477,
          "sex": 2,
          "year": 1910
         },
         {
          "age": 5,
          "people": 4991803,
          "sex": 1,
          "year": 1910
         },
         {
          "age": 5,
          "people": 4866139,
          "sex": 2,
          "year": 1910
         },
         {
          "age": 10,
          "people": 4650747,
          "sex": 1,
          "year": 1910
         },
         {
          "age": 10,
          "people": 4471887,
          "sex": 2,
          "year": 1910
         },
         {
          "age": 15,
          "people": 4566154,
          "sex": 1,
          "year": 1910
         },
         {
          "age": 15,
          "people": 4592269,
          "sex": 2,
          "year": 1910
         },
         {
          "age": 20,
          "people": 4637632,
          "sex": 1,
          "year": 1910
         },
         {
          "age": 20,
          "people": 4447683,
          "sex": 2,
          "year": 1910
         },
         {
          "age": 25,
          "people": 4257755,
          "sex": 1,
          "year": 1910
         },
         {
          "age": 25,
          "people": 3946153,
          "sex": 2,
          "year": 1910
         },
         {
          "age": 30,
          "people": 3658125,
          "sex": 1,
          "year": 1910
         },
         {
          "age": 30,
          "people": 3295220,
          "sex": 2,
          "year": 1910
         },
         {
          "age": 35,
          "people": 3427518,
          "sex": 1,
          "year": 1910
         },
         {
          "age": 35,
          "people": 3088990,
          "sex": 2,
          "year": 1910
         },
         {
          "age": 40,
          "people": 2860229,
          "sex": 1,
          "year": 1910
         },
         {
          "age": 40,
          "people": 2471267,
          "sex": 2,
          "year": 1910
         },
         {
          "age": 45,
          "people": 2363801,
          "sex": 1,
          "year": 1910
         },
         {
          "age": 45,
          "people": 2114930,
          "sex": 2,
          "year": 1910
         },
         {
          "age": 50,
          "people": 2126516,
          "sex": 1,
          "year": 1910
         },
         {
          "age": 50,
          "people": 1773592,
          "sex": 2,
          "year": 1910
         },
         {
          "age": 55,
          "people": 1508358,
          "sex": 1,
          "year": 1910
         },
         {
          "age": 55,
          "people": 1317651,
          "sex": 2,
          "year": 1910
         },
         {
          "age": 60,
          "people": 1189421,
          "sex": 1,
          "year": 1910
         },
         {
          "age": 60,
          "people": 1090697,
          "sex": 2,
          "year": 1910
         },
         {
          "age": 65,
          "people": 850159,
          "sex": 1,
          "year": 1910
         },
         {
          "age": 65,
          "people": 813868,
          "sex": 2,
          "year": 1910
         },
         {
          "age": 70,
          "people": 557936,
          "sex": 1,
          "year": 1910
         },
         {
          "age": 70,
          "people": 547623,
          "sex": 2,
          "year": 1910
         },
         {
          "age": 75,
          "people": 322679,
          "sex": 1,
          "year": 1910
         },
         {
          "age": 75,
          "people": 350900,
          "sex": 2,
          "year": 1910
         },
         {
          "age": 80,
          "people": 161715,
          "sex": 1,
          "year": 1910
         },
         {
          "age": 80,
          "people": 174315,
          "sex": 2,
          "year": 1910
         },
         {
          "age": 85,
          "people": 59699,
          "sex": 1,
          "year": 1910
         },
         {
          "age": 85,
          "people": 62725,
          "sex": 2,
          "year": 1910
         },
         {
          "age": 90,
          "people": 23929,
          "sex": 1,
          "year": 1910
         },
         {
          "age": 90,
          "people": 28965,
          "sex": 2,
          "year": 1910
         },
         {
          "age": 0,
          "people": 5934792,
          "sex": 1,
          "year": 1920
         },
         {
          "age": 0,
          "people": 5694244,
          "sex": 2,
          "year": 1920
         },
         {
          "age": 5,
          "people": 5789008,
          "sex": 1,
          "year": 1920
         },
         {
          "age": 5,
          "people": 5693960,
          "sex": 2,
          "year": 1920
         },
         {
          "age": 10,
          "people": 5401156,
          "sex": 1,
          "year": 1920
         },
         {
          "age": 10,
          "people": 5293057,
          "sex": 2,
          "year": 1920
         },
         {
          "age": 15,
          "people": 4724365,
          "sex": 1,
          "year": 1920
         },
         {
          "age": 15,
          "people": 4779936,
          "sex": 2,
          "year": 1920
         },
         {
          "age": 20,
          "people": 4549411,
          "sex": 1,
          "year": 1920
         },
         {
          "age": 20,
          "people": 4742632,
          "sex": 2,
          "year": 1920
         },
         {
          "age": 25,
          "people": 4565066,
          "sex": 1,
          "year": 1920
         },
         {
          "age": 25,
          "people": 4529382,
          "sex": 2,
          "year": 1920
         },
         {
          "age": 30,
          "people": 4110771,
          "sex": 1,
          "year": 1920
         },
         {
          "age": 30,
          "people": 3982426,
          "sex": 2,
          "year": 1920
         },
         {
          "age": 35,
          "people": 4081543,
          "sex": 1,
          "year": 1920
         },
         {
          "age": 35,
          "people": 3713810,
          "sex": 2,
          "year": 1920
         },
         {
          "age": 40,
          "people": 3321923,
          "sex": 1,
          "year": 1920
         },
         {
          "age": 40,
          "people": 3059757,
          "sex": 2,
          "year": 1920
         },
         {
          "age": 45,
          "people": 3143891,
          "sex": 1,
          "year": 1920
         },
         {
          "age": 45,
          "people": 2669089,
          "sex": 2,
          "year": 1920
         },
         {
          "age": 50,
          "people": 2546035,
          "sex": 1,
          "year": 1920
         },
         {
          "age": 50,
          "people": 2200491,
          "sex": 2,
          "year": 1920
         },
         {
          "age": 55,
          "people": 1880975,
          "sex": 1,
          "year": 1920
         },
         {
          "age": 55,
          "people": 1674672,
          "sex": 2,
          "year": 1920
         },
         {
          "age": 60,
          "people": 1587549,
          "sex": 1,
          "year": 1920
         },
         {
          "age": 60,
          "people": 1382877,
          "sex": 2,
          "year": 1920
         },
         {
          "age": 65,
          "people": 1095956,
          "sex": 1,
          "year": 1920
         },
         {
          "age": 65,
          "people": 989901,
          "sex": 2,
          "year": 1920
         },
         {
          "age": 70,
          "people": 714618,
          "sex": 1,
          "year": 1920
         },
         {
          "age": 70,
          "people": 690097,
          "sex": 2,
          "year": 1920
         },
         {
          "age": 75,
          "people": 417292,
          "sex": 1,
          "year": 1920
         },
         {
          "age": 75,
          "people": 439465,
          "sex": 2,
          "year": 1920
         },
         {
          "age": 80,
          "people": 187000,
          "sex": 1,
          "year": 1920
         },
         {
          "age": 80,
          "people": 211110,
          "sex": 2,
          "year": 1920
         },
         {
          "age": 85,
          "people": 75991,
          "sex": 1,
          "year": 1920
         },
         {
          "age": 85,
          "people": 92829,
          "sex": 2,
          "year": 1920
         },
         {
          "age": 90,
          "people": 22398,
          "sex": 1,
          "year": 1920
         },
         {
          "age": 90,
          "people": 32085,
          "sex": 2,
          "year": 1920
         },
         {
          "age": 0,
          "people": 5875250,
          "sex": 1,
          "year": 1930
         },
         {
          "age": 0,
          "people": 5662530,
          "sex": 2,
          "year": 1930
         },
         {
          "age": 5,
          "people": 6542592,
          "sex": 1,
          "year": 1930
         },
         {
          "age": 5,
          "people": 6129561,
          "sex": 2,
          "year": 1930
         },
         {
          "age": 10,
          "people": 6064820,
          "sex": 1,
          "year": 1930
         },
         {
          "age": 10,
          "people": 5986529,
          "sex": 2,
          "year": 1930
         },
         {
          "age": 15,
          "people": 5709452,
          "sex": 1,
          "year": 1930
         },
         {
          "age": 15,
          "people": 5769587,
          "sex": 2,
          "year": 1930
         },
         {
          "age": 20,
          "people": 5305992,
          "sex": 1,
          "year": 1930
         },
         {
          "age": 20,
          "people": 5565382,
          "sex": 2,
          "year": 1930
         },
         {
          "age": 25,
          "people": 4929853,
          "sex": 1,
          "year": 1930
         },
         {
          "age": 25,
          "people": 5050229,
          "sex": 2,
          "year": 1930
         },
         {
          "age": 30,
          "people": 4424408,
          "sex": 1,
          "year": 1930
         },
         {
          "age": 30,
          "people": 4455213,
          "sex": 2,
          "year": 1930
         },
         {
          "age": 35,
          "people": 4576531,
          "sex": 1,
          "year": 1930
         },
         {
          "age": 35,
          "people": 4593776,
          "sex": 2,
          "year": 1930
         },
         {
          "age": 40,
          "people": 4075139,
          "sex": 1,
          "year": 1930
         },
         {
          "age": 40,
          "people": 3754022,
          "sex": 2,
          "year": 1930
         },
         {
          "age": 45,
          "people": 3633152,
          "sex": 1,
          "year": 1930
         },
         {
          "age": 45,
          "people": 3396558,
          "sex": 2,
          "year": 1930
         },
         {
          "age": 50,
          "people": 3128108,
          "sex": 1,
          "year": 1930
         },
         {
          "age": 50,
          "people": 2809191,
          "sex": 2,
          "year": 1930
         },
         {
          "age": 55,
          "people": 2434077,
          "sex": 1,
          "year": 1930
         },
         {
          "age": 55,
          "people": 2298614,
          "sex": 2,
          "year": 1930
         },
         {
          "age": 60,
          "people": 1927564,
          "sex": 1,
          "year": 1930
         },
         {
          "age": 60,
          "people": 1783515,
          "sex": 2,
          "year": 1930
         },
         {
          "age": 65,
          "people": 1397275,
          "sex": 1,
          "year": 1930
         },
         {
          "age": 65,
          "people": 1307312,
          "sex": 2,
          "year": 1930
         },
         {
          "age": 70,
          "people": 919045,
          "sex": 1,
          "year": 1930
         },
         {
          "age": 70,
          "people": 918509,
          "sex": 2,
          "year": 1930
         },
         {
          "age": 75,
          "people": 536375,
          "sex": 1,
          "year": 1930
         },
         {
          "age": 75,
          "people": 522716,
          "sex": 2,
          "year": 1930
         },
         {
          "age": 80,
          "people": 246708,
          "sex": 1,
          "year": 1930
         },
         {
          "age": 80,
          "people": 283579,
          "sex": 2,
          "year": 1930
         },
         {
          "age": 85,
          "people": 88978,
          "sex": 1,
          "year": 1930
         },
         {
          "age": 85,
          "people": 109210,
          "sex": 2,
          "year": 1930
         },
         {
          "age": 90,
          "people": 30338,
          "sex": 1,
          "year": 1930
         },
         {
          "age": 90,
          "people": 43483,
          "sex": 2,
          "year": 1930
         },
         {
          "age": 0,
          "people": 5294628,
          "sex": 1,
          "year": 1940
         },
         {
          "age": 0,
          "people": 5124653,
          "sex": 2,
          "year": 1940
         },
         {
          "age": 5,
          "people": 5468378,
          "sex": 1,
          "year": 1940
         },
         {
          "age": 5,
          "people": 5359099,
          "sex": 2,
          "year": 1940
         },
         {
          "age": 10,
          "people": 5960416,
          "sex": 1,
          "year": 1940
         },
         {
          "age": 10,
          "people": 5868532,
          "sex": 2,
          "year": 1940
         },
         {
          "age": 15,
          "people": 6165109,
          "sex": 1,
          "year": 1940
         },
         {
          "age": 15,
          "people": 6193701,
          "sex": 2,
          "year": 1940
         },
         {
          "age": 20,
          "people": 5682414,
          "sex": 1,
          "year": 1940
         },
         {
          "age": 20,
          "people": 5896002,
          "sex": 2,
          "year": 1940
         },
         {
          "age": 25,
          "people": 5438166,
          "sex": 1,
          "year": 1940
         },
         {
          "age": 25,
          "people": 5664244,
          "sex": 2,
          "year": 1940
         },
         {
          "age": 30,
          "people": 5040048,
          "sex": 1,
          "year": 1940
         },
         {
          "age": 30,
          "people": 5171522,
          "sex": 2,
          "year": 1940
         },
         {
          "age": 35,
          "people": 4724804,
          "sex": 1,
          "year": 1940
         },
         {
          "age": 35,
          "people": 4791809,
          "sex": 2,
          "year": 1940
         },
         {
          "age": 40,
          "people": 4437392,
          "sex": 1,
          "year": 1940
         },
         {
          "age": 40,
          "people": 4394061,
          "sex": 2,
          "year": 1940
         },
         {
          "age": 45,
          "people": 4190187,
          "sex": 1,
          "year": 1940
         },
         {
          "age": 45,
          "people": 4050290,
          "sex": 2,
          "year": 1940
         },
         {
          "age": 50,
          "people": 3785735,
          "sex": 1,
          "year": 1940
         },
         {
          "age": 50,
          "people": 3488396,
          "sex": 2,
          "year": 1940
         },
         {
          "age": 55,
          "people": 2972069,
          "sex": 1,
          "year": 1940
         },
         {
          "age": 55,
          "people": 2810000,
          "sex": 2,
          "year": 1940
         },
         {
          "age": 60,
          "people": 2370232,
          "sex": 1,
          "year": 1940
         },
         {
          "age": 60,
          "people": 2317790,
          "sex": 2,
          "year": 1940
         },
         {
          "age": 65,
          "people": 1897678,
          "sex": 1,
          "year": 1940
         },
         {
          "age": 65,
          "people": 1911117,
          "sex": 2,
          "year": 1940
         },
         {
          "age": 70,
          "people": 1280023,
          "sex": 1,
          "year": 1940
         },
         {
          "age": 70,
          "people": 1287711,
          "sex": 2,
          "year": 1940
         },
         {
          "age": 75,
          "people": 713875,
          "sex": 1,
          "year": 1940
         },
         {
          "age": 75,
          "people": 764915,
          "sex": 2,
          "year": 1940
         },
         {
          "age": 80,
          "people": 359418,
          "sex": 1,
          "year": 1940
         },
         {
          "age": 80,
          "people": 414761,
          "sex": 2,
          "year": 1940
         },
         {
          "age": 85,
          "people": 127303,
          "sex": 1,
          "year": 1940
         },
         {
          "age": 85,
          "people": 152131,
          "sex": 2,
          "year": 1940
         },
         {
          "age": 90,
          "people": 42263,
          "sex": 1,
          "year": 1940
         },
         {
          "age": 90,
          "people": 58119,
          "sex": 2,
          "year": 1940
         },
         {
          "age": 0,
          "people": 8211806,
          "sex": 1,
          "year": 1950
         },
         {
          "age": 0,
          "people": 7862267,
          "sex": 2,
          "year": 1950
         },
         {
          "age": 5,
          "people": 6706601,
          "sex": 1,
          "year": 1950
         },
         {
          "age": 5,
          "people": 6450863,
          "sex": 2,
          "year": 1950
         },
         {
          "age": 10,
          "people": 5629744,
          "sex": 1,
          "year": 1950
         },
         {
          "age": 10,
          "people": 5430835,
          "sex": 2,
          "year": 1950
         },
         {
          "age": 15,
          "people": 5264129,
          "sex": 1,
          "year": 1950
         },
         {
          "age": 15,
          "people": 5288742,
          "sex": 2,
          "year": 1950
         },
         {
          "age": 20,
          "people": 5573308,
          "sex": 1,
          "year": 1950
         },
         {
          "age": 20,
          "people": 5854227,
          "sex": 2,
          "year": 1950
         },
         {
          "age": 25,
          "people": 6007254,
          "sex": 1,
          "year": 1950
         },
         {
          "age": 25,
          "people": 6317332,
          "sex": 2,
          "year": 1950
         },
         {
          "age": 30,
          "people": 5676022,
          "sex": 1,
          "year": 1950
         },
         {
          "age": 30,
          "people": 5895178,
          "sex": 2,
          "year": 1950
         },
         {
          "age": 35,
          "people": 5511364,
          "sex": 1,
          "year": 1950
         },
         {
          "age": 35,
          "people": 5696261,
          "sex": 2,
          "year": 1950
         },
         {
          "age": 40,
          "people": 5076985,
          "sex": 1,
          "year": 1950
         },
         {
          "age": 40,
          "people": 5199224,
          "sex": 2,
          "year": 1950
         },
         {
          "age": 45,
          "people": 4533177,
          "sex": 1,
          "year": 1950
         },
         {
          "age": 45,
          "people": 4595842,
          "sex": 2,
          "year": 1950
         },
         {
          "age": 50,
          "people": 4199164,
          "sex": 1,
          "year": 1950
         },
         {
          "age": 50,
          "people": 4147295,
          "sex": 2,
          "year": 1950
         },
         {
          "age": 55,
          "people": 3667351,
          "sex": 1,
          "year": 1950
         },
         {
          "age": 55,
          "people": 3595158,
          "sex": 2,
          "year": 1950
         },
         {
          "age": 60,
          "people": 3035038,
          "sex": 1,
          "year": 1950
         },
         {
          "age": 60,
          "people": 3009768,
          "sex": 2,
          "year": 1950
         },
         {
          "age": 65,
          "people": 2421234,
          "sex": 1,
          "year": 1950
         },
         {
          "age": 65,
          "people": 2548250,
          "sex": 2,
          "year": 1950
         },
         {
          "age": 70,
          "people": 1627920,
          "sex": 1,
          "year": 1950
         },
         {
          "age": 70,
          "people": 1786831,
          "sex": 2,
          "year": 1950
         },
         {
          "age": 75,
          "people": 1006530,
          "sex": 1,
          "year": 1950
         },
         {
          "age": 75,
          "people": 1148469,
          "sex": 2,
          "year": 1950
         },
         {
          "age": 80,
          "people": 511727,
          "sex": 1,
          "year": 1950
         },
         {
          "age": 80,
          "people": 637717,
          "sex": 2,
          "year": 1950
         },
         {
          "age": 85,
          "people": 182821,
          "sex": 1,
          "year": 1950
         },
         {
          "age": 85,
          "people": 242798,
          "sex": 2,
          "year": 1950
         },
         {
          "age": 90,
          "people": 54836,
          "sex": 1,
          "year": 1950
         },
         {
          "age": 90,
          "people": 90766,
          "sex": 2,
          "year": 1950
         },
         {
          "age": 0,
          "people": 10374975,
          "sex": 1,
          "year": 1960
         },
         {
          "age": 0,
          "people": 10146999,
          "sex": 2,
          "year": 1960
         },
         {
          "age": 5,
          "people": 9495503,
          "sex": 1,
          "year": 1960
         },
         {
          "age": 5,
          "people": 9250741,
          "sex": 2,
          "year": 1960
         },
         {
          "age": 10,
          "people": 8563700,
          "sex": 1,
          "year": 1960
         },
         {
          "age": 10,
          "people": 8310764,
          "sex": 2,
          "year": 1960
         },
         {
          "age": 15,
          "people": 6620902,
          "sex": 1,
          "year": 1960
         },
         {
          "age": 15,
          "people": 6617493,
          "sex": 2,
          "year": 1960
         },
         {
          "age": 20,
          "people": 5268384,
          "sex": 1,
          "year": 1960
         },
         {
          "age": 20,
          "people": 5513495,
          "sex": 2,
          "year": 1960
         },
         {
          "age": 25,
          "people": 5311805,
          "sex": 1,
          "year": 1960
         },
         {
          "age": 25,
          "people": 5548259,
          "sex": 2,
          "year": 1960
         },
         {
          "age": 30,
          "people": 5801342,
          "sex": 1,
          "year": 1960
         },
         {
          "age": 30,
          "people": 6090862,
          "sex": 2,
          "year": 1960
         },
         {
          "age": 35,
          "people": 6063063,
          "sex": 1,
          "year": 1960
         },
         {
          "age": 35,
          "people": 6431337,
          "sex": 2,
          "year": 1960
         },
         {
          "age": 40,
          "people": 5657943,
          "sex": 1,
          "year": 1960
         },
         {
          "age": 40,
          "people": 5940520,
          "sex": 2,
          "year": 1960
         },
         {
          "age": 45,
          "people": 5345658,
          "sex": 1,
          "year": 1960
         },
         {
          "age": 45,
          "people": 5516028,
          "sex": 2,
          "year": 1960
         },
         {
          "age": 50,
          "people": 4763364,
          "sex": 1,
          "year": 1960
         },
         {
          "age": 50,
          "people": 4928844,
          "sex": 2,
          "year": 1960
         },
         {
          "age": 55,
          "people": 4170581,
          "sex": 1,
          "year": 1960
         },
         {
          "age": 55,
          "people": 4402878,
          "sex": 2,
          "year": 1960
         },
         {
          "age": 60,
          "people": 3405293,
          "sex": 1,
          "year": 1960
         },
         {
          "age": 60,
          "people": 3723839,
          "sex": 2,
          "year": 1960
         },
         {
          "age": 65,
          "people": 2859371,
          "sex": 1,
          "year": 1960
         },
         {
          "age": 65,
          "people": 3268699,
          "sex": 2,
          "year": 1960
         },
         {
          "age": 70,
          "people": 2115763,
          "sex": 1,
          "year": 1960
         },
         {
          "age": 70,
          "people": 2516479,
          "sex": 2,
          "year": 1960
         },
         {
          "age": 75,
          "people": 1308913,
          "sex": 1,
          "year": 1960
         },
         {
          "age": 75,
          "people": 1641371,
          "sex": 2,
          "year": 1960
         },
         {
          "age": 80,
          "people": 619923,
          "sex": 1,
          "year": 1960
         },
         {
          "age": 80,
          "people": 856952,
          "sex": 2,
          "year": 1960
         },
         {
          "age": 85,
          "people": 253245,
          "sex": 1,
          "year": 1960
         },
         {
          "age": 85,
          "people": 384572,
          "sex": 2,
          "year": 1960
         },
         {
          "age": 90,
          "people": 75908,
          "sex": 1,
          "year": 1960
         },
         {
          "age": 90,
          "people": 135774,
          "sex": 2,
          "year": 1960
         },
         {
          "age": 0,
          "people": 8685121,
          "sex": 1,
          "year": 1970
         },
         {
          "age": 0,
          "people": 8326887,
          "sex": 2,
          "year": 1970
         },
         {
          "age": 5,
          "people": 10411131,
          "sex": 1,
          "year": 1970
         },
         {
          "age": 5,
          "people": 10003293,
          "sex": 2,
          "year": 1970
         },
         {
          "age": 10,
          "people": 10756403,
          "sex": 1,
          "year": 1970
         },
         {
          "age": 10,
          "people": 10343538,
          "sex": 2,
          "year": 1970
         },
         {
          "age": 15,
          "people": 9605399,
          "sex": 1,
          "year": 1970
         },
         {
          "age": 15,
          "people": 9414284,
          "sex": 2,
          "year": 1970
         },
         {
          "age": 20,
          "people": 7729202,
          "sex": 1,
          "year": 1970
         },
         {
          "age": 20,
          "people": 8341830,
          "sex": 2,
          "year": 1970
         },
         {
          "age": 25,
          "people": 6539301,
          "sex": 1,
          "year": 1970
         },
         {
          "age": 25,
          "people": 6903041,
          "sex": 2,
          "year": 1970
         },
         {
          "age": 30,
          "people": 5519879,
          "sex": 1,
          "year": 1970
         },
         {
          "age": 30,
          "people": 5851441,
          "sex": 2,
          "year": 1970
         },
         {
          "age": 35,
          "people": 5396732,
          "sex": 1,
          "year": 1970
         },
         {
          "age": 35,
          "people": 5708021,
          "sex": 2,
          "year": 1970
         },
         {
          "age": 40,
          "people": 5718538,
          "sex": 1,
          "year": 1970
         },
         {
          "age": 40,
          "people": 6129319,
          "sex": 2,
          "year": 1970
         },
         {
          "age": 45,
          "people": 5794120,
          "sex": 1,
          "year": 1970
         },
         {
          "age": 45,
          "people": 6198742,
          "sex": 2,
          "year": 1970
         },
         {
          "age": 50,
          "people": 5298312,
          "sex": 1,
          "year": 1970
         },
         {
          "age": 50,
          "people": 5783817,
          "sex": 2,
          "year": 1970
         },
         {
          "age": 55,
          "people": 4762911,
          "sex": 1,
          "year": 1970
         },
         {
          "age": 55,
          "people": 5222164,
          "sex": 2,
          "year": 1970
         },
         {
          "age": 60,
          "people": 4037643,
          "sex": 1,
          "year": 1970
         },
         {
          "age": 60,
          "people": 4577251,
          "sex": 2,
          "year": 1970
         },
         {
          "age": 65,
          "people": 3142606,
          "sex": 1,
          "year": 1970
         },
         {
          "age": 65,
          "people": 3894827,
          "sex": 2,
          "year": 1970
         },
         {
          "age": 70,
          "people": 2340826,
          "sex": 1,
          "year": 1970
         },
         {
          "age": 70,
          "people": 3138009,
          "sex": 2,
          "year": 1970
         },
         {
          "age": 75,
          "people": 1599269,
          "sex": 1,
          "year": 1970
         },
         {
          "age": 75,
          "people": 2293376,
          "sex": 2,
          "year": 1970
         },
         {
          "age": 80,
          "people": 886155,
          "sex": 1,
          "year": 1970
         },
         {
          "age": 80,
          "people": 1417553,
          "sex": 2,
          "year": 1970
         },
         {
          "age": 85,
          "people": 371123,
          "sex": 1,
          "year": 1970
         },
         {
          "age": 85,
          "people": 658511,
          "sex": 2,
          "year": 1970
         },
         {
          "age": 90,
          "people": 186502,
          "sex": 1,
          "year": 1970
         },
         {
          "age": 90,
          "people": 314929,
          "sex": 2,
          "year": 1970
         },
         {
          "age": 0,
          "people": 8439366,
          "sex": 1,
          "year": 1980
         },
         {
          "age": 0,
          "people": 8081854,
          "sex": 2,
          "year": 1980
         },
         {
          "age": 5,
          "people": 8680730,
          "sex": 1,
          "year": 1980
         },
         {
          "age": 5,
          "people": 8275881,
          "sex": 2,
          "year": 1980
         },
         {
          "age": 10,
          "people": 9452338,
          "sex": 1,
          "year": 1980
         },
         {
          "age": 10,
          "people": 9048483,
          "sex": 2,
          "year": 1980
         },
         {
          "age": 15,
          "people": 10698856,
          "sex": 1,
          "year": 1980
         },
         {
          "age": 15,
          "people": 10410271,
          "sex": 2,
          "year": 1980
         },
         {
          "age": 20,
          "people": 10486776,
          "sex": 1,
          "year": 1980
         },
         {
          "age": 20,
          "people": 10614947,
          "sex": 2,
          "year": 1980
         },
         {
          "age": 25,
          "people": 9624053,
          "sex": 1,
          "year": 1980
         },
         {
          "age": 25,
          "people": 9827903,
          "sex": 2,
          "year": 1980
         },
         {
          "age": 30,
          "people": 8705835,
          "sex": 1,
          "year": 1980
         },
         {
          "age": 30,
          "people": 8955225,
          "sex": 2,
          "year": 1980
         },
         {
          "age": 35,
          "people": 6852069,
          "sex": 1,
          "year": 1980
         },
         {
          "age": 35,
          "people": 7134239,
          "sex": 2,
          "year": 1980
         },
         {
          "age": 40,
          "people": 5692148,
          "sex": 1,
          "year": 1980
         },
         {
          "age": 40,
          "people": 5953910,
          "sex": 2,
          "year": 1980
         },
         {
          "age": 45,
          "people": 5342469,
          "sex": 1,
          "year": 1980
         },
         {
          "age": 45,
          "people": 5697543,
          "sex": 2,
          "year": 1980
         },
         {
          "age": 50,
          "people": 5603709,
          "sex": 1,
          "year": 1980
         },
         {
          "age": 50,
          "people": 6110117,
          "sex": 2,
          "year": 1980
         },
         {
          "age": 55,
          "people": 5485098,
          "sex": 1,
          "year": 1980
         },
         {
          "age": 55,
          "people": 6160229,
          "sex": 2,
          "year": 1980
         },
         {
          "age": 60,
          "people": 4696140,
          "sex": 1,
          "year": 1980
         },
         {
          "age": 60,
          "people": 5456885,
          "sex": 2,
          "year": 1980
         },
         {
          "age": 65,
          "people": 3893510,
          "sex": 1,
          "year": 1980
         },
         {
          "age": 65,
          "people": 4896947,
          "sex": 2,
          "year": 1980
         },
         {
          "age": 70,
          "people": 2857774,
          "sex": 1,
          "year": 1980
         },
         {
          "age": 70,
          "people": 3963441,
          "sex": 2,
          "year": 1980
         },
         {
          "age": 75,
          "people": 1840438,
          "sex": 1,
          "year": 1980
         },
         {
          "age": 75,
          "people": 2951759,
          "sex": 2,
          "year": 1980
         },
         {
          "age": 80,
          "people": 1012886,
          "sex": 1,
          "year": 1980
         },
         {
          "age": 80,
          "people": 1919292,
          "sex": 2,
          "year": 1980
         },
         {
          "age": 85,
          "people": 472338,
          "sex": 1,
          "year": 1980
         },
         {
          "age": 85,
          "people": 1023115,
          "sex": 2,
          "year": 1980
         },
         {
          "age": 90,
          "people": 204148,
          "sex": 1,
          "year": 1980
         },
         {
          "age": 90,
          "people": 499046,
          "sex": 2,
          "year": 1980
         },
         {
          "age": 0,
          "people": 9307465,
          "sex": 1,
          "year": 1990
         },
         {
          "age": 0,
          "people": 8894007,
          "sex": 2,
          "year": 1990
         },
         {
          "age": 5,
          "people": 9274732,
          "sex": 1,
          "year": 1990
         },
         {
          "age": 5,
          "people": 8799955,
          "sex": 2,
          "year": 1990
         },
         {
          "age": 10,
          "people": 8782542,
          "sex": 1,
          "year": 1990
         },
         {
          "age": 10,
          "people": 8337284,
          "sex": 2,
          "year": 1990
         },
         {
          "age": 15,
          "people": 9020572,
          "sex": 1,
          "year": 1990
         },
         {
          "age": 15,
          "people": 8590991,
          "sex": 2,
          "year": 1990
         },
         {
          "age": 20,
          "people": 9436188,
          "sex": 1,
          "year": 1990
         },
         {
          "age": 20,
          "people": 9152644,
          "sex": 2,
          "year": 1990
         },
         {
          "age": 25,
          "people": 10658027,
          "sex": 1,
          "year": 1990
         },
         {
          "age": 25,
          "people": 10587292,
          "sex": 2,
          "year": 1990
         },
         {
          "age": 30,
          "people": 11028712,
          "sex": 1,
          "year": 1990
         },
         {
          "age": 30,
          "people": 11105750,
          "sex": 2,
          "year": 1990
         },
         {
          "age": 35,
          "people": 9853933,
          "sex": 1,
          "year": 1990
         },
         {
          "age": 35,
          "people": 10038644,
          "sex": 2,
          "year": 1990
         },
         {
          "age": 40,
          "people": 8712632,
          "sex": 1,
          "year": 1990
         },
         {
          "age": 40,
          "people": 8928252,
          "sex": 2,
          "year": 1990
         },
         {
          "age": 45,
          "people": 6848082,
          "sex": 1,
          "year": 1990
         },
         {
          "age": 45,
          "people": 7115129,
          "sex": 2,
          "year": 1990
         },
         {
          "age": 50,
          "people": 5553992,
          "sex": 1,
          "year": 1990
         },
         {
          "age": 50,
          "people": 5899925,
          "sex": 2,
          "year": 1990
         },
         {
          "age": 55,
          "people": 4981670,
          "sex": 1,
          "year": 1990
         },
         {
          "age": 55,
          "people": 5460506,
          "sex": 2,
          "year": 1990
         },
         {
          "age": 60,
          "people": 4953822,
          "sex": 1,
          "year": 1990
         },
         {
          "age": 60,
          "people": 5663205,
          "sex": 2,
          "year": 1990
         },
         {
          "age": 65,
          "people": 4538398,
          "sex": 1,
          "year": 1990
         },
         {
          "age": 65,
          "people": 5594108,
          "sex": 2,
          "year": 1990
         },
         {
          "age": 70,
          "people": 3429420,
          "sex": 1,
          "year": 1990
         },
         {
          "age": 70,
          "people": 4610222,
          "sex": 2,
          "year": 1990
         },
         {
          "age": 75,
          "people": 2344932,
          "sex": 1,
          "year": 1990
         },
         {
          "age": 75,
          "people": 3723980,
          "sex": 2,
          "year": 1990
         },
         {
          "age": 80,
          "people": 1342996,
          "sex": 1,
          "year": 1990
         },
         {
          "age": 80,
          "people": 2545730,
          "sex": 2,
          "year": 1990
         },
         {
          "age": 85,
          "people": 588790,
          "sex": 1,
          "year": 1990
         },
         {
          "age": 85,
          "people": 1419494,
          "sex": 2,
          "year": 1990
         },
         {
          "age": 90,
          "people": 238459,
          "sex": 1,
          "year": 1990
         },
         {
          "age": 90,
          "people": 745146,
          "sex": 2,
          "year": 1990
         },
         {
          "age": 0,
          "people": 9735380,
          "sex": 1,
          "year": 2000
         },
         {
          "age": 0,
          "people": 9310714,
          "sex": 2,
          "year": 2000
         },
         {
          "age": 5,
          "people": 10552146,
          "sex": 1,
          "year": 2000
         },
         {
          "age": 5,
          "people": 10069564,
          "sex": 2,
          "year": 2000
         },
         {
          "age": 10,
          "people": 10563233,
          "sex": 1,
          "year": 2000
         },
         {
          "age": 10,
          "people": 10022524,
          "sex": 2,
          "year": 2000
         },
         {
          "age": 15,
          "people": 10237419,
          "sex": 1,
          "year": 2000
         },
         {
          "age": 15,
          "people": 9692669,
          "sex": 2,
          "year": 2000
         },
         {
          "age": 20,
          "people": 9731315,
          "sex": 1,
          "year": 2000
         },
         {
          "age": 20,
          "people": 9324244,
          "sex": 2,
          "year": 2000
         },
         {
          "age": 25,
          "people": 9659493,
          "sex": 1,
          "year": 2000
         },
         {
          "age": 25,
          "people": 9518507,
          "sex": 2,
          "year": 2000
         },
         {
          "age": 30,
          "people": 10205879,
          "sex": 1,
          "year": 2000
         },
         {
          "age": 30,
          "people": 10119296,
          "sex": 2,
          "year": 2000
         },
         {
          "age": 35,
          "people": 11475182,
          "sex": 1,
          "year": 2000
         },
         {
          "age": 35,
          "people": 11635647,
          "sex": 2,
          "year": 2000
         },
         {
          "age": 40,
          "people": 11320252,
          "sex": 1,
          "year": 2000
         },
         {
          "age": 40,
          "people": 11488578,
          "sex": 2,
          "year": 2000
         },
         {
          "age": 45,
          "people": 9925006,
          "sex": 1,
          "year": 2000
         },
         {
          "age": 45,
          "people": 10261253,
          "sex": 2,
          "year": 2000
         },
         {
          "age": 50,
          "people": 8507934,
          "sex": 1,
          "year": 2000
         },
         {
          "age": 50,
          "people": 8911133,
          "sex": 2,
          "year": 2000
         },
         {
          "age": 55,
          "people": 6459082,
          "sex": 1,
          "year": 2000
         },
         {
          "age": 55,
          "people": 6921268,
          "sex": 2,
          "year": 2000
         },
         {
          "age": 60,
          "people": 5123399,
          "sex": 1,
          "year": 2000
         },
         {
          "age": 60,
          "people": 5668961,
          "sex": 2,
          "year": 2000
         },
         {
          "age": 65,
          "people": 4453623,
          "sex": 1,
          "year": 2000
         },
         {
          "age": 65,
          "people": 4804784,
          "sex": 2,
          "year": 2000
         },
         {
          "age": 70,
          "people": 3792145,
          "sex": 1,
          "year": 2000
         },
         {
          "age": 70,
          "people": 5184855,
          "sex": 2,
          "year": 2000
         },
         {
          "age": 75,
          "people": 2912655,
          "sex": 1,
          "year": 2000
         },
         {
          "age": 75,
          "people": 4355644,
          "sex": 2,
          "year": 2000
         },
         {
          "age": 80,
          "people": 1902638,
          "sex": 1,
          "year": 2000
         },
         {
          "age": 80,
          "people": 3221898,
          "sex": 2,
          "year": 2000
         },
         {
          "age": 85,
          "people": 970357,
          "sex": 1,
          "year": 2000
         },
         {
          "age": 85,
          "people": 1981156,
          "sex": 2,
          "year": 2000
         },
         {
          "age": 90,
          "people": 336303,
          "sex": 1,
          "year": 2000
         },
         {
          "age": 90,
          "people": 1064581,
          "sex": 2,
          "year": 2000
         }
        ]
       },
       "encoding": {
        "x": {
         "field": "age",
         "type": "ordinal"
        },
        "y": {
         "field": "people",
         "title": "population",
         "type": "quantitative"
        }
       },
       "mark": {
        "extent": "min-max",
        "type": "boxplot"
       },
       "title": "Box Plot with Min/Max Whiskers"
      },
      "image/png": "[encoded data removed]",
      "image/svg+xml": [
       "<?xml version=\"1.0\" encoding=\"utf-8\"?>\n",
       "<!DOCTYPE svg PUBLIC \"-//W3C//DTD SVG 1.1//EN\" \"http://www.w3.org/Graphics/SVG/1.1/DTD/svg11.dtd\">\n",
       "<svg xmlns=\"http://www.w3.org/2000/svg\" xmlns:xlink=\"http://www.w3.org/1999/xlink\" version=\"1.1\" class=\"marks\" width=\"466\" height=\"266\" viewBox=\"0 0 466 266\"><rect width=\"466\" height=\"266\" fill=\"white\"/><g fill=\"none\" stroke-miterlimit=\"10\" transform=\"translate(81,27)\"><g class=\"mark-group role-frame root\" role=\"graphics-object\" aria-roledescription=\"group mark container\"><g transform=\"translate(0,0)\"><path class=\"background\" aria-hidden=\"true\" d=\"M0.5,0.5h380v200h-380Z\" stroke=\"#ddd\"/><g><g class=\"mark-group role-axis\" aria-hidden=\"true\"><g transform=\"translate(0.5,0.5)\"><path class=\"background\" aria-hidden=\"true\" d=\"M0,0h0v0h0Z\" pointer-events=\"none\"/><g><g class=\"mark-rule role-axis-grid\" pointer-events=\"none\"><line transform=\"translate(0,200)\" x2=\"380\" y2=\"0\" stroke=\"#ddd\" stroke-width=\"1\" opacity=\"1\"/><line transform=\"translate(0,167)\" x2=\"380\" y2=\"0\" stroke=\"#ddd\" stroke-width=\"1\" opacity=\"1\"/><line transform=\"translate(0,133)\" x2=\"380\" y2=\"0\" stroke=\"#ddd\" stroke-width=\"1\" opacity=\"1\"/><line transform=\"translate(0,100)\" x2=\"380\" y2=\"0\" stroke=\"#ddd\" stroke-width=\"1\" opacity=\"1\"/><line transform=\"translate(0,67)\" x2=\"380\" y2=\"0\" stroke=\"#ddd\" stroke-width=\"1\" opacity=\"1\"/><line transform=\"translate(0,33)\" x2=\"380\" y2=\"0\" stroke=\"#ddd\" stroke-width=\"1\" opacity=\"1\"/><line transform=\"translate(0,0)\" x2=\"380\" y2=\"0\" stroke=\"#ddd\" stroke-width=\"1\" opacity=\"1\"/></g></g><path class=\"foreground\" aria-hidden=\"true\" d=\"\" pointer-events=\"none\" display=\"none\"/></g></g><g class=\"mark-group role-axis\" role=\"graphics-symbol\" aria-roledescription=\"axis\" aria-label=\"X-axis titled 'age' for a discrete scale with 19 values: 0, 5, 10, 15, 20, ending with 90\"><g transform=\"translate(0.5,200.5)\"><path class=\"background\" aria-hidden=\"true\" d=\"M0,0h0v0h0Z\" pointer-events=\"none\"/><g><g class=\"mark-rule role-axis-tick\" pointer-events=\"none\"><line transform=\"translate(10,0)\" x2=\"0\" y2=\"5\" stroke=\"#888\" stroke-width=\"1\" opacity=\"1\"/><line transform=\"translate(30,0)\" x2=\"0\" y2=\"5\" stroke=\"#888\" stroke-width=\"1\" opacity=\"1\"/><line transform=\"translate(50,0)\" x2=\"0\" y2=\"5\" stroke=\"#888\" stroke-width=\"1\" opacity=\"1\"/><line transform=\"translate(70,0)\" x2=\"0\" y2=\"5\" stroke=\"#888\" stroke-width=\"1\" opacity=\"1\"/><line transform=\"translate(90,0)\" x2=\"0\" y2=\"5\" stroke=\"#888\" stroke-width=\"1\" opacity=\"1\"/><line transform=\"translate(110,0)\" x2=\"0\" y2=\"5\" stroke=\"#888\" stroke-width=\"1\" opacity=\"1\"/><line transform=\"translate(130,0)\" x2=\"0\" y2=\"5\" stroke=\"#888\" stroke-width=\"1\" opacity=\"1\"/><line transform=\"translate(150,0)\" x2=\"0\" y2=\"5\" stroke=\"#888\" stroke-width=\"1\" opacity=\"1\"/><line transform=\"translate(170,0)\" x2=\"0\" y2=\"5\" stroke=\"#888\" stroke-width=\"1\" opacity=\"1\"/><line transform=\"translate(190,0)\" x2=\"0\" y2=\"5\" stroke=\"#888\" stroke-width=\"1\" opacity=\"1\"/><line transform=\"translate(210,0)\" x2=\"0\" y2=\"5\" stroke=\"#888\" stroke-width=\"1\" opacity=\"1\"/><line transform=\"translate(230,0)\" x2=\"0\" y2=\"5\" stroke=\"#888\" stroke-width=\"1\" opacity=\"1\"/><line transform=\"translate(250,0)\" x2=\"0\" y2=\"5\" stroke=\"#888\" stroke-width=\"1\" opacity=\"1\"/><line transform=\"translate(270,0)\" x2=\"0\" y2=\"5\" stroke=\"#888\" stroke-width=\"1\" opacity=\"1\"/><line transform=\"translate(290,0)\" x2=\"0\" y2=\"5\" stroke=\"#888\" stroke-width=\"1\" opacity=\"1\"/><line transform=\"translate(310,0)\" x2=\"0\" y2=\"5\" stroke=\"#888\" stroke-width=\"1\" opacity=\"1\"/><line transform=\"translate(330,0)\" x2=\"0\" y2=\"5\" stroke=\"#888\" stroke-width=\"1\" opacity=\"1\"/><line transform=\"translate(350,0)\" x2=\"0\" y2=\"5\" stroke=\"#888\" stroke-width=\"1\" opacity=\"1\"/><line transform=\"translate(370,0)\" x2=\"0\" y2=\"5\" stroke=\"#888\" stroke-width=\"1\" opacity=\"1\"/></g><g class=\"mark-text role-axis-label\" pointer-events=\"none\"><text text-anchor=\"end\" transform=\"translate(9.5,7) rotate(270) translate(0,3)\" font-family=\"sans-serif\" font-size=\"10px\" fill=\"#000\" opacity=\"1\">0</text><text text-anchor=\"end\" transform=\"translate(29.5,7) rotate(270) translate(0,3)\" font-family=\"sans-serif\" font-size=\"10px\" fill=\"#000\" opacity=\"1\">5</text><text text-anchor=\"end\" transform=\"translate(49.5,7) rotate(270) translate(0,3)\" font-family=\"sans-serif\" font-size=\"10px\" fill=\"#000\" opacity=\"1\">10</text><text text-anchor=\"end\" transform=\"translate(69.5,7) rotate(270) translate(0,3)\" font-family=\"sans-serif\" font-size=\"10px\" fill=\"#000\" opacity=\"1\">15</text><text text-anchor=\"end\" transform=\"translate(89.5,7) rotate(270) translate(0,3)\" font-family=\"sans-serif\" font-size=\"10px\" fill=\"#000\" opacity=\"1\">20</text><text text-anchor=\"end\" transform=\"translate(109.5,7) rotate(270) translate(0,3)\" font-family=\"sans-serif\" font-size=\"10px\" fill=\"#000\" opacity=\"1\">25</text><text text-anchor=\"end\" transform=\"translate(129.5,7) rotate(270) translate(0,3)\" font-family=\"sans-serif\" font-size=\"10px\" fill=\"#000\" opacity=\"1\">30</text><text text-anchor=\"end\" transform=\"translate(149.5,7) rotate(270) translate(0,3)\" font-family=\"sans-serif\" font-size=\"10px\" fill=\"#000\" opacity=\"1\">35</text><text text-anchor=\"end\" transform=\"translate(169.5,7) rotate(270) translate(0,3)\" font-family=\"sans-serif\" font-size=\"10px\" fill=\"#000\" opacity=\"1\">40</text><text text-anchor=\"end\" transform=\"translate(189.5,7) rotate(270) translate(0,3)\" font-family=\"sans-serif\" font-size=\"10px\" fill=\"#000\" opacity=\"1\">45</text><text text-anchor=\"end\" transform=\"translate(209.5,7) rotate(270) translate(0,3)\" font-family=\"sans-serif\" font-size=\"10px\" fill=\"#000\" opacity=\"1\">50</text><text text-anchor=\"end\" transform=\"translate(229.5,7) rotate(270) translate(0,3)\" font-family=\"sans-serif\" font-size=\"10px\" fill=\"#000\" opacity=\"1\">55</text><text text-anchor=\"end\" transform=\"translate(249.5,7) rotate(270) translate(0,3)\" font-family=\"sans-serif\" font-size=\"10px\" fill=\"#000\" opacity=\"1\">60</text><text text-anchor=\"end\" transform=\"translate(269.5,7) rotate(270) translate(0,3)\" font-family=\"sans-serif\" font-size=\"10px\" fill=\"#000\" opacity=\"1\">65</text><text text-anchor=\"end\" transform=\"translate(289.5,7) rotate(270) translate(0,3)\" font-family=\"sans-serif\" font-size=\"10px\" fill=\"#000\" opacity=\"1\">70</text><text text-anchor=\"end\" transform=\"translate(309.5,7) rotate(270) translate(0,3)\" font-family=\"sans-serif\" font-size=\"10px\" fill=\"#000\" opacity=\"1\">75</text><text text-anchor=\"end\" transform=\"translate(329.5,7) rotate(270) translate(0,3)\" font-family=\"sans-serif\" font-size=\"10px\" fill=\"#000\" opacity=\"1\">80</text><text text-anchor=\"end\" transform=\"translate(349.5,7) rotate(270) translate(0,3)\" font-family=\"sans-serif\" font-size=\"10px\" fill=\"#000\" opacity=\"1\">85</text><text text-anchor=\"end\" transform=\"translate(369.5,7) rotate(270) translate(0,3)\" font-family=\"sans-serif\" font-size=\"10px\" fill=\"#000\" opacity=\"1\">90</text></g><g class=\"mark-rule role-axis-domain\" pointer-events=\"none\"><line transform=\"translate(0,0)\" x2=\"380\" y2=\"0\" stroke=\"#888\" stroke-width=\"1\" opacity=\"1\"/></g><g class=\"mark-text role-axis-title\" pointer-events=\"none\"><text text-anchor=\"middle\" transform=\"translate(190,32)\" font-family=\"sans-serif\" font-size=\"11px\" font-weight=\"bold\" fill=\"#000\" opacity=\"1\">age</text></g></g><path class=\"foreground\" aria-hidden=\"true\" d=\"\" pointer-events=\"none\" display=\"none\"/></g></g><g class=\"mark-group role-axis\" role=\"graphics-symbol\" aria-roledescription=\"axis\" aria-label=\"Y-axis titled 'population' for a linear scale with values from 0 to 12,000,000\"><g transform=\"translate(0.5,0.5)\"><path class=\"background\" aria-hidden=\"true\" d=\"M0,0h0v0h0Z\" pointer-events=\"none\"/><g><g class=\"mark-rule role-axis-tick\" pointer-events=\"none\"><line transform=\"translate(0,200)\" x2=\"-5\" y2=\"0\" stroke=\"#888\" stroke-width=\"1\" opacity=\"1\"/><line transform=\"translate(0,167)\" x2=\"-5\" y2=\"0\" stroke=\"#888\" stroke-width=\"1\" opacity=\"1\"/><line transform=\"translate(0,133)\" x2=\"-5\" y2=\"0\" stroke=\"#888\" stroke-width=\"1\" opacity=\"1\"/><line transform=\"translate(0,100)\" x2=\"-5\" y2=\"0\" stroke=\"#888\" stroke-width=\"1\" opacity=\"1\"/><line transform=\"translate(0,67)\" x2=\"-5\" y2=\"0\" stroke=\"#888\" stroke-width=\"1\" opacity=\"1\"/><line transform=\"translate(0,33)\" x2=\"-5\" y2=\"0\" stroke=\"#888\" stroke-width=\"1\" opacity=\"1\"/><line transform=\"translate(0,0)\" x2=\"-5\" y2=\"0\" stroke=\"#888\" stroke-width=\"1\" opacity=\"1\"/></g><g class=\"mark-text role-axis-label\" pointer-events=\"none\"><text text-anchor=\"end\" transform=\"translate(-7,203)\" font-family=\"sans-serif\" font-size=\"10px\" fill=\"#000\" opacity=\"1\">0</text><text text-anchor=\"end\" transform=\"translate(-7,169.66666666666669)\" font-family=\"sans-serif\" font-size=\"10px\" fill=\"#000\" opacity=\"1\">2,000,000</text><text text-anchor=\"end\" transform=\"translate(-7,136.33333333333334)\" font-family=\"sans-serif\" font-size=\"10px\" fill=\"#000\" opacity=\"1\">4,000,000</text><text text-anchor=\"end\" transform=\"translate(-7,103)\" font-family=\"sans-serif\" font-size=\"10px\" fill=\"#000\" opacity=\"1\">6,000,000</text><text text-anchor=\"end\" transform=\"translate(-7,69.66666666666667)\" font-family=\"sans-serif\" font-size=\"10px\" fill=\"#000\" opacity=\"1\">8,000,000</text><text text-anchor=\"end\" transform=\"translate(-7,36.33333333333333)\" font-family=\"sans-serif\" font-size=\"10px\" fill=\"#000\" opacity=\"1\">10,000,000</text><text text-anchor=\"end\" transform=\"translate(-7,3)\" font-family=\"sans-serif\" font-size=\"10px\" fill=\"#000\" opacity=\"1\">12,000,000</text></g><g class=\"mark-rule role-axis-domain\" pointer-events=\"none\"><line transform=\"translate(0,200)\" x2=\"0\" y2=\"-200\" stroke=\"#888\" stroke-width=\"1\" opacity=\"1\"/></g><g class=\"mark-text role-axis-title\" pointer-events=\"none\"><text text-anchor=\"middle\" transform=\"translate(-65,100) rotate(-90) translate(0,-2)\" font-family=\"sans-serif\" font-size=\"11px\" font-weight=\"bold\" fill=\"#000\" opacity=\"1\">population</text></g></g><path class=\"foreground\" aria-hidden=\"true\" d=\"\" pointer-events=\"none\" display=\"none\"/></g></g><g class=\"mark-rule role-mark layer_0_marks\" aria-hidden=\"true\"><line transform=\"translate(10,175.82706666666667)\" x2=\"0\" y2=\"-39.11949166666665\" stroke=\"black\"/><line transform=\"translate(30,177.33886666666666)\" x2=\"0\" y2=\"-36.851333333333315\" stroke=\"black\"/><line transform=\"translate(50,179.73143333333334)\" x2=\"0\" y2=\"-32.804437500000006\" stroke=\"black\"/><line transform=\"translate(70,182.04778333333334)\" x2=\"0\" y2=\"-29.37403333333333\" stroke=\"black\"/><line transform=\"translate(90,183.26931666666667)\" x2=\"0\" y2=\"-30.508391666666654\" stroke=\"black\"/><line transform=\"translate(110,186.67530000000002)\" x2=\"0\" y2=\"-26.651279166666683\" stroke=\"black\"/><line transform=\"translate(130,189.3394)\" x2=\"0\" y2=\"-22.308129166666674\" stroke=\"black\"/><line transform=\"translate(150,191.5831333333333)\" x2=\"0\" y2=\"-20.62502083333331\" stroke=\"black\"/><line transform=\"translate(170,192.86358333333334)\" x2=\"0\" y2=\"-16.710633333333334\" stroke=\"black\"/><line transform=\"translate(190,194.31243333333333)\" x2=\"0\" y2=\"-14.503866666666653\" stroke=\"black\"/><line transform=\"translate(210,195.22366666666667)\" x2=\"0\" y2=\"-13.162970833333333\" stroke=\"black\"/><line transform=\"translate(230,196.87986666666666)\" x2=\"0\" y2=\"-9.805170833333307\" stroke=\"black\"/><line transform=\"translate(250,197.29606666666666)\" x2=\"0\" y2=\"-8.247741666666656\" stroke=\"black\"/><line transform=\"translate(270,198.2411)\" x2=\"0\" y2=\"-5.5261250000000075\" stroke=\"black\"/><line transform=\"translate(290,198.80396666666667)\" x2=\"0\" y2=\"-3.830104166666672\" stroke=\"black\"/><line transform=\"translate(310,199.32951666666668)\" x2=\"0\" y2=\"-2.2312583333333293\" stroke=\"black\"/><line transform=\"translate(330,199.61751666666666)\" x2=\"0\" y2=\"-1.1146208333333334\" stroke=\"black\"/><line transform=\"translate(350,199.86356666666666)\" x2=\"0\" y2=\"-0.43727083333331507\" stroke=\"black\"/><line transform=\"translate(370,199.91235)\" x2=\"0\" y2=\"-0.1662791666666692\" stroke=\"black\"/></g><g class=\"mark-rule role-mark layer_1_marks\" aria-hidden=\"true\"><line transform=\"translate(10,59.8125625)\" x2=\"0\" y2=\"-32.72881249999999\" stroke=\"black\"/><line transform=\"translate(30,53.83085416666666)\" x2=\"0\" y2=\"-29.69995416666666\" stroke=\"black\"/><line transform=\"translate(50,58.21506666666667)\" x2=\"0\" y2=\"-37.48845000000001\" stroke=\"black\"/><line transform=\"translate(70,65.02552083333333)\" x2=\"0\" y2=\"-43.33978750000001\" stroke=\"black\"/><line transform=\"translate(90,78.81830000000001)\" x2=\"0\" y2=\"-55.73408333333334\" stroke=\"black\"/><line transform=\"translate(110,91.93652083333332)\" x2=\"0\" y2=\"-69.57030416666665\" stroke=\"black\"/><line transform=\"translate(130,101.92927083333333)\" x2=\"0\" y2=\"-87.02510416666667\" stroke=\"black\"/><line transform=\"translate(150,100.42829166666667)\" x2=\"0\" y2=\"-94.35574166666667\" stroke=\"black\"/><line transform=\"translate(170,104.80099166666665)\" x2=\"0\" y2=\"-96.27729166666664\" stroke=\"black\"/><line transform=\"translate(190,108.77607500000002)\" x2=\"0\" y2=\"-79.79695833333336\" stroke=\"black\"/><line transform=\"translate(210,113.23425)\" x2=\"0\" y2=\"-61.753133333333345\" stroke=\"black\"/><line transform=\"translate(230,122.1182875)\" x2=\"0\" y2=\"-37.47275416666666\" stroke=\"black\"/><line transform=\"translate(250,134.01346666666666)\" x2=\"0\" y2=\"-28.49615\" stroke=\"black\"/><line transform=\"translate(270,146.04707083333332)\" x2=\"0\" y2=\"-39.28220416666666\" stroke=\"black\"/><line transform=\"translate(290,158.79057083333333)\" x2=\"0\" y2=\"-45.20482083333334\" stroke=\"black\"/><line transform=\"translate(310,172.81924166666667)\" x2=\"0\" y2=\"-45.41330833333335\" stroke=\"black\"/><line transform=\"translate(330,185.35242916666667)\" x2=\"0\" y2=\"-39.050729166666656\" stroke=\"black\"/><line transform=\"translate(350,193.64650416666666)\" x2=\"0\" y2=\"-26.665770833333312\" stroke=\"black\"/><line transform=\"translate(370,197.103)\" x2=\"0\" y2=\"-14.846016666666685\" stroke=\"black\"/></g><g class=\"mark-rect role-mark layer_2_marks\" role=\"graphics-object\" aria-roledescription=\"rect mark container\"><path aria-label=\"population: 3797545.5; upper_box_people: 8411246.25; age: 0; Max of population: 10374975; Q3 of population: 8411246.25; Median of population: 5678387; Q1 of population: 3797545.5; Min of population: 1450376\" role=\"graphics-symbol\" aria-roledescription=\"box\" d=\"M3,59.8125625h14v76.89501250000002h-14Z\" fill=\"#4c78a8\"/><path aria-label=\"population: 3570748; upper_box_people: 8770148.75; age: 5; Max of population: 10552146; Q3 of population: 8770148.75; Median of population: 5741484; Q1 of population: 3570748; Min of population: 1359668\" role=\"graphics-symbol\" aria-roledescription=\"box\" d=\"M23,53.83085416666666h14v86.65667916666669h-14Z\" fill=\"#4c78a8\"/><path aria-label=\"population: 3184380.25; upper_box_people: 8507096; age: 10; Max of population: 10756403; Q3 of population: 8507096; Median of population: 5530289.5; Q1 of population: 3184380.25; Min of population: 1216114\" role=\"graphics-symbol\" aria-roledescription=\"box\" d=\"M43,58.21506666666667h14v88.71192916666666h-14Z\" fill=\"#4c78a8\"/><path aria-label=\"population: 2839575; upper_box_people: 8098468.75; age: 15; Max of population: 10698856; Q3 of population: 8098468.75; Median of population: 5276435.5; Q1 of population: 2839575; Min of population: 1077133\" role=\"graphics-symbol\" aria-roledescription=\"box\" d=\"M63,65.02552083333333h14v87.64822916666668h-14Z\" fill=\"#4c78a8\"/><path aria-label=\"population: 2834344.5; upper_box_people: 7270902; age: 20; Max of population: 10614947; Q3 of population: 7270902; Median of population: 5287188; Q1 of population: 2834344.5; Min of population: 1003841\" role=\"graphics-symbol\" aria-roledescription=\"box\" d=\"M83,78.81830000000001h14v73.942625h-14Z\" fill=\"#4c78a8\"/><path aria-label=\"population: 2398558.75; upper_box_people: 6483808.75; age: 25; Max of population: 10658027; Q3 of population: 6483808.75; Median of population: 4990041; Q1 of population: 2398558.75; Min of population: 799482\" role=\"graphics-symbol\" aria-roledescription=\"box\" d=\"M103,91.93652083333332h14v68.08750000000002h-14Z\" fill=\"#4c78a8\"/><path aria-label=\"population: 1978123.75; upper_box_people: 5884243.75; age: 30; Max of population: 11105750; Q3 of population: 5884243.75; Median of population: 4439810.5; Q1 of population: 1978123.75; Min of population: 639636\" role=\"graphics-symbol\" aria-roledescription=\"box\" d=\"M123,101.92927083333333h14v65.102h-14Z\" fill=\"#4c78a8\"/><path aria-label=\"population: 1742513.25; upper_box_people: 5974302.5; age: 35; Max of population: 11635647; Q3 of population: 5974302.5; Median of population: 4585153.5; Q1 of population: 1742513.25; Min of population: 505012\" role=\"graphics-symbol\" aria-roledescription=\"box\" d=\"M143,100.42829166666667h14v70.52982083333333h-14Z\" fill=\"#4c78a8\"/><path aria-label=\"population: 1430823; upper_box_people: 5711940.5; age: 40; Max of population: 11488578; Q3 of population: 5711940.5; Median of population: 3914580.5; Q1 of population: 1430823; Min of population: 428185\" role=\"graphics-symbol\" aria-roledescription=\"box\" d=\"M163,104.80099166666665h14v71.35195833333336h-14Z\" fill=\"#4c78a8\"/><path aria-label=\"population: 1211486; upper_box_people: 5473435.5; age: 45; Max of population: 10261253; Q3 of population: 5473435.5; Median of population: 3514855; Q1 of population: 1211486; Min of population: 341254\" role=\"graphics-symbol\" aria-roledescription=\"box\" d=\"M183,108.77607500000002h14v71.03249166666666h-14Z\" fill=\"#4c78a8\"/><path aria-label=\"population: 1076358.25; upper_box_people: 5205945; age: 50; Max of population: 8911133; Q3 of population: 5205945; Median of population: 2968649.5; Q1 of population: 1076358.25; Min of population: 286580\" role=\"graphics-symbol\" aria-roledescription=\"box\" d=\"M203,113.23425h14v68.82644583333334h-14Z\" fill=\"#4c78a8\"/><path aria-label=\"population: 775518.25; upper_box_people: 4672902.75; age: 55; Max of population: 6921268; Q3 of population: 4672902.75; Median of population: 2366345.5; Q1 of population: 775518.25; Min of population: 187208\" role=\"graphics-symbol\" aria-roledescription=\"box\" d=\"M223,122.1182875h14v64.95640833333336h-14Z\" fill=\"#4c78a8\"/><path aria-label=\"population: 657100.5; upper_box_people: 3959192; age: 60; Max of population: 5668961; Q3 of population: 3959192; Median of population: 1855539.5; Q1 of population: 657100.5; Min of population: 162236\" role=\"graphics-symbol\" aria-roledescription=\"box\" d=\"M243,134.01346666666666h14v55.03485833333335h-14Z\" fill=\"#4c78a8\"/><path aria-label=\"population: 437101.5; upper_box_people: 3237175.75; age: 65; Max of population: 5594108; Q3 of population: 3237175.75; Median of population: 1352293.5; Q1 of population: 437101.5; Min of population: 105534\" role=\"graphics-symbol\" aria-roledescription=\"box\" d=\"M263,146.04707083333332h14v46.66790416666666h-14Z\" fill=\"#4c78a8\"/><path aria-label=\"population: 301568.25; upper_box_people: 2472565.75; age: 70; Max of population: 5184855; Q3 of population: 2472565.75; Median of population: 918777; Q1 of population: 301568.25; Min of population: 71762\" role=\"graphics-symbol\" aria-roledescription=\"box\" d=\"M283,158.79057083333333h14v36.18329166666666h-14Z\" fill=\"#4c78a8\"/><path aria-label=\"population: 174104.5; upper_box_people: 1630845.5; age: 75; Max of population: 4355644; Q3 of population: 1630845.5; Median of population: 529545.5; Q1 of population: 174104.5; Min of population: 40229\" role=\"graphics-symbol\" aria-roledescription=\"box\" d=\"M303,172.81924166666667h14v24.279016666666678h-14Z\" fill=\"#4c78a8\"/><path aria-label=\"population: 89826.25; upper_box_people: 878854.25; age: 80; Max of population: 3221898; Q3 of population: 878854.25; Median of population: 265143.5; Q1 of population: 89826.25; Min of population: 22949\" role=\"graphics-symbol\" aria-roledescription=\"box\" d=\"M323,185.35242916666667h14v13.15046666666666h-14Z\" fill=\"#4c78a8\"/><path aria-label=\"population: 34422.25; upper_box_people: 381209.75; age: 85; Max of population: 1981156; Q3 of population: 381209.75; Median of population: 101019.5; Q1 of population: 34422.25; Min of population: 8186\" role=\"graphics-symbol\" aria-roledescription=\"box\" d=\"M343,193.64650416666666h14v5.779791666666682h-14Z\" fill=\"#4c78a8\"/><path aria-label=\"population: 15235.75; upper_box_people: 173820; age: 90; Max of population: 1064581; Q3 of population: 173820; Median of population: 37174; Q1 of population: 15235.75; Min of population: 5259\" role=\"graphics-symbol\" aria-roledescription=\"box\" d=\"M363,197.103h14v2.6430708333333257h-14Z\" fill=\"#4c78a8\"/></g><g class=\"mark-rect role-mark layer_3_marks\" aria-hidden=\"true\"><path d=\"M3,104.86021666666666h14v1h-14Z\" fill=\"white\" opacity=\"0.7\"/><path d=\"M23,103.8086h14v1h-14Z\" fill=\"white\" opacity=\"0.7\"/><path d=\"M43,107.32850833333333h14v1h-14Z\" fill=\"white\" opacity=\"0.7\"/><path d=\"M63,111.55940833333332h14v1h-14Z\" fill=\"white\" opacity=\"0.7\"/><path d=\"M83,111.3802h14v1h-14Z\" fill=\"white\" opacity=\"0.7\"/><path d=\"M103,116.33265h14v1h-14Z\" fill=\"white\" opacity=\"0.7\"/><path d=\"M123,125.50315833333333h14v1h-14Z\" fill=\"white\" opacity=\"0.7\"/><path d=\"M143,123.080775h14v1h-14Z\" fill=\"white\" opacity=\"0.7\"/><path d=\"M163,134.25699166666666h14v1h-14Z\" fill=\"white\" opacity=\"0.7\"/><path d=\"M183,140.91908333333333h14v1h-14Z\" fill=\"white\" opacity=\"0.7\"/><path d=\"M203,150.02250833333335h14v1h-14Z\" fill=\"white\" opacity=\"0.7\"/><path d=\"M223,160.06090833333334h14v1h-14Z\" fill=\"white\" opacity=\"0.7\"/><path d=\"M243,168.57434166666667h14v1h-14Z\" fill=\"white\" opacity=\"0.7\"/><path d=\"M263,176.961775h14v1h-14Z\" fill=\"white\" opacity=\"0.7\"/><path d=\"M283,184.18705h14v1h-14Z\" fill=\"white\" opacity=\"0.7\"/><path d=\"M303,190.6742416666667h14v1h-14Z\" fill=\"white\" opacity=\"0.7\"/><path d=\"M323,195.08094166666666h14v1h-14Z\" fill=\"white\" opacity=\"0.7\"/><path d=\"M343,197.8163416666667h14v1h-14Z\" fill=\"white\" opacity=\"0.7\"/><path d=\"M363,198.88043333333331h14v1h-14Z\" fill=\"white\" opacity=\"0.7\"/></g><g class=\"mark-group role-title\"><g transform=\"translate(190,-22)\"><path class=\"background\" aria-hidden=\"true\" d=\"M0,0h0v0h0Z\" pointer-events=\"none\"/><g><g class=\"mark-text role-title-text\" role=\"graphics-symbol\" aria-roledescription=\"title\" aria-label=\"Title text 'Box Plot with Min/Max Whiskers'\" pointer-events=\"none\"><text text-anchor=\"middle\" transform=\"translate(0,10)\" font-family=\"sans-serif\" font-size=\"13px\" font-weight=\"bold\" fill=\"#000\" opacity=\"1\">Box Plot with Min/Max Whiskers</text></g></g><path class=\"foreground\" aria-hidden=\"true\" d=\"\" pointer-events=\"none\" display=\"none\"/></g></g></g><path class=\"foreground\" aria-hidden=\"true\" d=\"\" display=\"none\"/></g></g></g></svg>\n"
      ],
      "text/plain": [
       "@vlplot(\n",
       "    data={\n",
       "        values=...\n",
       "    },\n",
       "    mark={\n",
       "        extent=\"min-max\",\n",
       "        type=\"boxplot\"\n",
       "    },\n",
       "    title=\"Box Plot with Min/Max Whiskers\",\n",
       "    encoding={\n",
       "        x={\n",
       "            field=\"age\",\n",
       "            type=\"ordinal\"\n",
       "        },\n",
       "        y={\n",
       "            title=\"population\",\n",
       "            field=\"people\"\n",
       "        }\n",
       "    }\n",
       ")"
      ]
     },
     "execution_count": 7,
     "metadata": {},
     "output_type": "execute_result"
    }
   ],
   "source": [
    "@vlplot(\n",
    "  data = population,\n",
    "  mark={:boxplot, extent=\"min-max\"}, # The range is the min and max\n",
    "  x = \"age:o\",\n",
    "  y = {\"people\", title = \"population\"},\n",
    "  title = \"Box Plot with Min/Max Whiskers\"\n",
    ")"
   ]
  },
  {
   "cell_type": "markdown",
   "metadata": {
    "nteract": {
     "transient": {
      "deleting": false
     }
    }
   },
   "source": [
    "## Tukey Box Plot (1.5 IQR)"
   ]
  },
  {
   "cell_type": "code",
   "execution_count": 8,
   "metadata": {
    "nteract": {
     "transient": {
      "deleting": false
     }
    },
    "tags": []
   },
   "outputs": [
    {
     "data": {
      "application/vnd.vegalite.v4+json": {
       "data": {
        "values": [
         {
          "age": 0,
          "people": 1483789,
          "sex": 1,
          "year": 1850
         },
         {
          "age": 0,
          "people": 1450376,
          "sex": 2,
          "year": 1850
         },
         {
          "age": 5,
          "people": 1411067,
          "sex": 1,
          "year": 1850
         },
         {
          "age": 5,
          "people": 1359668,
          "sex": 2,
          "year": 1850
         },
         {
          "age": 10,
          "people": 1260099,
          "sex": 1,
          "year": 1850
         },
         {
          "age": 10,
          "people": 1216114,
          "sex": 2,
          "year": 1850
         },
         {
          "age": 15,
          "people": 1077133,
          "sex": 1,
          "year": 1850
         },
         {
          "age": 15,
          "people": 1110619,
          "sex": 2,
          "year": 1850
         },
         {
          "age": 20,
          "people": 1017281,
          "sex": 1,
          "year": 1850
         },
         {
          "age": 20,
          "people": 1003841,
          "sex": 2,
          "year": 1850
         },
         {
          "age": 25,
          "people": 862547,
          "sex": 1,
          "year": 1850
         },
         {
          "age": 25,
          "people": 799482,
          "sex": 2,
          "year": 1850
         },
         {
          "age": 30,
          "people": 730638,
          "sex": 1,
          "year": 1850
         },
         {
          "age": 30,
          "people": 639636,
          "sex": 2,
          "year": 1850
         },
         {
          "age": 35,
          "people": 588487,
          "sex": 1,
          "year": 1850
         },
         {
          "age": 35,
          "people": 505012,
          "sex": 2,
          "year": 1850
         },
         {
          "age": 40,
          "people": 475911,
          "sex": 1,
          "year": 1850
         },
         {
          "age": 40,
          "people": 428185,
          "sex": 2,
          "year": 1850
         },
         {
          "age": 45,
          "people": 384211,
          "sex": 1,
          "year": 1850
         },
         {
          "age": 45,
          "people": 341254,
          "sex": 2,
          "year": 1850
         },
         {
          "age": 50,
          "people": 321343,
          "sex": 1,
          "year": 1850
         },
         {
          "age": 50,
          "people": 286580,
          "sex": 2,
          "year": 1850
         },
         {
          "age": 55,
          "people": 194080,
          "sex": 1,
          "year": 1850
         },
         {
          "age": 55,
          "people": 187208,
          "sex": 2,
          "year": 1850
         },
         {
          "age": 60,
          "people": 174976,
          "sex": 1,
          "year": 1850
         },
         {
          "age": 60,
          "people": 162236,
          "sex": 2,
          "year": 1850
         },
         {
          "age": 65,
          "people": 106827,
          "sex": 1,
          "year": 1850
         },
         {
          "age": 65,
          "people": 105534,
          "sex": 2,
          "year": 1850
         },
         {
          "age": 70,
          "people": 73677,
          "sex": 1,
          "year": 1850
         },
         {
          "age": 70,
          "people": 71762,
          "sex": 2,
          "year": 1850
         },
         {
          "age": 75,
          "people": 40834,
          "sex": 1,
          "year": 1850
         },
         {
          "age": 75,
          "people": 40229,
          "sex": 2,
          "year": 1850
         },
         {
          "age": 80,
          "people": 23449,
          "sex": 1,
          "year": 1850
         },
         {
          "age": 80,
          "people": 22949,
          "sex": 2,
          "year": 1850
         },
         {
          "age": 85,
          "people": 8186,
          "sex": 1,
          "year": 1850
         },
         {
          "age": 85,
          "people": 10511,
          "sex": 2,
          "year": 1850
         },
         {
          "age": 90,
          "people": 5259,
          "sex": 1,
          "year": 1850
         },
         {
          "age": 90,
          "people": 6569,
          "sex": 2,
          "year": 1850
         },
         {
          "age": 0,
          "people": 2120846,
          "sex": 1,
          "year": 1860
         },
         {
          "age": 0,
          "people": 2092162,
          "sex": 2,
          "year": 1860
         },
         {
          "age": 5,
          "people": 1804467,
          "sex": 1,
          "year": 1860
         },
         {
          "age": 5,
          "people": 1778772,
          "sex": 2,
          "year": 1860
         },
         {
          "age": 10,
          "people": 1612640,
          "sex": 1,
          "year": 1860
         },
         {
          "age": 10,
          "people": 1540350,
          "sex": 2,
          "year": 1860
         },
         {
          "age": 15,
          "people": 1438094,
          "sex": 1,
          "year": 1860
         },
         {
          "age": 15,
          "people": 1495999,
          "sex": 2,
          "year": 1860
         },
         {
          "age": 20,
          "people": 1351121,
          "sex": 1,
          "year": 1860
         },
         {
          "age": 20,
          "people": 1370462,
          "sex": 2,
          "year": 1860
         },
         {
          "age": 25,
          "people": 1217615,
          "sex": 1,
          "year": 1860
         },
         {
          "age": 25,
          "people": 1116373,
          "sex": 2,
          "year": 1860
         },
         {
          "age": 30,
          "people": 1043174,
          "sex": 1,
          "year": 1860
         },
         {
          "age": 30,
          "people": 936055,
          "sex": 2,
          "year": 1860
         },
         {
          "age": 35,
          "people": 866910,
          "sex": 1,
          "year": 1860
         },
         {
          "age": 35,
          "people": 737136,
          "sex": 2,
          "year": 1860
         },
         {
          "age": 40,
          "people": 699434,
          "sex": 1,
          "year": 1860
         },
         {
          "age": 40,
          "people": 616826,
          "sex": 2,
          "year": 1860
         },
         {
          "age": 45,
          "people": 552404,
          "sex": 1,
          "year": 1860
         },
         {
          "age": 45,
          "people": 461739,
          "sex": 2,
          "year": 1860
         },
         {
          "age": 50,
          "people": 456176,
          "sex": 1,
          "year": 1860
         },
         {
          "age": 50,
          "people": 407305,
          "sex": 2,
          "year": 1860
         },
         {
          "age": 55,
          "people": 292417,
          "sex": 1,
          "year": 1860
         },
         {
          "age": 55,
          "people": 267224,
          "sex": 2,
          "year": 1860
         },
         {
          "age": 60,
          "people": 260887,
          "sex": 1,
          "year": 1860
         },
         {
          "age": 60,
          "people": 249735,
          "sex": 2,
          "year": 1860
         },
         {
          "age": 65,
          "people": 149331,
          "sex": 1,
          "year": 1860
         },
         {
          "age": 65,
          "people": 141405,
          "sex": 2,
          "year": 1860
         },
         {
          "age": 70,
          "people": 98465,
          "sex": 1,
          "year": 1860
         },
         {
          "age": 70,
          "people": 101778,
          "sex": 2,
          "year": 1860
         },
         {
          "age": 75,
          "people": 56699,
          "sex": 1,
          "year": 1860
         },
         {
          "age": 75,
          "people": 57597,
          "sex": 2,
          "year": 1860
         },
         {
          "age": 80,
          "people": 29007,
          "sex": 1,
          "year": 1860
         },
         {
          "age": 80,
          "people": 29506,
          "sex": 2,
          "year": 1860
         },
         {
          "age": 85,
          "people": 10434,
          "sex": 1,
          "year": 1860
         },
         {
          "age": 85,
          "people": 14053,
          "sex": 2,
          "year": 1860
         },
         {
          "age": 90,
          "people": 7232,
          "sex": 1,
          "year": 1860
         },
         {
          "age": 90,
          "people": 6622,
          "sex": 2,
          "year": 1860
         },
         {
          "age": 0,
          "people": 2800083,
          "sex": 1,
          "year": 1870
         },
         {
          "age": 0,
          "people": 2717102,
          "sex": 2,
          "year": 1870
         },
         {
          "age": 5,
          "people": 2428469,
          "sex": 1,
          "year": 1870
         },
         {
          "age": 5,
          "people": 2393680,
          "sex": 2,
          "year": 1870
         },
         {
          "age": 10,
          "people": 2427341,
          "sex": 1,
          "year": 1870
         },
         {
          "age": 10,
          "people": 2342670,
          "sex": 2,
          "year": 1870
         },
         {
          "age": 15,
          "people": 1958390,
          "sex": 1,
          "year": 1870
         },
         {
          "age": 15,
          "people": 2077248,
          "sex": 2,
          "year": 1870
         },
         {
          "age": 20,
          "people": 1805303,
          "sex": 1,
          "year": 1870
         },
         {
          "age": 20,
          "people": 1909382,
          "sex": 2,
          "year": 1870
         },
         {
          "age": 25,
          "people": 1509059,
          "sex": 1,
          "year": 1870
         },
         {
          "age": 25,
          "people": 1574285,
          "sex": 2,
          "year": 1870
         },
         {
          "age": 30,
          "people": 1251534,
          "sex": 1,
          "year": 1870
         },
         {
          "age": 30,
          "people": 1275629,
          "sex": 2,
          "year": 1870
         },
         {
          "age": 35,
          "people": 1185336,
          "sex": 1,
          "year": 1870
         },
         {
          "age": 35,
          "people": 1137490,
          "sex": 2,
          "year": 1870
         },
         {
          "age": 40,
          "people": 968861,
          "sex": 1,
          "year": 1870
         },
         {
          "age": 40,
          "people": 944401,
          "sex": 2,
          "year": 1870
         },
         {
          "age": 45,
          "people": 852672,
          "sex": 1,
          "year": 1870
         },
         {
          "age": 45,
          "people": 747916,
          "sex": 2,
          "year": 1870
         },
         {
          "age": 50,
          "people": 736387,
          "sex": 1,
          "year": 1870
         },
         {
          "age": 50,
          "people": 637801,
          "sex": 2,
          "year": 1870
         },
         {
          "age": 55,
          "people": 486036,
          "sex": 1,
          "year": 1870
         },
         {
          "age": 55,
          "people": 407819,
          "sex": 2,
          "year": 1870
         },
         {
          "age": 60,
          "people": 399264,
          "sex": 1,
          "year": 1870
         },
         {
          "age": 60,
          "people": 374801,
          "sex": 2,
          "year": 1870
         },
         {
          "age": 65,
          "people": 260829,
          "sex": 1,
          "year": 1870
         },
         {
          "age": 65,
          "people": 239080,
          "sex": 2,
          "year": 1870
         },
         {
          "age": 70,
          "people": 173364,
          "sex": 1,
          "year": 1870
         },
         {
          "age": 70,
          "people": 165501,
          "sex": 2,
          "year": 1870
         },
         {
          "age": 75,
          "people": 86929,
          "sex": 1,
          "year": 1870
         },
         {
          "age": 75,
          "people": 89540,
          "sex": 2,
          "year": 1870
         },
         {
          "age": 80,
          "people": 47427,
          "sex": 1,
          "year": 1870
         },
         {
          "age": 80,
          "people": 54190,
          "sex": 2,
          "year": 1870
         },
         {
          "age": 85,
          "people": 15891,
          "sex": 1,
          "year": 1870
         },
         {
          "age": 85,
          "people": 19302,
          "sex": 2,
          "year": 1870
         },
         {
          "age": 90,
          "people": 8649,
          "sex": 1,
          "year": 1870
         },
         {
          "age": 90,
          "people": 13068,
          "sex": 2,
          "year": 1870
         },
         {
          "age": 0,
          "people": 3533662,
          "sex": 1,
          "year": 1880
         },
         {
          "age": 0,
          "people": 3421597,
          "sex": 2,
          "year": 1880
         },
         {
          "age": 5,
          "people": 3297503,
          "sex": 1,
          "year": 1880
         },
         {
          "age": 5,
          "people": 3179142,
          "sex": 2,
          "year": 1880
         },
         {
          "age": 10,
          "people": 2911924,
          "sex": 1,
          "year": 1880
         },
         {
          "age": 10,
          "people": 2813550,
          "sex": 2,
          "year": 1880
         },
         {
          "age": 15,
          "people": 2457734,
          "sex": 1,
          "year": 1880
         },
         {
          "age": 15,
          "people": 2527818,
          "sex": 2,
          "year": 1880
         },
         {
          "age": 20,
          "people": 2547780,
          "sex": 1,
          "year": 1880
         },
         {
          "age": 20,
          "people": 2512803,
          "sex": 2,
          "year": 1880
         },
         {
          "age": 25,
          "people": 2119393,
          "sex": 1,
          "year": 1880
         },
         {
          "age": 25,
          "people": 1974241,
          "sex": 2,
          "year": 1880
         },
         {
          "age": 30,
          "people": 1749107,
          "sex": 1,
          "year": 1880
         },
         {
          "age": 30,
          "people": 1596772,
          "sex": 2,
          "year": 1880
         },
         {
          "age": 35,
          "people": 1540772,
          "sex": 1,
          "year": 1880
         },
         {
          "age": 35,
          "people": 1483717,
          "sex": 2,
          "year": 1880
         },
         {
          "age": 40,
          "people": 1237347,
          "sex": 1,
          "year": 1880
         },
         {
          "age": 40,
          "people": 1239435,
          "sex": 2,
          "year": 1880
         },
         {
          "age": 45,
          "people": 1065973,
          "sex": 1,
          "year": 1880
         },
         {
          "age": 45,
          "people": 1003711,
          "sex": 2,
          "year": 1880
         },
         {
          "age": 50,
          "people": 964484,
          "sex": 1,
          "year": 1880
         },
         {
          "age": 50,
          "people": 863012,
          "sex": 2,
          "year": 1880
         },
         {
          "age": 55,
          "people": 679147,
          "sex": 1,
          "year": 1880
         },
         {
          "age": 55,
          "people": 594843,
          "sex": 2,
          "year": 1880
         },
         {
          "age": 60,
          "people": 580298,
          "sex": 1,
          "year": 1880
         },
         {
          "age": 60,
          "people": 526956,
          "sex": 2,
          "year": 1880
         },
         {
          "age": 65,
          "people": 369398,
          "sex": 1,
          "year": 1880
         },
         {
          "age": 65,
          "people": 346303,
          "sex": 2,
          "year": 1880
         },
         {
          "age": 70,
          "people": 255422,
          "sex": 1,
          "year": 1880
         },
         {
          "age": 70,
          "people": 251860,
          "sex": 2,
          "year": 1880
         },
         {
          "age": 75,
          "people": 141628,
          "sex": 1,
          "year": 1880
         },
         {
          "age": 75,
          "people": 143513,
          "sex": 2,
          "year": 1880
         },
         {
          "age": 80,
          "people": 67526,
          "sex": 1,
          "year": 1880
         },
         {
          "age": 80,
          "people": 77290,
          "sex": 2,
          "year": 1880
         },
         {
          "age": 85,
          "people": 22437,
          "sex": 1,
          "year": 1880
         },
         {
          "age": 85,
          "people": 31227,
          "sex": 2,
          "year": 1880
         },
         {
          "age": 90,
          "people": 10272,
          "sex": 1,
          "year": 1880
         },
         {
          "age": 90,
          "people": 15451,
          "sex": 2,
          "year": 1880
         },
         {
          "age": 0,
          "people": 4619544,
          "sex": 1,
          "year": 1900
         },
         {
          "age": 0,
          "people": 4589196,
          "sex": 2,
          "year": 1900
         },
         {
          "age": 5,
          "people": 4465783,
          "sex": 1,
          "year": 1900
         },
         {
          "age": 5,
          "people": 4390483,
          "sex": 2,
          "year": 1900
         },
         {
          "age": 10,
          "people": 4057669,
          "sex": 1,
          "year": 1900
         },
         {
          "age": 10,
          "people": 4001749,
          "sex": 2,
          "year": 1900
         },
         {
          "age": 15,
          "people": 3774846,
          "sex": 1,
          "year": 1900
         },
         {
          "age": 15,
          "people": 3801743,
          "sex": 2,
          "year": 1900
         },
         {
          "age": 20,
          "people": 3694038,
          "sex": 1,
          "year": 1900
         },
         {
          "age": 20,
          "people": 3751061,
          "sex": 2,
          "year": 1900
         },
         {
          "age": 25,
          "people": 3389280,
          "sex": 1,
          "year": 1900
         },
         {
          "age": 25,
          "people": 3236056,
          "sex": 2,
          "year": 1900
         },
         {
          "age": 30,
          "people": 2918964,
          "sex": 1,
          "year": 1900
         },
         {
          "age": 30,
          "people": 2665174,
          "sex": 2,
          "year": 1900
         },
         {
          "age": 35,
          "people": 2633883,
          "sex": 1,
          "year": 1900
         },
         {
          "age": 35,
          "people": 2347737,
          "sex": 2,
          "year": 1900
         },
         {
          "age": 40,
          "people": 2261070,
          "sex": 1,
          "year": 1900
         },
         {
          "age": 40,
          "people": 2004987,
          "sex": 2,
          "year": 1900
         },
         {
          "age": 45,
          "people": 1868413,
          "sex": 1,
          "year": 1900
         },
         {
          "age": 45,
          "people": 1648025,
          "sex": 2,
          "year": 1900
         },
         {
          "age": 50,
          "people": 1571038,
          "sex": 1,
          "year": 1900
         },
         {
          "age": 50,
          "people": 1411981,
          "sex": 2,
          "year": 1900
         },
         {
          "age": 55,
          "people": 1161908,
          "sex": 1,
          "year": 1900
         },
         {
          "age": 55,
          "people": 1064632,
          "sex": 2,
          "year": 1900
         },
         {
          "age": 60,
          "people": 916571,
          "sex": 1,
          "year": 1900
         },
         {
          "age": 60,
          "people": 887508,
          "sex": 2,
          "year": 1900
         },
         {
          "age": 65,
          "people": 672663,
          "sex": 1,
          "year": 1900
         },
         {
          "age": 65,
          "people": 640212,
          "sex": 2,
          "year": 1900
         },
         {
          "age": 70,
          "people": 454747,
          "sex": 1,
          "year": 1900
         },
         {
          "age": 70,
          "people": 440007,
          "sex": 2,
          "year": 1900
         },
         {
          "age": 75,
          "people": 268211,
          "sex": 1,
          "year": 1900
         },
         {
          "age": 75,
          "people": 265879,
          "sex": 2,
          "year": 1900
         },
         {
          "age": 80,
          "people": 127435,
          "sex": 1,
          "year": 1900
         },
         {
          "age": 80,
          "people": 132449,
          "sex": 2,
          "year": 1900
         },
         {
          "age": 85,
          "people": 44008,
          "sex": 1,
          "year": 1900
         },
         {
          "age": 85,
          "people": 48614,
          "sex": 2,
          "year": 1900
         },
         {
          "age": 90,
          "people": 15164,
          "sex": 1,
          "year": 1900
         },
         {
          "age": 90,
          "people": 20093,
          "sex": 2,
          "year": 1900
         },
         {
          "age": 0,
          "people": 5296823,
          "sex": 1,
          "year": 1910
         },
         {
          "age": 0,
          "people": 5287477,
          "sex": 2,
          "year": 1910
         },
         {
          "age": 5,
          "people": 4991803,
          "sex": 1,
          "year": 1910
         },
         {
          "age": 5,
          "people": 4866139,
          "sex": 2,
          "year": 1910
         },
         {
          "age": 10,
          "people": 4650747,
          "sex": 1,
          "year": 1910
         },
         {
          "age": 10,
          "people": 4471887,
          "sex": 2,
          "year": 1910
         },
         {
          "age": 15,
          "people": 4566154,
          "sex": 1,
          "year": 1910
         },
         {
          "age": 15,
          "people": 4592269,
          "sex": 2,
          "year": 1910
         },
         {
          "age": 20,
          "people": 4637632,
          "sex": 1,
          "year": 1910
         },
         {
          "age": 20,
          "people": 4447683,
          "sex": 2,
          "year": 1910
         },
         {
          "age": 25,
          "people": 4257755,
          "sex": 1,
          "year": 1910
         },
         {
          "age": 25,
          "people": 3946153,
          "sex": 2,
          "year": 1910
         },
         {
          "age": 30,
          "people": 3658125,
          "sex": 1,
          "year": 1910
         },
         {
          "age": 30,
          "people": 3295220,
          "sex": 2,
          "year": 1910
         },
         {
          "age": 35,
          "people": 3427518,
          "sex": 1,
          "year": 1910
         },
         {
          "age": 35,
          "people": 3088990,
          "sex": 2,
          "year": 1910
         },
         {
          "age": 40,
          "people": 2860229,
          "sex": 1,
          "year": 1910
         },
         {
          "age": 40,
          "people": 2471267,
          "sex": 2,
          "year": 1910
         },
         {
          "age": 45,
          "people": 2363801,
          "sex": 1,
          "year": 1910
         },
         {
          "age": 45,
          "people": 2114930,
          "sex": 2,
          "year": 1910
         },
         {
          "age": 50,
          "people": 2126516,
          "sex": 1,
          "year": 1910
         },
         {
          "age": 50,
          "people": 1773592,
          "sex": 2,
          "year": 1910
         },
         {
          "age": 55,
          "people": 1508358,
          "sex": 1,
          "year": 1910
         },
         {
          "age": 55,
          "people": 1317651,
          "sex": 2,
          "year": 1910
         },
         {
          "age": 60,
          "people": 1189421,
          "sex": 1,
          "year": 1910
         },
         {
          "age": 60,
          "people": 1090697,
          "sex": 2,
          "year": 1910
         },
         {
          "age": 65,
          "people": 850159,
          "sex": 1,
          "year": 1910
         },
         {
          "age": 65,
          "people": 813868,
          "sex": 2,
          "year": 1910
         },
         {
          "age": 70,
          "people": 557936,
          "sex": 1,
          "year": 1910
         },
         {
          "age": 70,
          "people": 547623,
          "sex": 2,
          "year": 1910
         },
         {
          "age": 75,
          "people": 322679,
          "sex": 1,
          "year": 1910
         },
         {
          "age": 75,
          "people": 350900,
          "sex": 2,
          "year": 1910
         },
         {
          "age": 80,
          "people": 161715,
          "sex": 1,
          "year": 1910
         },
         {
          "age": 80,
          "people": 174315,
          "sex": 2,
          "year": 1910
         },
         {
          "age": 85,
          "people": 59699,
          "sex": 1,
          "year": 1910
         },
         {
          "age": 85,
          "people": 62725,
          "sex": 2,
          "year": 1910
         },
         {
          "age": 90,
          "people": 23929,
          "sex": 1,
          "year": 1910
         },
         {
          "age": 90,
          "people": 28965,
          "sex": 2,
          "year": 1910
         },
         {
          "age": 0,
          "people": 5934792,
          "sex": 1,
          "year": 1920
         },
         {
          "age": 0,
          "people": 5694244,
          "sex": 2,
          "year": 1920
         },
         {
          "age": 5,
          "people": 5789008,
          "sex": 1,
          "year": 1920
         },
         {
          "age": 5,
          "people": 5693960,
          "sex": 2,
          "year": 1920
         },
         {
          "age": 10,
          "people": 5401156,
          "sex": 1,
          "year": 1920
         },
         {
          "age": 10,
          "people": 5293057,
          "sex": 2,
          "year": 1920
         },
         {
          "age": 15,
          "people": 4724365,
          "sex": 1,
          "year": 1920
         },
         {
          "age": 15,
          "people": 4779936,
          "sex": 2,
          "year": 1920
         },
         {
          "age": 20,
          "people": 4549411,
          "sex": 1,
          "year": 1920
         },
         {
          "age": 20,
          "people": 4742632,
          "sex": 2,
          "year": 1920
         },
         {
          "age": 25,
          "people": 4565066,
          "sex": 1,
          "year": 1920
         },
         {
          "age": 25,
          "people": 4529382,
          "sex": 2,
          "year": 1920
         },
         {
          "age": 30,
          "people": 4110771,
          "sex": 1,
          "year": 1920
         },
         {
          "age": 30,
          "people": 3982426,
          "sex": 2,
          "year": 1920
         },
         {
          "age": 35,
          "people": 4081543,
          "sex": 1,
          "year": 1920
         },
         {
          "age": 35,
          "people": 3713810,
          "sex": 2,
          "year": 1920
         },
         {
          "age": 40,
          "people": 3321923,
          "sex": 1,
          "year": 1920
         },
         {
          "age": 40,
          "people": 3059757,
          "sex": 2,
          "year": 1920
         },
         {
          "age": 45,
          "people": 3143891,
          "sex": 1,
          "year": 1920
         },
         {
          "age": 45,
          "people": 2669089,
          "sex": 2,
          "year": 1920
         },
         {
          "age": 50,
          "people": 2546035,
          "sex": 1,
          "year": 1920
         },
         {
          "age": 50,
          "people": 2200491,
          "sex": 2,
          "year": 1920
         },
         {
          "age": 55,
          "people": 1880975,
          "sex": 1,
          "year": 1920
         },
         {
          "age": 55,
          "people": 1674672,
          "sex": 2,
          "year": 1920
         },
         {
          "age": 60,
          "people": 1587549,
          "sex": 1,
          "year": 1920
         },
         {
          "age": 60,
          "people": 1382877,
          "sex": 2,
          "year": 1920
         },
         {
          "age": 65,
          "people": 1095956,
          "sex": 1,
          "year": 1920
         },
         {
          "age": 65,
          "people": 989901,
          "sex": 2,
          "year": 1920
         },
         {
          "age": 70,
          "people": 714618,
          "sex": 1,
          "year": 1920
         },
         {
          "age": 70,
          "people": 690097,
          "sex": 2,
          "year": 1920
         },
         {
          "age": 75,
          "people": 417292,
          "sex": 1,
          "year": 1920
         },
         {
          "age": 75,
          "people": 439465,
          "sex": 2,
          "year": 1920
         },
         {
          "age": 80,
          "people": 187000,
          "sex": 1,
          "year": 1920
         },
         {
          "age": 80,
          "people": 211110,
          "sex": 2,
          "year": 1920
         },
         {
          "age": 85,
          "people": 75991,
          "sex": 1,
          "year": 1920
         },
         {
          "age": 85,
          "people": 92829,
          "sex": 2,
          "year": 1920
         },
         {
          "age": 90,
          "people": 22398,
          "sex": 1,
          "year": 1920
         },
         {
          "age": 90,
          "people": 32085,
          "sex": 2,
          "year": 1920
         },
         {
          "age": 0,
          "people": 5875250,
          "sex": 1,
          "year": 1930
         },
         {
          "age": 0,
          "people": 5662530,
          "sex": 2,
          "year": 1930
         },
         {
          "age": 5,
          "people": 6542592,
          "sex": 1,
          "year": 1930
         },
         {
          "age": 5,
          "people": 6129561,
          "sex": 2,
          "year": 1930
         },
         {
          "age": 10,
          "people": 6064820,
          "sex": 1,
          "year": 1930
         },
         {
          "age": 10,
          "people": 5986529,
          "sex": 2,
          "year": 1930
         },
         {
          "age": 15,
          "people": 5709452,
          "sex": 1,
          "year": 1930
         },
         {
          "age": 15,
          "people": 5769587,
          "sex": 2,
          "year": 1930
         },
         {
          "age": 20,
          "people": 5305992,
          "sex": 1,
          "year": 1930
         },
         {
          "age": 20,
          "people": 5565382,
          "sex": 2,
          "year": 1930
         },
         {
          "age": 25,
          "people": 4929853,
          "sex": 1,
          "year": 1930
         },
         {
          "age": 25,
          "people": 5050229,
          "sex": 2,
          "year": 1930
         },
         {
          "age": 30,
          "people": 4424408,
          "sex": 1,
          "year": 1930
         },
         {
          "age": 30,
          "people": 4455213,
          "sex": 2,
          "year": 1930
         },
         {
          "age": 35,
          "people": 4576531,
          "sex": 1,
          "year": 1930
         },
         {
          "age": 35,
          "people": 4593776,
          "sex": 2,
          "year": 1930
         },
         {
          "age": 40,
          "people": 4075139,
          "sex": 1,
          "year": 1930
         },
         {
          "age": 40,
          "people": 3754022,
          "sex": 2,
          "year": 1930
         },
         {
          "age": 45,
          "people": 3633152,
          "sex": 1,
          "year": 1930
         },
         {
          "age": 45,
          "people": 3396558,
          "sex": 2,
          "year": 1930
         },
         {
          "age": 50,
          "people": 3128108,
          "sex": 1,
          "year": 1930
         },
         {
          "age": 50,
          "people": 2809191,
          "sex": 2,
          "year": 1930
         },
         {
          "age": 55,
          "people": 2434077,
          "sex": 1,
          "year": 1930
         },
         {
          "age": 55,
          "people": 2298614,
          "sex": 2,
          "year": 1930
         },
         {
          "age": 60,
          "people": 1927564,
          "sex": 1,
          "year": 1930
         },
         {
          "age": 60,
          "people": 1783515,
          "sex": 2,
          "year": 1930
         },
         {
          "age": 65,
          "people": 1397275,
          "sex": 1,
          "year": 1930
         },
         {
          "age": 65,
          "people": 1307312,
          "sex": 2,
          "year": 1930
         },
         {
          "age": 70,
          "people": 919045,
          "sex": 1,
          "year": 1930
         },
         {
          "age": 70,
          "people": 918509,
          "sex": 2,
          "year": 1930
         },
         {
          "age": 75,
          "people": 536375,
          "sex": 1,
          "year": 1930
         },
         {
          "age": 75,
          "people": 522716,
          "sex": 2,
          "year": 1930
         },
         {
          "age": 80,
          "people": 246708,
          "sex": 1,
          "year": 1930
         },
         {
          "age": 80,
          "people": 283579,
          "sex": 2,
          "year": 1930
         },
         {
          "age": 85,
          "people": 88978,
          "sex": 1,
          "year": 1930
         },
         {
          "age": 85,
          "people": 109210,
          "sex": 2,
          "year": 1930
         },
         {
          "age": 90,
          "people": 30338,
          "sex": 1,
          "year": 1930
         },
         {
          "age": 90,
          "people": 43483,
          "sex": 2,
          "year": 1930
         },
         {
          "age": 0,
          "people": 5294628,
          "sex": 1,
          "year": 1940
         },
         {
          "age": 0,
          "people": 5124653,
          "sex": 2,
          "year": 1940
         },
         {
          "age": 5,
          "people": 5468378,
          "sex": 1,
          "year": 1940
         },
         {
          "age": 5,
          "people": 5359099,
          "sex": 2,
          "year": 1940
         },
         {
          "age": 10,
          "people": 5960416,
          "sex": 1,
          "year": 1940
         },
         {
          "age": 10,
          "people": 5868532,
          "sex": 2,
          "year": 1940
         },
         {
          "age": 15,
          "people": 6165109,
          "sex": 1,
          "year": 1940
         },
         {
          "age": 15,
          "people": 6193701,
          "sex": 2,
          "year": 1940
         },
         {
          "age": 20,
          "people": 5682414,
          "sex": 1,
          "year": 1940
         },
         {
          "age": 20,
          "people": 5896002,
          "sex": 2,
          "year": 1940
         },
         {
          "age": 25,
          "people": 5438166,
          "sex": 1,
          "year": 1940
         },
         {
          "age": 25,
          "people": 5664244,
          "sex": 2,
          "year": 1940
         },
         {
          "age": 30,
          "people": 5040048,
          "sex": 1,
          "year": 1940
         },
         {
          "age": 30,
          "people": 5171522,
          "sex": 2,
          "year": 1940
         },
         {
          "age": 35,
          "people": 4724804,
          "sex": 1,
          "year": 1940
         },
         {
          "age": 35,
          "people": 4791809,
          "sex": 2,
          "year": 1940
         },
         {
          "age": 40,
          "people": 4437392,
          "sex": 1,
          "year": 1940
         },
         {
          "age": 40,
          "people": 4394061,
          "sex": 2,
          "year": 1940
         },
         {
          "age": 45,
          "people": 4190187,
          "sex": 1,
          "year": 1940
         },
         {
          "age": 45,
          "people": 4050290,
          "sex": 2,
          "year": 1940
         },
         {
          "age": 50,
          "people": 3785735,
          "sex": 1,
          "year": 1940
         },
         {
          "age": 50,
          "people": 3488396,
          "sex": 2,
          "year": 1940
         },
         {
          "age": 55,
          "people": 2972069,
          "sex": 1,
          "year": 1940
         },
         {
          "age": 55,
          "people": 2810000,
          "sex": 2,
          "year": 1940
         },
         {
          "age": 60,
          "people": 2370232,
          "sex": 1,
          "year": 1940
         },
         {
          "age": 60,
          "people": 2317790,
          "sex": 2,
          "year": 1940
         },
         {
          "age": 65,
          "people": 1897678,
          "sex": 1,
          "year": 1940
         },
         {
          "age": 65,
          "people": 1911117,
          "sex": 2,
          "year": 1940
         },
         {
          "age": 70,
          "people": 1280023,
          "sex": 1,
          "year": 1940
         },
         {
          "age": 70,
          "people": 1287711,
          "sex": 2,
          "year": 1940
         },
         {
          "age": 75,
          "people": 713875,
          "sex": 1,
          "year": 1940
         },
         {
          "age": 75,
          "people": 764915,
          "sex": 2,
          "year": 1940
         },
         {
          "age": 80,
          "people": 359418,
          "sex": 1,
          "year": 1940
         },
         {
          "age": 80,
          "people": 414761,
          "sex": 2,
          "year": 1940
         },
         {
          "age": 85,
          "people": 127303,
          "sex": 1,
          "year": 1940
         },
         {
          "age": 85,
          "people": 152131,
          "sex": 2,
          "year": 1940
         },
         {
          "age": 90,
          "people": 42263,
          "sex": 1,
          "year": 1940
         },
         {
          "age": 90,
          "people": 58119,
          "sex": 2,
          "year": 1940
         },
         {
          "age": 0,
          "people": 8211806,
          "sex": 1,
          "year": 1950
         },
         {
          "age": 0,
          "people": 7862267,
          "sex": 2,
          "year": 1950
         },
         {
          "age": 5,
          "people": 6706601,
          "sex": 1,
          "year": 1950
         },
         {
          "age": 5,
          "people": 6450863,
          "sex": 2,
          "year": 1950
         },
         {
          "age": 10,
          "people": 5629744,
          "sex": 1,
          "year": 1950
         },
         {
          "age": 10,
          "people": 5430835,
          "sex": 2,
          "year": 1950
         },
         {
          "age": 15,
          "people": 5264129,
          "sex": 1,
          "year": 1950
         },
         {
          "age": 15,
          "people": 5288742,
          "sex": 2,
          "year": 1950
         },
         {
          "age": 20,
          "people": 5573308,
          "sex": 1,
          "year": 1950
         },
         {
          "age": 20,
          "people": 5854227,
          "sex": 2,
          "year": 1950
         },
         {
          "age": 25,
          "people": 6007254,
          "sex": 1,
          "year": 1950
         },
         {
          "age": 25,
          "people": 6317332,
          "sex": 2,
          "year": 1950
         },
         {
          "age": 30,
          "people": 5676022,
          "sex": 1,
          "year": 1950
         },
         {
          "age": 30,
          "people": 5895178,
          "sex": 2,
          "year": 1950
         },
         {
          "age": 35,
          "people": 5511364,
          "sex": 1,
          "year": 1950
         },
         {
          "age": 35,
          "people": 5696261,
          "sex": 2,
          "year": 1950
         },
         {
          "age": 40,
          "people": 5076985,
          "sex": 1,
          "year": 1950
         },
         {
          "age": 40,
          "people": 5199224,
          "sex": 2,
          "year": 1950
         },
         {
          "age": 45,
          "people": 4533177,
          "sex": 1,
          "year": 1950
         },
         {
          "age": 45,
          "people": 4595842,
          "sex": 2,
          "year": 1950
         },
         {
          "age": 50,
          "people": 4199164,
          "sex": 1,
          "year": 1950
         },
         {
          "age": 50,
          "people": 4147295,
          "sex": 2,
          "year": 1950
         },
         {
          "age": 55,
          "people": 3667351,
          "sex": 1,
          "year": 1950
         },
         {
          "age": 55,
          "people": 3595158,
          "sex": 2,
          "year": 1950
         },
         {
          "age": 60,
          "people": 3035038,
          "sex": 1,
          "year": 1950
         },
         {
          "age": 60,
          "people": 3009768,
          "sex": 2,
          "year": 1950
         },
         {
          "age": 65,
          "people": 2421234,
          "sex": 1,
          "year": 1950
         },
         {
          "age": 65,
          "people": 2548250,
          "sex": 2,
          "year": 1950
         },
         {
          "age": 70,
          "people": 1627920,
          "sex": 1,
          "year": 1950
         },
         {
          "age": 70,
          "people": 1786831,
          "sex": 2,
          "year": 1950
         },
         {
          "age": 75,
          "people": 1006530,
          "sex": 1,
          "year": 1950
         },
         {
          "age": 75,
          "people": 1148469,
          "sex": 2,
          "year": 1950
         },
         {
          "age": 80,
          "people": 511727,
          "sex": 1,
          "year": 1950
         },
         {
          "age": 80,
          "people": 637717,
          "sex": 2,
          "year": 1950
         },
         {
          "age": 85,
          "people": 182821,
          "sex": 1,
          "year": 1950
         },
         {
          "age": 85,
          "people": 242798,
          "sex": 2,
          "year": 1950
         },
         {
          "age": 90,
          "people": 54836,
          "sex": 1,
          "year": 1950
         },
         {
          "age": 90,
          "people": 90766,
          "sex": 2,
          "year": 1950
         },
         {
          "age": 0,
          "people": 10374975,
          "sex": 1,
          "year": 1960
         },
         {
          "age": 0,
          "people": 10146999,
          "sex": 2,
          "year": 1960
         },
         {
          "age": 5,
          "people": 9495503,
          "sex": 1,
          "year": 1960
         },
         {
          "age": 5,
          "people": 9250741,
          "sex": 2,
          "year": 1960
         },
         {
          "age": 10,
          "people": 8563700,
          "sex": 1,
          "year": 1960
         },
         {
          "age": 10,
          "people": 8310764,
          "sex": 2,
          "year": 1960
         },
         {
          "age": 15,
          "people": 6620902,
          "sex": 1,
          "year": 1960
         },
         {
          "age": 15,
          "people": 6617493,
          "sex": 2,
          "year": 1960
         },
         {
          "age": 20,
          "people": 5268384,
          "sex": 1,
          "year": 1960
         },
         {
          "age": 20,
          "people": 5513495,
          "sex": 2,
          "year": 1960
         },
         {
          "age": 25,
          "people": 5311805,
          "sex": 1,
          "year": 1960
         },
         {
          "age": 25,
          "people": 5548259,
          "sex": 2,
          "year": 1960
         },
         {
          "age": 30,
          "people": 5801342,
          "sex": 1,
          "year": 1960
         },
         {
          "age": 30,
          "people": 6090862,
          "sex": 2,
          "year": 1960
         },
         {
          "age": 35,
          "people": 6063063,
          "sex": 1,
          "year": 1960
         },
         {
          "age": 35,
          "people": 6431337,
          "sex": 2,
          "year": 1960
         },
         {
          "age": 40,
          "people": 5657943,
          "sex": 1,
          "year": 1960
         },
         {
          "age": 40,
          "people": 5940520,
          "sex": 2,
          "year": 1960
         },
         {
          "age": 45,
          "people": 5345658,
          "sex": 1,
          "year": 1960
         },
         {
          "age": 45,
          "people": 5516028,
          "sex": 2,
          "year": 1960
         },
         {
          "age": 50,
          "people": 4763364,
          "sex": 1,
          "year": 1960
         },
         {
          "age": 50,
          "people": 4928844,
          "sex": 2,
          "year": 1960
         },
         {
          "age": 55,
          "people": 4170581,
          "sex": 1,
          "year": 1960
         },
         {
          "age": 55,
          "people": 4402878,
          "sex": 2,
          "year": 1960
         },
         {
          "age": 60,
          "people": 3405293,
          "sex": 1,
          "year": 1960
         },
         {
          "age": 60,
          "people": 3723839,
          "sex": 2,
          "year": 1960
         },
         {
          "age": 65,
          "people": 2859371,
          "sex": 1,
          "year": 1960
         },
         {
          "age": 65,
          "people": 3268699,
          "sex": 2,
          "year": 1960
         },
         {
          "age": 70,
          "people": 2115763,
          "sex": 1,
          "year": 1960
         },
         {
          "age": 70,
          "people": 2516479,
          "sex": 2,
          "year": 1960
         },
         {
          "age": 75,
          "people": 1308913,
          "sex": 1,
          "year": 1960
         },
         {
          "age": 75,
          "people": 1641371,
          "sex": 2,
          "year": 1960
         },
         {
          "age": 80,
          "people": 619923,
          "sex": 1,
          "year": 1960
         },
         {
          "age": 80,
          "people": 856952,
          "sex": 2,
          "year": 1960
         },
         {
          "age": 85,
          "people": 253245,
          "sex": 1,
          "year": 1960
         },
         {
          "age": 85,
          "people": 384572,
          "sex": 2,
          "year": 1960
         },
         {
          "age": 90,
          "people": 75908,
          "sex": 1,
          "year": 1960
         },
         {
          "age": 90,
          "people": 135774,
          "sex": 2,
          "year": 1960
         },
         {
          "age": 0,
          "people": 8685121,
          "sex": 1,
          "year": 1970
         },
         {
          "age": 0,
          "people": 8326887,
          "sex": 2,
          "year": 1970
         },
         {
          "age": 5,
          "people": 10411131,
          "sex": 1,
          "year": 1970
         },
         {
          "age": 5,
          "people": 10003293,
          "sex": 2,
          "year": 1970
         },
         {
          "age": 10,
          "people": 10756403,
          "sex": 1,
          "year": 1970
         },
         {
          "age": 10,
          "people": 10343538,
          "sex": 2,
          "year": 1970
         },
         {
          "age": 15,
          "people": 9605399,
          "sex": 1,
          "year": 1970
         },
         {
          "age": 15,
          "people": 9414284,
          "sex": 2,
          "year": 1970
         },
         {
          "age": 20,
          "people": 7729202,
          "sex": 1,
          "year": 1970
         },
         {
          "age": 20,
          "people": 8341830,
          "sex": 2,
          "year": 1970
         },
         {
          "age": 25,
          "people": 6539301,
          "sex": 1,
          "year": 1970
         },
         {
          "age": 25,
          "people": 6903041,
          "sex": 2,
          "year": 1970
         },
         {
          "age": 30,
          "people": 5519879,
          "sex": 1,
          "year": 1970
         },
         {
          "age": 30,
          "people": 5851441,
          "sex": 2,
          "year": 1970
         },
         {
          "age": 35,
          "people": 5396732,
          "sex": 1,
          "year": 1970
         },
         {
          "age": 35,
          "people": 5708021,
          "sex": 2,
          "year": 1970
         },
         {
          "age": 40,
          "people": 5718538,
          "sex": 1,
          "year": 1970
         },
         {
          "age": 40,
          "people": 6129319,
          "sex": 2,
          "year": 1970
         },
         {
          "age": 45,
          "people": 5794120,
          "sex": 1,
          "year": 1970
         },
         {
          "age": 45,
          "people": 6198742,
          "sex": 2,
          "year": 1970
         },
         {
          "age": 50,
          "people": 5298312,
          "sex": 1,
          "year": 1970
         },
         {
          "age": 50,
          "people": 5783817,
          "sex": 2,
          "year": 1970
         },
         {
          "age": 55,
          "people": 4762911,
          "sex": 1,
          "year": 1970
         },
         {
          "age": 55,
          "people": 5222164,
          "sex": 2,
          "year": 1970
         },
         {
          "age": 60,
          "people": 4037643,
          "sex": 1,
          "year": 1970
         },
         {
          "age": 60,
          "people": 4577251,
          "sex": 2,
          "year": 1970
         },
         {
          "age": 65,
          "people": 3142606,
          "sex": 1,
          "year": 1970
         },
         {
          "age": 65,
          "people": 3894827,
          "sex": 2,
          "year": 1970
         },
         {
          "age": 70,
          "people": 2340826,
          "sex": 1,
          "year": 1970
         },
         {
          "age": 70,
          "people": 3138009,
          "sex": 2,
          "year": 1970
         },
         {
          "age": 75,
          "people": 1599269,
          "sex": 1,
          "year": 1970
         },
         {
          "age": 75,
          "people": 2293376,
          "sex": 2,
          "year": 1970
         },
         {
          "age": 80,
          "people": 886155,
          "sex": 1,
          "year": 1970
         },
         {
          "age": 80,
          "people": 1417553,
          "sex": 2,
          "year": 1970
         },
         {
          "age": 85,
          "people": 371123,
          "sex": 1,
          "year": 1970
         },
         {
          "age": 85,
          "people": 658511,
          "sex": 2,
          "year": 1970
         },
         {
          "age": 90,
          "people": 186502,
          "sex": 1,
          "year": 1970
         },
         {
          "age": 90,
          "people": 314929,
          "sex": 2,
          "year": 1970
         },
         {
          "age": 0,
          "people": 8439366,
          "sex": 1,
          "year": 1980
         },
         {
          "age": 0,
          "people": 8081854,
          "sex": 2,
          "year": 1980
         },
         {
          "age": 5,
          "people": 8680730,
          "sex": 1,
          "year": 1980
         },
         {
          "age": 5,
          "people": 8275881,
          "sex": 2,
          "year": 1980
         },
         {
          "age": 10,
          "people": 9452338,
          "sex": 1,
          "year": 1980
         },
         {
          "age": 10,
          "people": 9048483,
          "sex": 2,
          "year": 1980
         },
         {
          "age": 15,
          "people": 10698856,
          "sex": 1,
          "year": 1980
         },
         {
          "age": 15,
          "people": 10410271,
          "sex": 2,
          "year": 1980
         },
         {
          "age": 20,
          "people": 10486776,
          "sex": 1,
          "year": 1980
         },
         {
          "age": 20,
          "people": 10614947,
          "sex": 2,
          "year": 1980
         },
         {
          "age": 25,
          "people": 9624053,
          "sex": 1,
          "year": 1980
         },
         {
          "age": 25,
          "people": 9827903,
          "sex": 2,
          "year": 1980
         },
         {
          "age": 30,
          "people": 8705835,
          "sex": 1,
          "year": 1980
         },
         {
          "age": 30,
          "people": 8955225,
          "sex": 2,
          "year": 1980
         },
         {
          "age": 35,
          "people": 6852069,
          "sex": 1,
          "year": 1980
         },
         {
          "age": 35,
          "people": 7134239,
          "sex": 2,
          "year": 1980
         },
         {
          "age": 40,
          "people": 5692148,
          "sex": 1,
          "year": 1980
         },
         {
          "age": 40,
          "people": 5953910,
          "sex": 2,
          "year": 1980
         },
         {
          "age": 45,
          "people": 5342469,
          "sex": 1,
          "year": 1980
         },
         {
          "age": 45,
          "people": 5697543,
          "sex": 2,
          "year": 1980
         },
         {
          "age": 50,
          "people": 5603709,
          "sex": 1,
          "year": 1980
         },
         {
          "age": 50,
          "people": 6110117,
          "sex": 2,
          "year": 1980
         },
         {
          "age": 55,
          "people": 5485098,
          "sex": 1,
          "year": 1980
         },
         {
          "age": 55,
          "people": 6160229,
          "sex": 2,
          "year": 1980
         },
         {
          "age": 60,
          "people": 4696140,
          "sex": 1,
          "year": 1980
         },
         {
          "age": 60,
          "people": 5456885,
          "sex": 2,
          "year": 1980
         },
         {
          "age": 65,
          "people": 3893510,
          "sex": 1,
          "year": 1980
         },
         {
          "age": 65,
          "people": 4896947,
          "sex": 2,
          "year": 1980
         },
         {
          "age": 70,
          "people": 2857774,
          "sex": 1,
          "year": 1980
         },
         {
          "age": 70,
          "people": 3963441,
          "sex": 2,
          "year": 1980
         },
         {
          "age": 75,
          "people": 1840438,
          "sex": 1,
          "year": 1980
         },
         {
          "age": 75,
          "people": 2951759,
          "sex": 2,
          "year": 1980
         },
         {
          "age": 80,
          "people": 1012886,
          "sex": 1,
          "year": 1980
         },
         {
          "age": 80,
          "people": 1919292,
          "sex": 2,
          "year": 1980
         },
         {
          "age": 85,
          "people": 472338,
          "sex": 1,
          "year": 1980
         },
         {
          "age": 85,
          "people": 1023115,
          "sex": 2,
          "year": 1980
         },
         {
          "age": 90,
          "people": 204148,
          "sex": 1,
          "year": 1980
         },
         {
          "age": 90,
          "people": 499046,
          "sex": 2,
          "year": 1980
         },
         {
          "age": 0,
          "people": 9307465,
          "sex": 1,
          "year": 1990
         },
         {
          "age": 0,
          "people": 8894007,
          "sex": 2,
          "year": 1990
         },
         {
          "age": 5,
          "people": 9274732,
          "sex": 1,
          "year": 1990
         },
         {
          "age": 5,
          "people": 8799955,
          "sex": 2,
          "year": 1990
         },
         {
          "age": 10,
          "people": 8782542,
          "sex": 1,
          "year": 1990
         },
         {
          "age": 10,
          "people": 8337284,
          "sex": 2,
          "year": 1990
         },
         {
          "age": 15,
          "people": 9020572,
          "sex": 1,
          "year": 1990
         },
         {
          "age": 15,
          "people": 8590991,
          "sex": 2,
          "year": 1990
         },
         {
          "age": 20,
          "people": 9436188,
          "sex": 1,
          "year": 1990
         },
         {
          "age": 20,
          "people": 9152644,
          "sex": 2,
          "year": 1990
         },
         {
          "age": 25,
          "people": 10658027,
          "sex": 1,
          "year": 1990
         },
         {
          "age": 25,
          "people": 10587292,
          "sex": 2,
          "year": 1990
         },
         {
          "age": 30,
          "people": 11028712,
          "sex": 1,
          "year": 1990
         },
         {
          "age": 30,
          "people": 11105750,
          "sex": 2,
          "year": 1990
         },
         {
          "age": 35,
          "people": 9853933,
          "sex": 1,
          "year": 1990
         },
         {
          "age": 35,
          "people": 10038644,
          "sex": 2,
          "year": 1990
         },
         {
          "age": 40,
          "people": 8712632,
          "sex": 1,
          "year": 1990
         },
         {
          "age": 40,
          "people": 8928252,
          "sex": 2,
          "year": 1990
         },
         {
          "age": 45,
          "people": 6848082,
          "sex": 1,
          "year": 1990
         },
         {
          "age": 45,
          "people": 7115129,
          "sex": 2,
          "year": 1990
         },
         {
          "age": 50,
          "people": 5553992,
          "sex": 1,
          "year": 1990
         },
         {
          "age": 50,
          "people": 5899925,
          "sex": 2,
          "year": 1990
         },
         {
          "age": 55,
          "people": 4981670,
          "sex": 1,
          "year": 1990
         },
         {
          "age": 55,
          "people": 5460506,
          "sex": 2,
          "year": 1990
         },
         {
          "age": 60,
          "people": 4953822,
          "sex": 1,
          "year": 1990
         },
         {
          "age": 60,
          "people": 5663205,
          "sex": 2,
          "year": 1990
         },
         {
          "age": 65,
          "people": 4538398,
          "sex": 1,
          "year": 1990
         },
         {
          "age": 65,
          "people": 5594108,
          "sex": 2,
          "year": 1990
         },
         {
          "age": 70,
          "people": 3429420,
          "sex": 1,
          "year": 1990
         },
         {
          "age": 70,
          "people": 4610222,
          "sex": 2,
          "year": 1990
         },
         {
          "age": 75,
          "people": 2344932,
          "sex": 1,
          "year": 1990
         },
         {
          "age": 75,
          "people": 3723980,
          "sex": 2,
          "year": 1990
         },
         {
          "age": 80,
          "people": 1342996,
          "sex": 1,
          "year": 1990
         },
         {
          "age": 80,
          "people": 2545730,
          "sex": 2,
          "year": 1990
         },
         {
          "age": 85,
          "people": 588790,
          "sex": 1,
          "year": 1990
         },
         {
          "age": 85,
          "people": 1419494,
          "sex": 2,
          "year": 1990
         },
         {
          "age": 90,
          "people": 238459,
          "sex": 1,
          "year": 1990
         },
         {
          "age": 90,
          "people": 745146,
          "sex": 2,
          "year": 1990
         },
         {
          "age": 0,
          "people": 9735380,
          "sex": 1,
          "year": 2000
         },
         {
          "age": 0,
          "people": 9310714,
          "sex": 2,
          "year": 2000
         },
         {
          "age": 5,
          "people": 10552146,
          "sex": 1,
          "year": 2000
         },
         {
          "age": 5,
          "people": 10069564,
          "sex": 2,
          "year": 2000
         },
         {
          "age": 10,
          "people": 10563233,
          "sex": 1,
          "year": 2000
         },
         {
          "age": 10,
          "people": 10022524,
          "sex": 2,
          "year": 2000
         },
         {
          "age": 15,
          "people": 10237419,
          "sex": 1,
          "year": 2000
         },
         {
          "age": 15,
          "people": 9692669,
          "sex": 2,
          "year": 2000
         },
         {
          "age": 20,
          "people": 9731315,
          "sex": 1,
          "year": 2000
         },
         {
          "age": 20,
          "people": 9324244,
          "sex": 2,
          "year": 2000
         },
         {
          "age": 25,
          "people": 9659493,
          "sex": 1,
          "year": 2000
         },
         {
          "age": 25,
          "people": 9518507,
          "sex": 2,
          "year": 2000
         },
         {
          "age": 30,
          "people": 10205879,
          "sex": 1,
          "year": 2000
         },
         {
          "age": 30,
          "people": 10119296,
          "sex": 2,
          "year": 2000
         },
         {
          "age": 35,
          "people": 11475182,
          "sex": 1,
          "year": 2000
         },
         {
          "age": 35,
          "people": 11635647,
          "sex": 2,
          "year": 2000
         },
         {
          "age": 40,
          "people": 11320252,
          "sex": 1,
          "year": 2000
         },
         {
          "age": 40,
          "people": 11488578,
          "sex": 2,
          "year": 2000
         },
         {
          "age": 45,
          "people": 9925006,
          "sex": 1,
          "year": 2000
         },
         {
          "age": 45,
          "people": 10261253,
          "sex": 2,
          "year": 2000
         },
         {
          "age": 50,
          "people": 8507934,
          "sex": 1,
          "year": 2000
         },
         {
          "age": 50,
          "people": 8911133,
          "sex": 2,
          "year": 2000
         },
         {
          "age": 55,
          "people": 6459082,
          "sex": 1,
          "year": 2000
         },
         {
          "age": 55,
          "people": 6921268,
          "sex": 2,
          "year": 2000
         },
         {
          "age": 60,
          "people": 5123399,
          "sex": 1,
          "year": 2000
         },
         {
          "age": 60,
          "people": 5668961,
          "sex": 2,
          "year": 2000
         },
         {
          "age": 65,
          "people": 4453623,
          "sex": 1,
          "year": 2000
         },
         {
          "age": 65,
          "people": 4804784,
          "sex": 2,
          "year": 2000
         },
         {
          "age": 70,
          "people": 3792145,
          "sex": 1,
          "year": 2000
         },
         {
          "age": 70,
          "people": 5184855,
          "sex": 2,
          "year": 2000
         },
         {
          "age": 75,
          "people": 2912655,
          "sex": 1,
          "year": 2000
         },
         {
          "age": 75,
          "people": 4355644,
          "sex": 2,
          "year": 2000
         },
         {
          "age": 80,
          "people": 1902638,
          "sex": 1,
          "year": 2000
         },
         {
          "age": 80,
          "people": 3221898,
          "sex": 2,
          "year": 2000
         },
         {
          "age": 85,
          "people": 970357,
          "sex": 1,
          "year": 2000
         },
         {
          "age": 85,
          "people": 1981156,
          "sex": 2,
          "year": 2000
         },
         {
          "age": 90,
          "people": 336303,
          "sex": 1,
          "year": 2000
         },
         {
          "age": 90,
          "people": 1064581,
          "sex": 2,
          "year": 2000
         }
        ]
       },
       "encoding": {
        "x": {
         "field": "age",
         "type": "ordinal"
        },
        "y": {
         "field": "people",
         "title": "population",
         "type": "quantitative"
        }
       },
       "mark": {
        "extent": "1.5",
        "type": "boxplot"
       },
       "title": "Tukey Box Plot (1.5 IQR)"
      },
      "image/png": "[encoded data removed]",
      "image/svg+xml": [
       "<?xml version=\"1.0\" encoding=\"utf-8\"?>\n",
       "<!DOCTYPE svg PUBLIC \"-//W3C//DTD SVG 1.1//EN\" \"http://www.w3.org/Graphics/SVG/1.1/DTD/svg11.dtd\">\n",
       "<svg xmlns=\"http://www.w3.org/2000/svg\" xmlns:xlink=\"http://www.w3.org/1999/xlink\" version=\"1.1\" class=\"marks\" width=\"466\" height=\"266\" viewBox=\"0 0 466 266\"><rect width=\"466\" height=\"266\" fill=\"white\"/><g fill=\"none\" stroke-miterlimit=\"10\" transform=\"translate(81,27)\"><g class=\"mark-group role-frame root\" role=\"graphics-object\" aria-roledescription=\"group mark container\"><g transform=\"translate(0,0)\"><path class=\"background\" aria-hidden=\"true\" d=\"M0.5,0.5h380v200h-380Z\" stroke=\"#ddd\"/><g><g class=\"mark-group role-axis\" aria-hidden=\"true\"><g transform=\"translate(0.5,0.5)\"><path class=\"background\" aria-hidden=\"true\" d=\"M0,0h0v0h0Z\" pointer-events=\"none\"/><g><g class=\"mark-rule role-axis-grid\" pointer-events=\"none\"><line transform=\"translate(0,200)\" x2=\"380\" y2=\"0\" stroke=\"#ddd\" stroke-width=\"1\" opacity=\"1\"/><line transform=\"translate(0,167)\" x2=\"380\" y2=\"0\" stroke=\"#ddd\" stroke-width=\"1\" opacity=\"1\"/><line transform=\"translate(0,133)\" x2=\"380\" y2=\"0\" stroke=\"#ddd\" stroke-width=\"1\" opacity=\"1\"/><line transform=\"translate(0,100)\" x2=\"380\" y2=\"0\" stroke=\"#ddd\" stroke-width=\"1\" opacity=\"1\"/><line transform=\"translate(0,67)\" x2=\"380\" y2=\"0\" stroke=\"#ddd\" stroke-width=\"1\" opacity=\"1\"/><line transform=\"translate(0,33)\" x2=\"380\" y2=\"0\" stroke=\"#ddd\" stroke-width=\"1\" opacity=\"1\"/><line transform=\"translate(0,0)\" x2=\"380\" y2=\"0\" stroke=\"#ddd\" stroke-width=\"1\" opacity=\"1\"/></g></g><path class=\"foreground\" aria-hidden=\"true\" d=\"\" pointer-events=\"none\" display=\"none\"/></g></g><g class=\"mark-group role-axis\" role=\"graphics-symbol\" aria-roledescription=\"axis\" aria-label=\"X-axis titled 'age' for a discrete scale with 19 values: 0, 5, 10, 15, 20, ending with 90\"><g transform=\"translate(0.5,200.5)\"><path class=\"background\" aria-hidden=\"true\" d=\"M0,0h0v0h0Z\" pointer-events=\"none\"/><g><g class=\"mark-rule role-axis-tick\" pointer-events=\"none\"><line transform=\"translate(10,0)\" x2=\"0\" y2=\"5\" stroke=\"#888\" stroke-width=\"1\" opacity=\"1\"/><line transform=\"translate(30,0)\" x2=\"0\" y2=\"5\" stroke=\"#888\" stroke-width=\"1\" opacity=\"1\"/><line transform=\"translate(50,0)\" x2=\"0\" y2=\"5\" stroke=\"#888\" stroke-width=\"1\" opacity=\"1\"/><line transform=\"translate(70,0)\" x2=\"0\" y2=\"5\" stroke=\"#888\" stroke-width=\"1\" opacity=\"1\"/><line transform=\"translate(90,0)\" x2=\"0\" y2=\"5\" stroke=\"#888\" stroke-width=\"1\" opacity=\"1\"/><line transform=\"translate(110,0)\" x2=\"0\" y2=\"5\" stroke=\"#888\" stroke-width=\"1\" opacity=\"1\"/><line transform=\"translate(130,0)\" x2=\"0\" y2=\"5\" stroke=\"#888\" stroke-width=\"1\" opacity=\"1\"/><line transform=\"translate(150,0)\" x2=\"0\" y2=\"5\" stroke=\"#888\" stroke-width=\"1\" opacity=\"1\"/><line transform=\"translate(170,0)\" x2=\"0\" y2=\"5\" stroke=\"#888\" stroke-width=\"1\" opacity=\"1\"/><line transform=\"translate(190,0)\" x2=\"0\" y2=\"5\" stroke=\"#888\" stroke-width=\"1\" opacity=\"1\"/><line transform=\"translate(210,0)\" x2=\"0\" y2=\"5\" stroke=\"#888\" stroke-width=\"1\" opacity=\"1\"/><line transform=\"translate(230,0)\" x2=\"0\" y2=\"5\" stroke=\"#888\" stroke-width=\"1\" opacity=\"1\"/><line transform=\"translate(250,0)\" x2=\"0\" y2=\"5\" stroke=\"#888\" stroke-width=\"1\" opacity=\"1\"/><line transform=\"translate(270,0)\" x2=\"0\" y2=\"5\" stroke=\"#888\" stroke-width=\"1\" opacity=\"1\"/><line transform=\"translate(290,0)\" x2=\"0\" y2=\"5\" stroke=\"#888\" stroke-width=\"1\" opacity=\"1\"/><line transform=\"translate(310,0)\" x2=\"0\" y2=\"5\" stroke=\"#888\" stroke-width=\"1\" opacity=\"1\"/><line transform=\"translate(330,0)\" x2=\"0\" y2=\"5\" stroke=\"#888\" stroke-width=\"1\" opacity=\"1\"/><line transform=\"translate(350,0)\" x2=\"0\" y2=\"5\" stroke=\"#888\" stroke-width=\"1\" opacity=\"1\"/><line transform=\"translate(370,0)\" x2=\"0\" y2=\"5\" stroke=\"#888\" stroke-width=\"1\" opacity=\"1\"/></g><g class=\"mark-text role-axis-label\" pointer-events=\"none\"><text text-anchor=\"end\" transform=\"translate(9.5,7) rotate(270) translate(0,3)\" font-family=\"sans-serif\" font-size=\"10px\" fill=\"#000\" opacity=\"1\">0</text><text text-anchor=\"end\" transform=\"translate(29.5,7) rotate(270) translate(0,3)\" font-family=\"sans-serif\" font-size=\"10px\" fill=\"#000\" opacity=\"1\">5</text><text text-anchor=\"end\" transform=\"translate(49.5,7) rotate(270) translate(0,3)\" font-family=\"sans-serif\" font-size=\"10px\" fill=\"#000\" opacity=\"1\">10</text><text text-anchor=\"end\" transform=\"translate(69.5,7) rotate(270) translate(0,3)\" font-family=\"sans-serif\" font-size=\"10px\" fill=\"#000\" opacity=\"1\">15</text><text text-anchor=\"end\" transform=\"translate(89.5,7) rotate(270) translate(0,3)\" font-family=\"sans-serif\" font-size=\"10px\" fill=\"#000\" opacity=\"1\">20</text><text text-anchor=\"end\" transform=\"translate(109.5,7) rotate(270) translate(0,3)\" font-family=\"sans-serif\" font-size=\"10px\" fill=\"#000\" opacity=\"1\">25</text><text text-anchor=\"end\" transform=\"translate(129.5,7) rotate(270) translate(0,3)\" font-family=\"sans-serif\" font-size=\"10px\" fill=\"#000\" opacity=\"1\">30</text><text text-anchor=\"end\" transform=\"translate(149.5,7) rotate(270) translate(0,3)\" font-family=\"sans-serif\" font-size=\"10px\" fill=\"#000\" opacity=\"1\">35</text><text text-anchor=\"end\" transform=\"translate(169.5,7) rotate(270) translate(0,3)\" font-family=\"sans-serif\" font-size=\"10px\" fill=\"#000\" opacity=\"1\">40</text><text text-anchor=\"end\" transform=\"translate(189.5,7) rotate(270) translate(0,3)\" font-family=\"sans-serif\" font-size=\"10px\" fill=\"#000\" opacity=\"1\">45</text><text text-anchor=\"end\" transform=\"translate(209.5,7) rotate(270) translate(0,3)\" font-family=\"sans-serif\" font-size=\"10px\" fill=\"#000\" opacity=\"1\">50</text><text text-anchor=\"end\" transform=\"translate(229.5,7) rotate(270) translate(0,3)\" font-family=\"sans-serif\" font-size=\"10px\" fill=\"#000\" opacity=\"1\">55</text><text text-anchor=\"end\" transform=\"translate(249.5,7) rotate(270) translate(0,3)\" font-family=\"sans-serif\" font-size=\"10px\" fill=\"#000\" opacity=\"1\">60</text><text text-anchor=\"end\" transform=\"translate(269.5,7) rotate(270) translate(0,3)\" font-family=\"sans-serif\" font-size=\"10px\" fill=\"#000\" opacity=\"1\">65</text><text text-anchor=\"end\" transform=\"translate(289.5,7) rotate(270) translate(0,3)\" font-family=\"sans-serif\" font-size=\"10px\" fill=\"#000\" opacity=\"1\">70</text><text text-anchor=\"end\" transform=\"translate(309.5,7) rotate(270) translate(0,3)\" font-family=\"sans-serif\" font-size=\"10px\" fill=\"#000\" opacity=\"1\">75</text><text text-anchor=\"end\" transform=\"translate(329.5,7) rotate(270) translate(0,3)\" font-family=\"sans-serif\" font-size=\"10px\" fill=\"#000\" opacity=\"1\">80</text><text text-anchor=\"end\" transform=\"translate(349.5,7) rotate(270) translate(0,3)\" font-family=\"sans-serif\" font-size=\"10px\" fill=\"#000\" opacity=\"1\">85</text><text text-anchor=\"end\" transform=\"translate(369.5,7) rotate(270) translate(0,3)\" font-family=\"sans-serif\" font-size=\"10px\" fill=\"#000\" opacity=\"1\">90</text></g><g class=\"mark-rule role-axis-domain\" pointer-events=\"none\"><line transform=\"translate(0,0)\" x2=\"380\" y2=\"0\" stroke=\"#888\" stroke-width=\"1\" opacity=\"1\"/></g><g class=\"mark-text role-axis-title\" pointer-events=\"none\"><text text-anchor=\"middle\" transform=\"translate(190,32)\" font-family=\"sans-serif\" font-size=\"11px\" font-weight=\"bold\" fill=\"#000\" opacity=\"1\">age</text></g></g><path class=\"foreground\" aria-hidden=\"true\" d=\"\" pointer-events=\"none\" display=\"none\"/></g></g><g class=\"mark-group role-axis\" role=\"graphics-symbol\" aria-roledescription=\"axis\" aria-label=\"Y-axis titled 'population' for a linear scale with values from 0 to 12,000,000\"><g transform=\"translate(0.5,0.5)\"><path class=\"background\" aria-hidden=\"true\" d=\"M0,0h0v0h0Z\" pointer-events=\"none\"/><g><g class=\"mark-rule role-axis-tick\" pointer-events=\"none\"><line transform=\"translate(0,200)\" x2=\"-5\" y2=\"0\" stroke=\"#888\" stroke-width=\"1\" opacity=\"1\"/><line transform=\"translate(0,167)\" x2=\"-5\" y2=\"0\" stroke=\"#888\" stroke-width=\"1\" opacity=\"1\"/><line transform=\"translate(0,133)\" x2=\"-5\" y2=\"0\" stroke=\"#888\" stroke-width=\"1\" opacity=\"1\"/><line transform=\"translate(0,100)\" x2=\"-5\" y2=\"0\" stroke=\"#888\" stroke-width=\"1\" opacity=\"1\"/><line transform=\"translate(0,67)\" x2=\"-5\" y2=\"0\" stroke=\"#888\" stroke-width=\"1\" opacity=\"1\"/><line transform=\"translate(0,33)\" x2=\"-5\" y2=\"0\" stroke=\"#888\" stroke-width=\"1\" opacity=\"1\"/><line transform=\"translate(0,0)\" x2=\"-5\" y2=\"0\" stroke=\"#888\" stroke-width=\"1\" opacity=\"1\"/></g><g class=\"mark-text role-axis-label\" pointer-events=\"none\"><text text-anchor=\"end\" transform=\"translate(-7,203)\" font-family=\"sans-serif\" font-size=\"10px\" fill=\"#000\" opacity=\"1\">0</text><text text-anchor=\"end\" transform=\"translate(-7,169.66666666666669)\" font-family=\"sans-serif\" font-size=\"10px\" fill=\"#000\" opacity=\"1\">2,000,000</text><text text-anchor=\"end\" transform=\"translate(-7,136.33333333333334)\" font-family=\"sans-serif\" font-size=\"10px\" fill=\"#000\" opacity=\"1\">4,000,000</text><text text-anchor=\"end\" transform=\"translate(-7,103)\" font-family=\"sans-serif\" font-size=\"10px\" fill=\"#000\" opacity=\"1\">6,000,000</text><text text-anchor=\"end\" transform=\"translate(-7,69.66666666666667)\" font-family=\"sans-serif\" font-size=\"10px\" fill=\"#000\" opacity=\"1\">8,000,000</text><text text-anchor=\"end\" transform=\"translate(-7,36.33333333333333)\" font-family=\"sans-serif\" font-size=\"10px\" fill=\"#000\" opacity=\"1\">10,000,000</text><text text-anchor=\"end\" transform=\"translate(-7,3)\" font-family=\"sans-serif\" font-size=\"10px\" fill=\"#000\" opacity=\"1\">12,000,000</text></g><g class=\"mark-rule role-axis-domain\" pointer-events=\"none\"><line transform=\"translate(0,200)\" x2=\"0\" y2=\"-200\" stroke=\"#888\" stroke-width=\"1\" opacity=\"1\"/></g><g class=\"mark-text role-axis-title\" pointer-events=\"none\"><text text-anchor=\"middle\" transform=\"translate(-65,100) rotate(-90) translate(0,-2)\" font-family=\"sans-serif\" font-size=\"11px\" font-weight=\"bold\" fill=\"#000\" opacity=\"1\">population</text></g></g><path class=\"foreground\" aria-hidden=\"true\" d=\"\" pointer-events=\"none\" display=\"none\"/></g></g><g class=\"mark-symbol role-mark layer_0_layer_0_marks\" role=\"graphics-object\" aria-roledescription=\"symbol mark container\"><path aria-label=\"population: 1023115; age: 85\" role=\"graphics-symbol\" aria-roledescription=\"point\" transform=\"translate(350,182.94808333333333)\" d=\"M2.7386127875258306,0A2.7386127875258306,2.7386127875258306,0,1,1,-2.7386127875258306,0A2.7386127875258306,2.7386127875258306,0,1,1,2.7386127875258306,0\" stroke=\"#4c78a8\" stroke-width=\"2\" opacity=\"0.7\"/><path aria-label=\"population: 499046; age: 90\" role=\"graphics-symbol\" aria-roledescription=\"point\" transform=\"translate(370,191.68256666666667)\" d=\"M2.7386127875258306,0A2.7386127875258306,2.7386127875258306,0,1,1,-2.7386127875258306,0A2.7386127875258306,2.7386127875258306,0,1,1,2.7386127875258306,0\" stroke=\"#4c78a8\" stroke-width=\"2\" opacity=\"0.7\"/><path aria-label=\"population: 2545730; age: 80\" role=\"graphics-symbol\" aria-roledescription=\"point\" transform=\"translate(330,157.57116666666667)\" d=\"M2.7386127875258306,0A2.7386127875258306,2.7386127875258306,0,1,1,-2.7386127875258306,0A2.7386127875258306,2.7386127875258306,0,1,1,2.7386127875258306,0\" stroke=\"#4c78a8\" stroke-width=\"2\" opacity=\"0.7\"/><path aria-label=\"population: 1419494; age: 85\" role=\"graphics-symbol\" aria-roledescription=\"point\" transform=\"translate(350,176.34176666666667)\" d=\"M2.7386127875258306,0A2.7386127875258306,2.7386127875258306,0,1,1,-2.7386127875258306,0A2.7386127875258306,2.7386127875258306,0,1,1,2.7386127875258306,0\" stroke=\"#4c78a8\" stroke-width=\"2\" opacity=\"0.7\"/><path aria-label=\"population: 745146; age: 90\" role=\"graphics-symbol\" aria-roledescription=\"point\" transform=\"translate(370,187.5809)\" d=\"M2.7386127875258306,0A2.7386127875258306,2.7386127875258306,0,1,1,-2.7386127875258306,0A2.7386127875258306,2.7386127875258306,0,1,1,2.7386127875258306,0\" stroke=\"#4c78a8\" stroke-width=\"2\" opacity=\"0.7\"/><path aria-label=\"population: 4355644; age: 75\" role=\"graphics-symbol\" aria-roledescription=\"point\" transform=\"translate(310,127.40593333333332)\" d=\"M2.7386127875258306,0A2.7386127875258306,2.7386127875258306,0,1,1,-2.7386127875258306,0A2.7386127875258306,2.7386127875258306,0,1,1,2.7386127875258306,0\" stroke=\"#4c78a8\" stroke-width=\"2\" opacity=\"0.7\"/><path aria-label=\"population: 3221898; age: 80\" role=\"graphics-symbol\" aria-roledescription=\"point\" transform=\"translate(330,146.3017)\" d=\"M2.7386127875258306,0A2.7386127875258306,2.7386127875258306,0,1,1,-2.7386127875258306,0A2.7386127875258306,2.7386127875258306,0,1,1,2.7386127875258306,0\" stroke=\"#4c78a8\" stroke-width=\"2\" opacity=\"0.7\"/><path aria-label=\"population: 970357; age: 85\" role=\"graphics-symbol\" aria-roledescription=\"point\" transform=\"translate(350,183.82738333333333)\" d=\"M2.7386127875258306,0A2.7386127875258306,2.7386127875258306,0,1,1,-2.7386127875258306,0A2.7386127875258306,2.7386127875258306,0,1,1,2.7386127875258306,0\" stroke=\"#4c78a8\" stroke-width=\"2\" opacity=\"0.7\"/><path aria-label=\"population: 1981156; age: 85\" role=\"graphics-symbol\" aria-roledescription=\"point\" transform=\"translate(350,166.98073333333335)\" d=\"M2.7386127875258306,0A2.7386127875258306,2.7386127875258306,0,1,1,-2.7386127875258306,0A2.7386127875258306,2.7386127875258306,0,1,1,2.7386127875258306,0\" stroke=\"#4c78a8\" stroke-width=\"2\" opacity=\"0.7\"/><path aria-label=\"population: 1064581; age: 90\" role=\"graphics-symbol\" aria-roledescription=\"point\" transform=\"translate(370,182.25698333333332)\" d=\"M2.7386127875258306,0A2.7386127875258306,2.7386127875258306,0,1,1,-2.7386127875258306,0A2.7386127875258306,2.7386127875258306,0,1,1,2.7386127875258306,0\" stroke=\"#4c78a8\" stroke-width=\"2\" opacity=\"0.7\"/></g><g class=\"mark-rule role-mark layer_0_layer_1_layer_0_marks\" aria-hidden=\"true\"><line transform=\"translate(10,175.82706666666667)\" x2=\"0\" y2=\"-39.11949166666665\" stroke=\"black\"/><line transform=\"translate(30,177.33886666666666)\" x2=\"0\" y2=\"-36.851333333333315\" stroke=\"black\"/><line transform=\"translate(50,179.73143333333334)\" x2=\"0\" y2=\"-32.804437500000006\" stroke=\"black\"/><line transform=\"translate(70,182.04778333333334)\" x2=\"0\" y2=\"-29.37403333333333\" stroke=\"black\"/><line transform=\"translate(90,183.26931666666667)\" x2=\"0\" y2=\"-30.508391666666654\" stroke=\"black\"/><line transform=\"translate(110,186.67530000000002)\" x2=\"0\" y2=\"-26.651279166666683\" stroke=\"black\"/><line transform=\"translate(130,189.3394)\" x2=\"0\" y2=\"-22.308129166666674\" stroke=\"black\"/><line transform=\"translate(150,191.5831333333333)\" x2=\"0\" y2=\"-20.62502083333331\" stroke=\"black\"/><line transform=\"translate(170,192.86358333333334)\" x2=\"0\" y2=\"-16.710633333333334\" stroke=\"black\"/><line transform=\"translate(190,194.31243333333333)\" x2=\"0\" y2=\"-14.503866666666653\" stroke=\"black\"/><line transform=\"translate(210,195.22366666666667)\" x2=\"0\" y2=\"-13.162970833333333\" stroke=\"black\"/><line transform=\"translate(230,196.87986666666666)\" x2=\"0\" y2=\"-9.805170833333307\" stroke=\"black\"/><line transform=\"translate(250,197.29606666666666)\" x2=\"0\" y2=\"-8.247741666666656\" stroke=\"black\"/><line transform=\"translate(270,198.2411)\" x2=\"0\" y2=\"-5.5261250000000075\" stroke=\"black\"/><line transform=\"translate(290,198.80396666666667)\" x2=\"0\" y2=\"-3.830104166666672\" stroke=\"black\"/><line transform=\"translate(310,199.32951666666668)\" x2=\"0\" y2=\"-2.2312583333333293\" stroke=\"black\"/><line transform=\"translate(330,199.61751666666666)\" x2=\"0\" y2=\"-1.1146208333333334\" stroke=\"black\"/><line transform=\"translate(350,199.86356666666666)\" x2=\"0\" y2=\"-0.43727083333331507\" stroke=\"black\"/><line transform=\"translate(370,199.91235)\" x2=\"0\" y2=\"-0.1662791666666692\" stroke=\"black\"/></g><g class=\"mark-rule role-mark layer_0_layer_1_layer_1_marks\" aria-hidden=\"true\"><line transform=\"translate(10,59.8125625)\" x2=\"0\" y2=\"-32.72881249999999\" stroke=\"black\"/><line transform=\"translate(30,53.83085416666666)\" x2=\"0\" y2=\"-29.69995416666666\" stroke=\"black\"/><line transform=\"translate(50,58.21506666666667)\" x2=\"0\" y2=\"-37.48845000000001\" stroke=\"black\"/><line transform=\"translate(70,65.02552083333333)\" x2=\"0\" y2=\"-43.33978750000001\" stroke=\"black\"/><line transform=\"translate(90,78.81830000000001)\" x2=\"0\" y2=\"-55.73408333333334\" stroke=\"black\"/><line transform=\"translate(110,91.93652083333332)\" x2=\"0\" y2=\"-69.57030416666665\" stroke=\"black\"/><line transform=\"translate(130,101.92927083333333)\" x2=\"0\" y2=\"-87.02510416666667\" stroke=\"black\"/><line transform=\"translate(150,100.42829166666667)\" x2=\"0\" y2=\"-94.35574166666667\" stroke=\"black\"/><line transform=\"translate(170,104.80099166666665)\" x2=\"0\" y2=\"-96.27729166666664\" stroke=\"black\"/><line transform=\"translate(190,108.77607500000002)\" x2=\"0\" y2=\"-79.79695833333336\" stroke=\"black\"/><line transform=\"translate(210,113.23425)\" x2=\"0\" y2=\"-61.753133333333345\" stroke=\"black\"/><line transform=\"translate(230,122.1182875)\" x2=\"0\" y2=\"-37.47275416666666\" stroke=\"black\"/><line transform=\"translate(250,134.01346666666666)\" x2=\"0\" y2=\"-28.49615\" stroke=\"black\"/><line transform=\"translate(270,146.04707083333332)\" x2=\"0\" y2=\"-39.28220416666666\" stroke=\"black\"/><line transform=\"translate(290,158.79057083333333)\" x2=\"0\" y2=\"-45.20482083333334\" stroke=\"black\"/><line transform=\"translate(310,172.81924166666667)\" x2=\"0\" y2=\"-34.88557500000002\" stroke=\"black\"/><line transform=\"translate(330,185.35242916666667)\" x2=\"0\" y2=\"-17.340629166666673\" stroke=\"black\"/><line transform=\"translate(350,193.64650416666666)\" x2=\"0\" y2=\"-4.621687500000007\" stroke=\"black\"/><line transform=\"translate(370,197.103)\" x2=\"0\" y2=\"-2.7080500000000143\" stroke=\"black\"/></g><g class=\"mark-rule role-mark layer_1_layer_0_marks\" aria-hidden=\"true\"><line transform=\"translate(10,175.82706666666667)\" x2=\"0\" y2=\"-39.11949166666665\" stroke=\"black\"/><line transform=\"translate(30,177.33886666666666)\" x2=\"0\" y2=\"-36.851333333333315\" stroke=\"black\"/><line transform=\"translate(50,179.73143333333334)\" x2=\"0\" y2=\"-32.804437500000006\" stroke=\"black\"/><line transform=\"translate(70,182.04778333333334)\" x2=\"0\" y2=\"-29.37403333333333\" stroke=\"black\"/><line transform=\"translate(90,183.26931666666667)\" x2=\"0\" y2=\"-30.508391666666654\" stroke=\"black\"/><line transform=\"translate(110,186.67530000000002)\" x2=\"0\" y2=\"-26.651279166666683\" stroke=\"black\"/><line transform=\"translate(130,189.3394)\" x2=\"0\" y2=\"-22.308129166666674\" stroke=\"black\"/><line transform=\"translate(150,191.5831333333333)\" x2=\"0\" y2=\"-20.62502083333331\" stroke=\"black\"/><line transform=\"translate(170,192.86358333333334)\" x2=\"0\" y2=\"-16.710633333333334\" stroke=\"black\"/><line transform=\"translate(190,194.31243333333333)\" x2=\"0\" y2=\"-14.503866666666653\" stroke=\"black\"/><line transform=\"translate(210,195.22366666666667)\" x2=\"0\" y2=\"-13.162970833333333\" stroke=\"black\"/><line transform=\"translate(230,196.87986666666666)\" x2=\"0\" y2=\"-9.805170833333307\" stroke=\"black\"/><line transform=\"translate(250,197.29606666666666)\" x2=\"0\" y2=\"-8.247741666666656\" stroke=\"black\"/><line transform=\"translate(270,198.2411)\" x2=\"0\" y2=\"-5.5261250000000075\" stroke=\"black\"/><line transform=\"translate(290,198.80396666666667)\" x2=\"0\" y2=\"-3.830104166666672\" stroke=\"black\"/><line transform=\"translate(310,199.32951666666668)\" x2=\"0\" y2=\"-2.2312583333333293\" stroke=\"black\"/><line transform=\"translate(330,199.61751666666666)\" x2=\"0\" y2=\"-1.1146208333333334\" stroke=\"black\"/><line transform=\"translate(350,199.86356666666666)\" x2=\"0\" y2=\"-0.43727083333331507\" stroke=\"black\"/><line transform=\"translate(370,199.91235)\" x2=\"0\" y2=\"-0.1662791666666692\" stroke=\"black\"/></g><g class=\"mark-rule role-mark layer_1_layer_1_marks\" aria-hidden=\"true\"><line transform=\"translate(10,59.8125625)\" x2=\"0\" y2=\"-32.72881249999999\" stroke=\"black\"/><line transform=\"translate(30,53.83085416666666)\" x2=\"0\" y2=\"-29.69995416666666\" stroke=\"black\"/><line transform=\"translate(50,58.21506666666667)\" x2=\"0\" y2=\"-37.48845000000001\" stroke=\"black\"/><line transform=\"translate(70,65.02552083333333)\" x2=\"0\" y2=\"-43.33978750000001\" stroke=\"black\"/><line transform=\"translate(90,78.81830000000001)\" x2=\"0\" y2=\"-55.73408333333334\" stroke=\"black\"/><line transform=\"translate(110,91.93652083333332)\" x2=\"0\" y2=\"-69.57030416666665\" stroke=\"black\"/><line transform=\"translate(130,101.92927083333333)\" x2=\"0\" y2=\"-87.02510416666667\" stroke=\"black\"/><line transform=\"translate(150,100.42829166666667)\" x2=\"0\" y2=\"-94.35574166666667\" stroke=\"black\"/><line transform=\"translate(170,104.80099166666665)\" x2=\"0\" y2=\"-96.27729166666664\" stroke=\"black\"/><line transform=\"translate(190,108.77607500000002)\" x2=\"0\" y2=\"-79.79695833333336\" stroke=\"black\"/><line transform=\"translate(210,113.23425)\" x2=\"0\" y2=\"-61.753133333333345\" stroke=\"black\"/><line transform=\"translate(230,122.1182875)\" x2=\"0\" y2=\"-37.47275416666666\" stroke=\"black\"/><line transform=\"translate(250,134.01346666666666)\" x2=\"0\" y2=\"-28.49615\" stroke=\"black\"/><line transform=\"translate(270,146.04707083333332)\" x2=\"0\" y2=\"-39.28220416666666\" stroke=\"black\"/><line transform=\"translate(290,158.79057083333333)\" x2=\"0\" y2=\"-45.20482083333334\" stroke=\"black\"/><line transform=\"translate(310,172.81924166666667)\" x2=\"0\" y2=\"-36.41852500000002\" stroke=\"black\"/><line transform=\"translate(330,185.35242916666667)\" x2=\"0\" y2=\"-19.725700000000018\" stroke=\"black\"/><line transform=\"translate(350,193.64650416666666)\" x2=\"0\" y2=\"-8.66968749999998\" stroke=\"black\"/><line transform=\"translate(370,197.103)\" x2=\"0\" y2=\"-3.9646062500000028\" stroke=\"black\"/></g><g class=\"mark-rect role-mark layer_1_layer_2_marks\" role=\"graphics-object\" aria-roledescription=\"rect mark container\"><path aria-label=\"population: 3797545.5; upper_box_people: 8411246.25; age: 0; Max of population: 10374975; Q3 of population: 8411246.25; Median of population: 5678387; Q1 of population: 3797545.5; Min of population: 1450376\" role=\"graphics-symbol\" aria-roledescription=\"box\" d=\"M3,59.8125625h14v76.89501250000002h-14Z\" fill=\"#4c78a8\"/><path aria-label=\"population: 3570748; upper_box_people: 8770148.75; age: 5; Max of population: 10552146; Q3 of population: 8770148.75; Median of population: 5741484; Q1 of population: 3570748; Min of population: 1359668\" role=\"graphics-symbol\" aria-roledescription=\"box\" d=\"M23,53.83085416666666h14v86.65667916666669h-14Z\" fill=\"#4c78a8\"/><path aria-label=\"population: 3184380.25; upper_box_people: 8507096; age: 10; Max of population: 10756403; Q3 of population: 8507096; Median of population: 5530289.5; Q1 of population: 3184380.25; Min of population: 1216114\" role=\"graphics-symbol\" aria-roledescription=\"box\" d=\"M43,58.21506666666667h14v88.71192916666666h-14Z\" fill=\"#4c78a8\"/><path aria-label=\"population: 2839575; upper_box_people: 8098468.75; age: 15; Max of population: 10698856; Q3 of population: 8098468.75; Median of population: 5276435.5; Q1 of population: 2839575; Min of population: 1077133\" role=\"graphics-symbol\" aria-roledescription=\"box\" d=\"M63,65.02552083333333h14v87.64822916666668h-14Z\" fill=\"#4c78a8\"/><path aria-label=\"population: 2834344.5; upper_box_people: 7270902; age: 20; Max of population: 10614947; Q3 of population: 7270902; Median of population: 5287188; Q1 of population: 2834344.5; Min of population: 1003841\" role=\"graphics-symbol\" aria-roledescription=\"box\" d=\"M83,78.81830000000001h14v73.942625h-14Z\" fill=\"#4c78a8\"/><path aria-label=\"population: 2398558.75; upper_box_people: 6483808.75; age: 25; Max of population: 10658027; Q3 of population: 6483808.75; Median of population: 4990041; Q1 of population: 2398558.75; Min of population: 799482\" role=\"graphics-symbol\" aria-roledescription=\"box\" d=\"M103,91.93652083333332h14v68.08750000000002h-14Z\" fill=\"#4c78a8\"/><path aria-label=\"population: 1978123.75; upper_box_people: 5884243.75; age: 30; Max of population: 11105750; Q3 of population: 5884243.75; Median of population: 4439810.5; Q1 of population: 1978123.75; Min of population: 639636\" role=\"graphics-symbol\" aria-roledescription=\"box\" d=\"M123,101.92927083333333h14v65.102h-14Z\" fill=\"#4c78a8\"/><path aria-label=\"population: 1742513.25; upper_box_people: 5974302.5; age: 35; Max of population: 11635647; Q3 of population: 5974302.5; Median of population: 4585153.5; Q1 of population: 1742513.25; Min of population: 505012\" role=\"graphics-symbol\" aria-roledescription=\"box\" d=\"M143,100.42829166666667h14v70.52982083333333h-14Z\" fill=\"#4c78a8\"/><path aria-label=\"population: 1430823; upper_box_people: 5711940.5; age: 40; Max of population: 11488578; Q3 of population: 5711940.5; Median of population: 3914580.5; Q1 of population: 1430823; Min of population: 428185\" role=\"graphics-symbol\" aria-roledescription=\"box\" d=\"M163,104.80099166666665h14v71.35195833333336h-14Z\" fill=\"#4c78a8\"/><path aria-label=\"population: 1211486; upper_box_people: 5473435.5; age: 45; Max of population: 10261253; Q3 of population: 5473435.5; Median of population: 3514855; Q1 of population: 1211486; Min of population: 341254\" role=\"graphics-symbol\" aria-roledescription=\"box\" d=\"M183,108.77607500000002h14v71.03249166666666h-14Z\" fill=\"#4c78a8\"/><path aria-label=\"population: 1076358.25; upper_box_people: 5205945; age: 50; Max of population: 8911133; Q3 of population: 5205945; Median of population: 2968649.5; Q1 of population: 1076358.25; Min of population: 286580\" role=\"graphics-symbol\" aria-roledescription=\"box\" d=\"M203,113.23425h14v68.82644583333334h-14Z\" fill=\"#4c78a8\"/><path aria-label=\"population: 775518.25; upper_box_people: 4672902.75; age: 55; Max of population: 6921268; Q3 of population: 4672902.75; Median of population: 2366345.5; Q1 of population: 775518.25; Min of population: 187208\" role=\"graphics-symbol\" aria-roledescription=\"box\" d=\"M223,122.1182875h14v64.95640833333336h-14Z\" fill=\"#4c78a8\"/><path aria-label=\"population: 657100.5; upper_box_people: 3959192; age: 60; Max of population: 5668961; Q3 of population: 3959192; Median of population: 1855539.5; Q1 of population: 657100.5; Min of population: 162236\" role=\"graphics-symbol\" aria-roledescription=\"box\" d=\"M243,134.01346666666666h14v55.03485833333335h-14Z\" fill=\"#4c78a8\"/><path aria-label=\"population: 437101.5; upper_box_people: 3237175.75; age: 65; Max of population: 5594108; Q3 of population: 3237175.75; Median of population: 1352293.5; Q1 of population: 437101.5; Min of population: 105534\" role=\"graphics-symbol\" aria-roledescription=\"box\" d=\"M263,146.04707083333332h14v46.66790416666666h-14Z\" fill=\"#4c78a8\"/><path aria-label=\"population: 301568.25; upper_box_people: 2472565.75; age: 70; Max of population: 5184855; Q3 of population: 2472565.75; Median of population: 918777; Q1 of population: 301568.25; Min of population: 71762\" role=\"graphics-symbol\" aria-roledescription=\"box\" d=\"M283,158.79057083333333h14v36.18329166666666h-14Z\" fill=\"#4c78a8\"/><path aria-label=\"population: 174104.5; upper_box_people: 1630845.5; age: 75; Max of population: 4355644; Q3 of population: 1630845.5; Median of population: 529545.5; Q1 of population: 174104.5; Min of population: 40229\" role=\"graphics-symbol\" aria-roledescription=\"box\" d=\"M303,172.81924166666667h14v24.279016666666678h-14Z\" fill=\"#4c78a8\"/><path aria-label=\"population: 89826.25; upper_box_people: 878854.25; age: 80; Max of population: 3221898; Q3 of population: 878854.25; Median of population: 265143.5; Q1 of population: 89826.25; Min of population: 22949\" role=\"graphics-symbol\" aria-roledescription=\"box\" d=\"M323,185.35242916666667h14v13.15046666666666h-14Z\" fill=\"#4c78a8\"/><path aria-label=\"population: 34422.25; upper_box_people: 381209.75; age: 85; Max of population: 1981156; Q3 of population: 381209.75; Median of population: 101019.5; Q1 of population: 34422.25; Min of population: 8186\" role=\"graphics-symbol\" aria-roledescription=\"box\" d=\"M343,193.64650416666666h14v5.779791666666682h-14Z\" fill=\"#4c78a8\"/><path aria-label=\"population: 15235.75; upper_box_people: 173820; age: 90; Max of population: 1064581; Q3 of population: 173820; Median of population: 37174; Q1 of population: 15235.75; Min of population: 5259\" role=\"graphics-symbol\" aria-roledescription=\"box\" d=\"M363,197.103h14v2.6430708333333257h-14Z\" fill=\"#4c78a8\"/></g><g class=\"mark-rect role-mark layer_1_layer_3_marks\" aria-hidden=\"true\"><path d=\"M3,104.86021666666666h14v1h-14Z\" fill=\"white\" opacity=\"0.7\"/><path d=\"M23,103.8086h14v1h-14Z\" fill=\"white\" opacity=\"0.7\"/><path d=\"M43,107.32850833333333h14v1h-14Z\" fill=\"white\" opacity=\"0.7\"/><path d=\"M63,111.55940833333332h14v1h-14Z\" fill=\"white\" opacity=\"0.7\"/><path d=\"M83,111.3802h14v1h-14Z\" fill=\"white\" opacity=\"0.7\"/><path d=\"M103,116.33265h14v1h-14Z\" fill=\"white\" opacity=\"0.7\"/><path d=\"M123,125.50315833333333h14v1h-14Z\" fill=\"white\" opacity=\"0.7\"/><path d=\"M143,123.080775h14v1h-14Z\" fill=\"white\" opacity=\"0.7\"/><path d=\"M163,134.25699166666666h14v1h-14Z\" fill=\"white\" opacity=\"0.7\"/><path d=\"M183,140.91908333333333h14v1h-14Z\" fill=\"white\" opacity=\"0.7\"/><path d=\"M203,150.02250833333335h14v1h-14Z\" fill=\"white\" opacity=\"0.7\"/><path d=\"M223,160.06090833333334h14v1h-14Z\" fill=\"white\" opacity=\"0.7\"/><path d=\"M243,168.57434166666667h14v1h-14Z\" fill=\"white\" opacity=\"0.7\"/><path d=\"M263,176.961775h14v1h-14Z\" fill=\"white\" opacity=\"0.7\"/><path d=\"M283,184.18705h14v1h-14Z\" fill=\"white\" opacity=\"0.7\"/><path d=\"M303,190.6742416666667h14v1h-14Z\" fill=\"white\" opacity=\"0.7\"/><path d=\"M323,195.08094166666666h14v1h-14Z\" fill=\"white\" opacity=\"0.7\"/><path d=\"M343,197.8163416666667h14v1h-14Z\" fill=\"white\" opacity=\"0.7\"/><path d=\"M363,198.88043333333331h14v1h-14Z\" fill=\"white\" opacity=\"0.7\"/></g><g class=\"mark-group role-title\"><g transform=\"translate(190,-22)\"><path class=\"background\" aria-hidden=\"true\" d=\"M0,0h0v0h0Z\" pointer-events=\"none\"/><g><g class=\"mark-text role-title-text\" role=\"graphics-symbol\" aria-roledescription=\"title\" aria-label=\"Title text 'Tukey Box Plot (1.5 IQR)'\" pointer-events=\"none\"><text text-anchor=\"middle\" transform=\"translate(0,10)\" font-family=\"sans-serif\" font-size=\"13px\" font-weight=\"bold\" fill=\"#000\" opacity=\"1\">Tukey Box Plot (1.5 IQR)</text></g></g><path class=\"foreground\" aria-hidden=\"true\" d=\"\" pointer-events=\"none\" display=\"none\"/></g></g></g><path class=\"foreground\" aria-hidden=\"true\" d=\"\" display=\"none\"/></g></g></g></svg>\n"
      ],
      "text/plain": [
       "@vlplot(\n",
       "    data={\n",
       "        values=...\n",
       "    },\n",
       "    mark={\n",
       "        extent=\"1.5\",\n",
       "        type=\"boxplot\"\n",
       "    },\n",
       "    title=\"Tukey Box Plot (1.5 IQR)\",\n",
       "    encoding={\n",
       "        x={\n",
       "            field=\"age\",\n",
       "            type=\"ordinal\"\n",
       "        },\n",
       "        y={\n",
       "            title=\"population\",\n",
       "            field=\"people\"\n",
       "        }\n",
       "    }\n",
       ")"
      ]
     },
     "execution_count": 8,
     "metadata": {},
     "output_type": "execute_result"
    }
   ],
   "source": [
    "@vlplot(\n",
    "  data = population,\n",
    "  mark={:boxplot, extent=\"1.5\"}, # The extent is 1.5sd\n",
    "  x = \"age:o\",\n",
    "  y = {\"people\", title = \"population\"},\n",
    "  title = \"Tukey Box Plot (1.5 IQR)\"\n",
    ")"
   ]
  }
 ],
 "metadata": {
  "kernel_info": {
   "name": "julia-1.4"
  },
  "kernelspec": {
   "display_name": "Julia 1.7.1",
   "language": "julia",
   "name": "julia-1.7"
  },
  "language_info": {
   "file_extension": ".jl",
   "mimetype": "application/julia",
   "name": "julia",
   "version": "1.7.1"
  },
  "nteract": {
   "version": "0.25.1"
  }
 },
 "nbformat": 4,
 "nbformat_minor": 4
}
